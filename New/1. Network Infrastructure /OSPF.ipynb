{
 "cells": [
  {
   "cell_type": "markdown",
   "metadata": {},
   "source": [
    "# Cisco Blueprint "
   ]
  },
  {
   "cell_type": "markdown",
   "metadata": {},
   "source": [
    "# INE Notes "
   ]
  },
  {
   "cell_type": "markdown",
   "metadata": {},
   "source": [
    "## Overview \n",
    "\n",
    "### OSPF Resources\n",
    "1. Anatomy of Internet protocol OSPF \n",
    "2. Routing TCP/IP vol 1\n",
    "3. RFC 2328 OSPFv2\n",
    "4. RFC 5340 OSPFv3\n",
    "\n",
    "### What is OSPF\n",
    "* Open standard IGP \n",
    "    * OSPFv2 : rfc 2328 \n",
    "    * OSPFv3 : rfc 5340\n",
    "* Link state protocol - used dijkstra's SPF algorithm \n",
    "* classelss protocol - supports VLSM and summarizaton. Ther are limitation on summarization point (ABR, ASBR) in order to maintain hierarchy in the LSRP.\n",
    "\n",
    "### Why use OSPF ?\n",
    "* __Gurantees loop free topology__ : all router builds exact same topology table, which then supplied into SPF, since every SPF gets same input the output is also deterministic thus, the loop free outcome is guranteed. \n",
    "* __Standard based__ : Interoperable between multiple vendors\n",
    "* __Large Scalability__ : higheracical routing through Arias and topology summarization. \n",
    "* __Fast convergence__ : Actively track neighbours adjacencies and event driven incrimental updates \n",
    "* __Efficient Updates__ : Uses reliable multicast and unicast packets, non-ospf device don't need to process updates (unlike RIP that uses bradcast). \n",
    "* __Bandwidth based cost metric__ : better than hop count. \n",
    "* __Control plane Security__ : support multiple measures to be safe from MITM attacks e.g. MD5, SHA, IPSec etc. \n",
    "* __Extensible__ : future application support through \"Opaque\" LSA, e.g. MPLS traffic engineering \n",
    "\n",
    "### How OSPF Works ? \n",
    "1. discover OSPF neighbours and exchange topology information\n",
    "2. choose best path via SPF\n",
    "3. Neighbour and topology table maintainance \n",
    "\n",
    "### Step 1 : Neighbour and topology discovary \n",
    "* Like EIGRP, OSPF uses hello packets to discover neigbours on OSPF enabled attacjed links \n",
    "    * Transport via IP protocol number 89\n",
    "    * sent as multicast 224.0.0.6 or 224.0.0.5 or unicast \n",
    "* Hello packets contains attributes that neighbours must agree on to form \"Adjacency\"\n",
    "    * once negotiated, LSDB is exchanged. \n",
    "* Unique attributes \n",
    "    1. Router ID : node id in the link state graph, can be set manually or chosen automatically with the presidence of highest active loopback then highest active interface. \n",
    "    2. Interface IP address \n",
    "* Common Attribtes : Needs to match \n",
    "    1. Interface Area-ID \n",
    "    2. Hello and Dead interval \n",
    "    3. Interface Network ID\n",
    "    4. MTU\n",
    "    5. Network Type : Point-to-point, broadcast , point-to-multipoint \n",
    "    6. Authentication \n",
    "    7. Stub Flag\n",
    "* OSPF Hello packet \n",
    "    * sent periodically using Hello_interval through OSPF enabled links \n",
    "* OSPF Adjacency state machine \n",
    "    1. __Down__ : No hellos have been received from the neighbour \n",
    "    2. __Attempt__ : \n",
    "        + Unicast hello packets have been sent but no hello is recived \n",
    "        + Only used for manually configured NBMA neighbours \n",
    "    3. __Init__ :\n",
    "        + I have received a hello packet from a neighbour, but they have not acknowledged a hello from me\n",
    "    4. __2 Way__ :\n",
    "        + I have received a hello packet from my neighbour, and they have acknowledged a hello from me. \n",
    "        + Indicated by my RID in neighbours hello packets \n",
    "    5. __ExStart__ : \n",
    "        + First step to actual adjacencies \n",
    "        + master and slave relationship is formed, master has higher RID \n",
    "        + Master chooses the starting sequence number for the Database descriptor (DBD) packers that are used for actual LSA exchange \n",
    "    6. __Exchange__ :\n",
    "        + local LSDB is sent through DBD packets \n",
    "        + DBD sequence number is used for reliable ack/re-trans \n",
    "    7. __Loading__:\n",
    "        + Link-state request (LSR) packets are sent to ask for more information about a particular LSA \n",
    "    8. __Full__ :\n",
    "        + Neighbours are fully adjacent and databases are synchonised. \n",
    "    \n",
    "### Step 2: Choose Best path via SPF\n",
    "* Once database is sync path selection begins \n",
    "* each router's LSA includes a cost attribute for each described link \n",
    "    - best path to that that link with lowest end-to-end cost \n",
    "    - Equal cost multi-path (ECMP) load balancing \n",
    "* bandwidth based cost \n",
    "    - $cost = \\frac{\\text{ref BW}}{\\text{link BW}}$ , ref. BW =100M by default\n",
    "    \n",
    "### Step 3: Neighbour & Topology Maintainence \n",
    "* "
   ]
  },
  {
   "cell_type": "code",
   "execution_count": null,
   "metadata": {},
   "outputs": [],
   "source": []
  }
 ],
 "metadata": {
  "kernelspec": {
   "display_name": "Python 3",
   "language": "python",
   "name": "python3"
  },
  "language_info": {
   "codemirror_mode": {
    "name": "ipython",
    "version": 3
   },
   "file_extension": ".py",
   "mimetype": "text/x-python",
   "name": "python",
   "nbconvert_exporter": "python",
   "pygments_lexer": "ipython3",
   "version": "3.7.7"
  }
 },
 "nbformat": 4,
 "nbformat_minor": 4
}

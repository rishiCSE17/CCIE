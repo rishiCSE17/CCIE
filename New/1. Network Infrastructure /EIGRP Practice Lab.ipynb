{
 "cells": [
  {
   "cell_type": "markdown",
   "metadata": {},
   "source": [
    "# Tasks\n",
    "\n",
    "|router|interface|ASN|\n",
    "|:---|:---|:---|\n",
    "|R1 | f1/0 | 200 | \n",
    "|   | s2/0 | 100 |\n",
    "|   | s2/1 | 100 |\n",
    "|   | s2/2 | 100 |\n",
    "|R2 | f1/0 | 200 |\n",
    "|   | f0/0 | 100 |\n",
    "|   | s2/0 | 100 |\n",
    "|R3 | f0/0 | 100 |\n",
    "|   | s2/0 | 100 |\n",
    "|R4 | s2/0 | 100 |\n",
    "|R5 | s2/0 | 100 |\n",
    "|R6 | f0/0 | 200 |\n",
    "\n",
    "1. Setup the DMVPN with mGRE over the frame relaty network between R1, R4 and R5\n",
    "2. Configure R1,R2 and R3 as        \n",
    "    1. configure EIGRP in named mode as follows. \n",
    "        * R1 must make unicast neighbourship with R2 and multicast with R3\n",
    "        * R1 must connect to R4 and R5 over unicast \n",
    "        * Run OSPF on R7 and communicate with R6\n",
    "        * Make redistribution to make a full make connetivity \n",
    "     \n",
    "    \n",
    "\n",
    "\n",
    "   \n",
    "      "
   ]
  },
  {
   "cell_type": "code",
   "execution_count": null,
   "metadata": {},
   "outputs": [],
   "source": []
  },
  {
   "cell_type": "code",
   "execution_count": null,
   "metadata": {},
   "outputs": [],
   "source": []
  }
 ],
 "metadata": {
  "kernelspec": {
   "display_name": "Python 3",
   "language": "python",
   "name": "python3"
  },
  "language_info": {
   "codemirror_mode": {
    "name": "ipython",
    "version": 3
   },
   "file_extension": ".py",
   "mimetype": "text/x-python",
   "name": "python",
   "nbconvert_exporter": "python",
   "pygments_lexer": "ipython3",
   "version": "3.7.7"
  }
 },
 "nbformat": 4,
 "nbformat_minor": 4
}

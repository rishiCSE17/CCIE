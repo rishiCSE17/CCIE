{
 "cells": [
  {
   "cell_type": "markdown",
   "metadata": {},
   "source": [
    "# Foundation "
   ]
  },
  {
   "cell_type": "markdown",
   "metadata": {},
   "source": [
    "Obejct oriented programming (OOP) and Procedure oriented programming (POP) are two design schools of writing codes. \n",
    "* __POP__ - program as a set of procedure or functions each of which represents a squence of instruction (e.g. a cookbook) \n",
    "* __OOP__ - programs works on an environment, comprised of objects, instantiated from a class. Each has some attributes and can perform some methods.  \n",
    "\n",
    "|     | POP | OOP |\n",
    "|---  | --- | --- |\n",
    "|pros | simlicity | reusability/scalability |\n",
    "|cons | tackling complex design | overhead | \n",
    "\n",
    "Object orientation is not a programming language but a programming paradigm. other paradigm s are __Logic programmin__ (e.g. Prolog, LISP) and __Functional Programming__ (e.g. R, Haskel, MATLAB)\n",
    "\n",
    "## Objects\n",
    "An object is an instance of a template called class. A class represents the concept that an object represents, two objects of same class are similar but not same. An object carries __Attributes__ that defines the properties, __Methods__ that tells how to manipulate those attributes. Objects can be embedded into other objects for better __Modularity__. Each object has an Unique __Identity__ to get distingushed, and is __self contained__ with its private memory.  \n",
    "\n",
    "3 main properties of an object ( _\"I am\"_ )\n",
    "1. __Identity__ : given during instantiation. \n",
    "2. __Attributes__ : defined during class definition, allocated during instantiation. \n",
    "3. __Method__ : Defined during class definiation. "
   ]
  },
  {
   "cell_type": "markdown",
   "metadata": {},
   "source": [
    "## Class \n",
    "A class is a template of an obeject, it defines the concept based on which its object would be instantiated. The components are.\n",
    "* __Name__ : for identification\n",
    "* __Attributes__ : going to be attributes of the objects of the subhected class. The vlaues of the attribute would be given after instantiation. \n",
    "* __Method__ : Similar to function but with a key difference, it is contained within a class. e.g. `func(x)` vs `x.func()`\n",
    "\n",
    "Most OOP languages come with a basic sets of classes inbuilt as a part of __Standard Library__, so the programmer don't have to start from scratch unless he wants to create more complex or customised classes using those basic ones called __Abstract Data Type (ADT)__. \n",
    "\n",
    "| Language | Standard Lib |\n",
    "| ---      | ---          |\n",
    "| Java     | Java class lib |\n",
    "| .Net     | BSL            |\n",
    "| C++      | C++ Standard lib | \n",
    "| Ruby     | Ruby Standard lib|\n",
    "| Python   | Python Standard lib|"
   ]
  },
  {
   "cell_type": "code",
   "execution_count": 9,
   "metadata": {},
   "outputs": [
    {
     "name": "stdout",
     "output_type": "stream",
     "text": [
      "per1 is an adult\n",
      "per2 is a minor\n"
     ]
    }
   ],
   "source": [
    "# POP example \n",
    "persons = [ {'name' : 'per1', 'age' : 20},\n",
    "           {'name' : 'per2', 'age' : 15} ]\n",
    "\n",
    "def is_adult(p):\n",
    "    if p['age'] < 18:\n",
    "        print(p['name'],'is a minor')\n",
    "    else:\n",
    "        print(p['name'],'is an adult')\n",
    "\n",
    "for p in persons:\n",
    "    is_adult(p)"
   ]
  },
  {
   "cell_type": "code",
   "execution_count": 16,
   "metadata": {},
   "outputs": [
    {
     "name": "stdout",
     "output_type": "stream",
     "text": [
      "per1 is an adult\n",
      "per2 is a minor\n"
     ]
    }
   ],
   "source": [
    "# OOP example\n",
    "class Person:\n",
    "    name=None\n",
    "    age=0\n",
    "    \n",
    "    def __init__(self, name, age): #Constructor\n",
    "        self.name = name\n",
    "        self.age = age\n",
    "    def is_adult(self):\n",
    "        if self.age < 18: \n",
    "            print(self.name,'is a minor')\n",
    "        else:\n",
    "            print(self.name,'is an adult')\n",
    "        \n",
    "Persons = [Person('per1',20), \n",
    "           Person('per2', 15)]\n",
    "\n",
    "for p in Persons:\n",
    "    p.is_adult()"
   ]
  },
  {
   "cell_type": "code",
   "execution_count": 81,
   "metadata": {
    "scrolled": true
   },
   "outputs": [
    {
     "name": "stdout",
     "output_type": "stream",
     "text": [
      " 139726456867984 : <__main__.Person object at 0x7f1499d3cc90> \n",
      " 139726463462736 : <__main__.Person object at 0x7f149a386d50> \n",
      " 139726456792272 : <__main__.Person object at 0x7f1499d2a4d0> \n"
     ]
    }
   ],
   "source": [
    "# object identity\n",
    "for i in Persons:\n",
    "    print(f' {id(i)} : {i} ')"
   ]
  },
  {
   "cell_type": "markdown",
   "metadata": {},
   "source": [
    "## A Pie\n",
    "4 features of a OOP language \n",
    "1. __Abstarction__ : Foccussing on essisial components,  regardless of its instantiation. __Abstracting__ or ignoring redundant components \n",
    "2. __Polymorphism__ : Many form of same thing, __Poly = Many__ and __Morphosis = Formation__ \n",
    "3. __Inheritence__ : Reuse definition from existing classes (Generalization to Specialization). \n",
    "    - __Sinlge__: One base to one derived \n",
    "    - __Multiple__: One derived class inherites from multiple classes \n",
    "    - __Multi-lavel__: Derived class inherits from its parant that inherits from the base \n",
    "    - __Higherachical__: Multiple classes derived methods from single base \n",
    "    - __Hybrid__: Any mix of the above\n",
    "4. __Encapsulation__ : Restriction of accessing memeber attributes.\n",
    "    - it makes you modify any member atribute according to a method specified in that class (__Black-Boxing__)\n",
    "    - prevents any accidental update that perhaps make the program unstable "
   ]
  },
  {
   "cell_type": "markdown",
   "metadata": {},
   "source": [
    "### Polymorphism"
   ]
  },
  {
   "cell_type": "code",
   "execution_count": 19,
   "metadata": {},
   "outputs": [
    {
     "name": "stdout",
     "output_type": "stream",
     "text": [
      "test1 12\n",
      "test2 3\n"
     ]
    }
   ],
   "source": [
    "# basic example \n",
    "print('test1','1' + '2') # + as concat\n",
    "print('test2',1 + 2)     # + as add"
   ]
  },
  {
   "cell_type": "code",
   "execution_count": 82,
   "metadata": {},
   "outputs": [
    {
     "name": "stdout",
     "output_type": "stream",
     "text": [
      "Name :  None\n",
      "Age  :  0\n",
      "\n",
      "Name :  per1\n",
      "Age  :  0\n",
      "\n",
      "Name :  per1\n",
      "Age  :  15\n",
      "\n"
     ]
    }
   ],
   "source": [
    "class Person:\n",
    "    name=None\n",
    "    age=0\n",
    "    \n",
    "    def set_details(self, name=None, age=0):\n",
    "        self.name = name\n",
    "        self.age = age\n",
    "           \n",
    "    def show_details(self):\n",
    "        print('Name : ',self.name)\n",
    "        print('Age  : ',self.age)\n",
    "\n",
    "Persons = [Person(), Person(), Person()]       \n",
    "Persons[0].set_details()\n",
    "Persons[1].set_details('per1')\n",
    "Persons[2].set_details('per1',15)\n",
    "\n",
    "for p in Persons:\n",
    "    p.show_details() \n",
    "    print()"
   ]
  },
  {
   "cell_type": "markdown",
   "metadata": {},
   "source": [
    "Lets simulate the overloading behaviour through an ADT"
   ]
  },
  {
   "cell_type": "code",
   "execution_count": 57,
   "metadata": {},
   "outputs": [
    {
     "name": "stdout",
     "output_type": "stream",
     "text": [
      "c=11 \t <class 'int'> + <class 'int'> = <class 'int'>\n",
      "c=11.0 \t <class 'float'> + <class 'int'> = <class 'float'>\n",
      "c=56 \t <class 'str'> + <class 'str'> = <class 'str'>\n"
     ]
    }
   ],
   "source": [
    "a=[5, 5.0 , '5']\n",
    "b=[6,6,'6']\n",
    "\n",
    "for i in range(len(a)):\n",
    "    c = a[i] + b[i]\n",
    "    print(f'c={c} \\t {type(a[i])} + {type(b[i])} = {type(c)}')\n"
   ]
  },
  {
   "cell_type": "code",
   "execution_count": 58,
   "metadata": {},
   "outputs": [
    {
     "name": "stdout",
     "output_type": "stream",
     "text": [
      "c=11 \t opt.add( <class 'int'> , <class 'int'> ) = <class 'int'>\n",
      "c=11.0 \t opt.add( <class 'float'> , <class 'int'> ) = <class 'float'>\n",
      "c=56 \t opt.add( <class 'str'> , <class 'str'> ) = <class 'str'>\n"
     ]
    }
   ],
   "source": [
    "class My_Operators:\n",
    "    a  = None\n",
    "    b  = None\n",
    "    \n",
    "    def add(self, a,b):\n",
    "        if type(a)==int and type(b)==int:\n",
    "            return int(a+b)\n",
    "        elif type(a)==float or type(b)==float:\n",
    "            return float(a+b)\n",
    "        elif type(a)==str and type(b)==str:\n",
    "            return str(a+b)\n",
    "        else:\n",
    "            return 'param error'\n",
    "\n",
    "opt = My_Operators()        \n",
    "        \n",
    "a=[5, 5.0 , '5']\n",
    "b=[6,6,'6']\n",
    "for i in range(len(a)):\n",
    "    c = opt.add(a[i],b[i])  \n",
    "    print(f'c={c} \\t opt.add( {type(a[i])} , {type(b[i])} ) = {type(c)}')"
   ]
  },
  {
   "cell_type": "markdown",
   "metadata": {},
   "source": [
    "### Inheritance "
   ]
  },
  {
   "cell_type": "code",
   "execution_count": 137,
   "metadata": {},
   "outputs": [],
   "source": [
    "# single inheritance \n",
    "class Person:\n",
    "    name = None\n",
    "    age = 0\n",
    "    \n",
    "    def __init__(self, name, age):\n",
    "        self.name = name\n",
    "        self.age = age\n",
    "        \n",
    "class Student(Person):\n",
    "    sandard = None\n",
    "    \n",
    "    def __init__(self, name, age, std):\n",
    "        super().__init__(name,age) # super doensn't need 'self'\n",
    "        self.std = std\n",
    "        \n",
    "    def get_info(self):\n",
    "        return {'name': self.name, \n",
    "                'age' : self.age,\n",
    "                'std' : self.std}\n"
   ]
  },
  {
   "cell_type": "code",
   "execution_count": 77,
   "metadata": {},
   "outputs": [
    {
     "data": {
      "text/plain": [
       "{'name': 'alex', 'age': 22, 'std': 12}"
      ]
     },
     "execution_count": 77,
     "metadata": {},
     "output_type": "execute_result"
    }
   ],
   "source": [
    "stud1 = Student('alex',22,12) \n",
    "stud1.get_info()"
   ]
  },
  {
   "cell_type": "code",
   "execution_count": 133,
   "metadata": {},
   "outputs": [],
   "source": [
    "## Multiple inheritence\n",
    "\n",
    "class Person:\n",
    "    name = None\n",
    "    age = 0\n",
    "    \n",
    "    def __init__(self, name, age):\n",
    "        self.name = name\n",
    "        self.age = age\n",
    "        \n",
    "class Academic:\n",
    "    degrees = []\n",
    "    skills = []\n",
    "    \n",
    "    def __init__(self, degrees, skills):\n",
    "        self.degrees = degrees\n",
    "        self.skills = skills\n",
    "        \n",
    "    def add_degrees(self, degree):\n",
    "        if degree not in self.degrees:\n",
    "            self.degrees.append(degree)\n",
    "        \n",
    "    def add_skills(self, skill):\n",
    "        if skill not in self.skills:\n",
    "            self.skills.append(skill)\n",
    "        \n",
    "class Student(Person, Academic):\n",
    "    standard = None\n",
    "    \n",
    "    def __init__(self, name, age, degrees, skills, std):\n",
    "        Person.__init__( self,\n",
    "                         name = name , \n",
    "                         age  = age)\n",
    "        \n",
    "        Academic.__init__(self,\n",
    "                          degrees = degrees,\n",
    "                          skills  = skills)\n",
    "        \n",
    "        self.standard = std\n",
    "        \n",
    "    def get_info(self):\n",
    "        return {'name': self.name, \n",
    "                'age' : self.age,\n",
    "                'degrees' : self.degrees,\n",
    "                'skills'  : self.skills,   \n",
    "                'std' : self.standard}\n",
    "    "
   ]
  },
  {
   "cell_type": "code",
   "execution_count": 134,
   "metadata": {},
   "outputs": [
    {
     "data": {
      "text/plain": [
       "{'name': 'alex',\n",
       " 'age': 22,\n",
       " 'degrees': ['B.Sc', 'M.Sc'],\n",
       " 'skills': ['ML', 'Python'],\n",
       " 'std': 'Ph.D'}"
      ]
     },
     "execution_count": 134,
     "metadata": {},
     "output_type": "execute_result"
    }
   ],
   "source": [
    "stud1 = Student(name='alex',\n",
    "                age=22,\n",
    "                degrees=['B.Sc', 'M.Sc'],\n",
    "                skills=['ML','Python'],\n",
    "                std='Ph.D') \n",
    "\n",
    "stud1.get_info()"
   ]
  },
  {
   "cell_type": "code",
   "execution_count": 136,
   "metadata": {},
   "outputs": [
    {
     "data": {
      "text/plain": [
       "{'name': 'alex',\n",
       " 'age': 22,\n",
       " 'degrees': ['B.Sc', 'M.Sc'],\n",
       " 'skills': ['ML', 'Python', 'CCNA'],\n",
       " 'std': 'Ph.D'}"
      ]
     },
     "execution_count": 136,
     "metadata": {},
     "output_type": "execute_result"
    }
   ],
   "source": [
    "stud1.add_skills('CCNA')\n",
    "stud1.get_info()"
   ]
  },
  {
   "cell_type": "code",
   "execution_count": 120,
   "metadata": {},
   "outputs": [],
   "source": [
    "# Multi-level inheritance \n",
    "\n",
    "class Person:\n",
    "    name = None\n",
    "    age = 0\n",
    "    \n",
    "    def __init__(self, name, age):\n",
    "        self.name = name\n",
    "        self.age = age\n",
    "        \n",
    "\n",
    "class Student(Person):\n",
    "    standard = None\n",
    "    \n",
    "    def __init__(self, name, age, std):\n",
    "        super().__init__(\n",
    "                        name = name , \n",
    "                        age  = age)\n",
    "        \n",
    "        self.standard = std\n",
    "        \n",
    "        \n",
    "class Research_Student(Student):\n",
    "    publication = []\n",
    "    \n",
    "    def __init__(self, name, age, std, pub):\n",
    "        \n",
    "        print(name)  \n",
    "        super().__init__(\n",
    "                         name = name, \n",
    "                         age  = age, \n",
    "                         std  = std)\n",
    "        \n",
    "        self.publication = pub\n",
    "        \n",
    "    def add_pub(self , pub):\n",
    "        publication.append(pub)\n",
    "        \n",
    "    def get_info(self):\n",
    "        return {\n",
    "            'name': self.name,\n",
    "            'age' : self.age,\n",
    "            'std' : self.standard,\n",
    "            'pub' : self.publication            \n",
    "        }"
   ]
  },
  {
   "cell_type": "code",
   "execution_count": 121,
   "metadata": {},
   "outputs": [
    {
     "name": "stdout",
     "output_type": "stream",
     "text": [
      "bob\n"
     ]
    },
    {
     "data": {
      "text/plain": [
       "{'name': 'bob', 'age': 30, 'std': 'phd', 'pub': ['IEEE', 'ETT']}"
      ]
     },
     "execution_count": 121,
     "metadata": {},
     "output_type": "execute_result"
    }
   ],
   "source": [
    "r_stu1 = Research_Student(name = 'bob', \n",
    "                          age = 30,\n",
    "                          std = 'phd',\n",
    "                          pub = ['IEEE','ETT']\n",
    "                         )\n",
    "r_stu1.get_info()"
   ]
  },
  {
   "cell_type": "code",
   "execution_count": 202,
   "metadata": {},
   "outputs": [],
   "source": [
    "# Method Overriding\n",
    "class Person:\n",
    "    def __init__(self, name, age):\n",
    "        self.name = name\n",
    "        self.age = age\n",
    "        \n",
    "    def get_info(self):\n",
    "        return {'name':self.name , 'age':self.age}\n",
    "    \n",
    "class Student(Person):\n",
    "    def __init__(self, name, age, std):\n",
    "        super().__init__(name=name , age=age)\n",
    "        self.std = std\n",
    "    \n",
    "    def get_info(self):\n",
    "        return {'name':self.name , \n",
    "                'age':self.age, \n",
    "                'std': self.std}"
   ]
  },
  {
   "cell_type": "code",
   "execution_count": 203,
   "metadata": {},
   "outputs": [
    {
     "data": {
      "text/plain": [
       "{'name': 'alex', 'age': 20, 'std': 'M.Sc.'}"
      ]
     },
     "execution_count": 203,
     "metadata": {},
     "output_type": "execute_result"
    }
   ],
   "source": [
    "stud1 = Student(name='alex', age=20, std='M.Sc.')\n",
    "stud1.get_info()"
   ]
  },
  {
   "cell_type": "markdown",
   "metadata": {},
   "source": [
    "### Encapsulation \n",
    "use double underscore `__<var_name>` to make varibale private "
   ]
  },
  {
   "cell_type": "code",
   "execution_count": 171,
   "metadata": {},
   "outputs": [],
   "source": [
    "class Person:\n",
    "    def __init__(self, name, age):\n",
    "        self.__name = name\n",
    "        self.__age = age\n",
    "        \n",
    "    def get_info(self):\n",
    "        return {'name':self.__name , 'age':self.__age}"
   ]
  },
  {
   "cell_type": "code",
   "execution_count": 175,
   "metadata": {},
   "outputs": [
    {
     "data": {
      "text/plain": [
       "{'name': 'abc', 'age': 20}"
      ]
     },
     "execution_count": 175,
     "metadata": {},
     "output_type": "execute_result"
    }
   ],
   "source": [
    "p = Person(name = 'abc', age = 20)\n",
    "p.get_info()"
   ]
  },
  {
   "cell_type": "code",
   "execution_count": 177,
   "metadata": {},
   "outputs": [
    {
     "data": {
      "text/plain": [
       "{'name': 'abc', 'age': 20}"
      ]
     },
     "execution_count": 177,
     "metadata": {},
     "output_type": "execute_result"
    }
   ],
   "source": [
    "p.age=50\n",
    "p.get_info()"
   ]
  },
  {
   "cell_type": "code",
   "execution_count": 178,
   "metadata": {},
   "outputs": [
    {
     "data": {
      "text/plain": [
       "{'name': 'abc', 'age': 20}"
      ]
     },
     "execution_count": 178,
     "metadata": {},
     "output_type": "execute_result"
    }
   ],
   "source": [
    "p.__age=50\n",
    "p.get_info()"
   ]
  },
  {
   "cell_type": "markdown",
   "metadata": {},
   "source": [
    "# Requirement "
   ]
  },
  {
   "cell_type": "markdown",
   "metadata": {},
   "source": [
    "* __Funtional Requirement__ - What are the nessesary features and capabilities\n",
    "    - try to identify what __\"the system must\"__ do. \n",
    "    - requirements must be specified in clear text\n",
    "* __Non-functional requirmnt__ - How the application should function (Regulations)\n",
    "    - Try to identify how the system should be doing, __abilities__. \n",
    "    - don't be over specified or future scope \n",
    "* __Performance Requirement__ - Response time and number of users that can be saved. \n",
    "* __Support Requirement__ - Security etc.\n",
    "\n",
    "## FURPS Requirements\n",
    "1. __F__unctionality : What the customer wants? (e.g. Capability, Reusibility and Security)\n",
    "2. __U__sability : Use user-friendly the product is? (e.g. UI/UX , Asthetics, Consistancy, Documentation)\n",
    "3. __R__eliability : How much system down-time is acceptable? (e.g. Availability, Failure rate & Duration and Predictbility)\n",
    "4. __P__erformance : How responsive the application is? (e.g. Speed, Efficiency, Resource Consumption and Scalability)\n",
    "5. __S__upportability : How to maintain the product before/after delivary (e.g. Testing, Extension, Service, configure )\n",
    "\n",
    "### FURPS+ Requirements\n",
    "Adds 4 more categories __(DIIP)__ \n",
    "1. __D__esign : Any specific build process (e.g. DBMS, Cloud integration etc. )\n",
    "2. __I__mplementation : Any lanuage, standard, methodoloy must be followed (e.g. Libraries)\n",
    "3. __I__nterfacing : Interfacing with other application (e.g. API resprictions, YML, JSON) \n",
    "4. __P__hysical Constraints : Any hardware specific constraints (e.g. ARM, x86 etc)"
   ]
  },
  {
   "cell_type": "markdown",
   "metadata": {},
   "source": [
    "# Use Cases"
   ]
  },
  {
   "cell_type": "markdown",
   "metadata": {},
   "source": [
    "Components of an Use Case, normally takes few-days to at most a month for wirting a an use case. <br> \n",
    "ref: https://www.infor.uva.es/~mlaguna/is1/materiales/BookDraft1.pdf\n",
    "\n",
    "1. __Title:__ What is the goal ? \n",
    "    - a short title describing the use-cases\n",
    "2. __Primary Actor:__ Who desires it ?\n",
    "    - any external entities who use the program is an actor (not just users)\n",
    "3. __Success Scenario:__ How it is accomplished ? \n",
    "    - describe the sequence to steps leading a success the scenario \n",
    "    - any failure scenario must also be written, the branches must be made on the list of steps. Sometimes you can add some pre-condition to be met to go with. \n",
    "    - use cases must be written in __active voice__ and keep __technical details__ aside. \n",
    "    \n",
    "## Use case Diagram \n",
    "* Renders multiple use cases and depicts the interaction between the actors and system\n",
    "* Not a replacement of Use-case docs \n",
    "![](pics/oop_uc1.png)\n",
    "\n",
    "## User stories \n",
    "* A consise yet complete description of an usecase. \n",
    "* Primamity used for specifying a requirement, normally written as _\"As an [actor] I want, [use case] to happen\"_\n",
    "* avoid writing alternative paths and exceptions. \n",
    "* these are specified in an early stages of the developmet and constantly verified during development (__V Model__)\n",
    "* ref : http://www.scruminc.com/wp-content/uploads/2015/06/User-Stories-2.0.pdf"
   ]
  },
  {
   "cell_type": "markdown",
   "metadata": {},
   "source": [
    "# Domain Modelling \n",
    "* A __Noun__ in the use cases translates into __Classes__ \n",
    "* Any __Verb__ associated to the a nous is a __method__ for the class \n",
    "* Any __property__ associeated to a nown is a __Attribute__ for tha class\n",
    "\n",
    "## Class relationships (Associations)\n",
    "* try not to put too much resposibilities to an object, use specialization and generalization\n",
    "* resposibilities must be distributed uniformly. Each object only resposble for menipulating its own properties \n",
    "* use a __Class-Responsibility-Collabaration (CRC)__ card to figure it out\n",
    "\n",
    "| Class Name | |\n",
    "|----|---|\n",
    "|Responsibility | Collaboration |\n",
    "|list of respo  | list of dependencies to other cards | \n",
    "\n",
    "\n",
    "![](pics/oop_uc2.png)"
   ]
  },
  {
   "cell_type": "code",
   "execution_count": null,
   "metadata": {},
   "outputs": [],
   "source": []
  },
  {
   "cell_type": "markdown",
   "metadata": {},
   "source": [
    "# Class Diagram"
   ]
  },
  {
   "cell_type": "code",
   "execution_count": null,
   "metadata": {},
   "outputs": [],
   "source": []
  },
  {
   "cell_type": "markdown",
   "metadata": {},
   "source": [
    "# Inheritence & Composition"
   ]
  },
  {
   "cell_type": "code",
   "execution_count": null,
   "metadata": {},
   "outputs": [],
   "source": []
  },
  {
   "cell_type": "markdown",
   "metadata": {},
   "source": [
    "# Software Development "
   ]
  }
 ],
 "metadata": {
  "kernelspec": {
   "display_name": "Python 3",
   "language": "python",
   "name": "python3"
  },
  "language_info": {
   "codemirror_mode": {
    "name": "ipython",
    "version": 3
   },
   "file_extension": ".py",
   "mimetype": "text/x-python",
   "name": "python",
   "nbconvert_exporter": "python",
   "pygments_lexer": "ipython3",
   "version": "3.7.7"
  }
 },
 "nbformat": 4,
 "nbformat_minor": 4
}

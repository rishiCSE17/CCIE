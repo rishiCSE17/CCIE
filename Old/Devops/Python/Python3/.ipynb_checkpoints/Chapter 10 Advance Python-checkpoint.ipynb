{
 "cells": [
  {
   "cell_type": "markdown",
   "metadata": {},
   "source": [
    "# Language feature\n",
    "## Coding style\n",
    "* Universal coding style is descrived in PEP-8 documentation (https://www.python.org/dev/peps/pep-0008/)\n",
    "    * imports go on the top in sepatate lines\n",
    "    * indent codes using 4 spaces instead of tabs\n",
    "    * each line must be limited to 79 characters for codes and 72 characters from comments and docstrings including whitespaces\n",
    "    * separate functions and classes by 2 blank lines, within classes seprate methods using 1 blank line \n",
    "    * No whitespaces around function calls, indices and kw arguments\n",
    "    * Some whitespace guidelines\n",
    "        - `spam(ham[1],{'eggs':2})`\n",
    "        - `fn(arg)`\n",
    "        - `dct['key'] = lst[idx]`\n",
    "        - `x = 1`\n",
    "        - `hypot = x*x + y*y`\n",
    "        - `i = i + 1`"
   ]
  },
  {
   "cell_type": "markdown",
   "metadata": {},
   "source": [
    "## Truth value testing\n",
    "any object in python is boolian evaluable, any object is evaluated to true __unless its class implements a `bool()` method returns falls or the `len()` method returns 0__\n",
    "* `False` and `None` are false by default\n",
    "* All numeric type the evaluates to 0 id False (e.g. `0, 0.0, 0j` and `Decimal(0), Fraction(0,x)`)\n",
    "* Empty sets and sequences are False (`'', (), [], {}` and `set(), range(0)`)\n",
    "* Any custom object is true by default unless it overrides the `__bool__()` method and returns `False` or `__len__()` and returns `0`"
   ]
  },
  {
   "cell_type": "code",
   "execution_count": 8,
   "metadata": {},
   "outputs": [
    {
     "data": {
      "text/plain": [
       "False"
      ]
     },
     "execution_count": 8,
     "metadata": {},
     "output_type": "execute_result"
    }
   ],
   "source": [
    "class sample:\n",
    "    def __init__(self,x):\n",
    "        self.x = x\n",
    "    def __bool__(self):\n",
    "        return False\n",
    "\n",
    "    \n",
    "s = sample(5)\n",
    "bool(s)  #test the boolean value"
   ]
  },
  {
   "cell_type": "markdown",
   "metadata": {},
   "source": [
    "### Short Circuit Operator \n",
    "\n",
    "`and` & `or` operators are short circuit operators, i.e. if the first value  evaluates to `False` and `True` respectively, the second value is not evaluated and the result is evaluated to `False` and `True` respectively."
   ]
  },
  {
   "cell_type": "markdown",
   "metadata": {},
   "source": [
    "## Strings and Bytes\n",
    "* String : a sequence of unicode characters \n",
    "* Bytes : a sequence of 8bit character "
   ]
  },
  {
   "cell_type": "code",
   "execution_count": 18,
   "metadata": {},
   "outputs": [],
   "source": [
    "s = 'this is a text'\n",
    "b = s.encode('utf-8') # string to 8bit int array\n",
    "s = b.decode('utf-8') # 8bit int array to string"
   ]
  },
  {
   "cell_type": "code",
   "execution_count": 19,
   "metadata": {},
   "outputs": [
    {
     "name": "stdout",
     "output_type": "stream",
     "text": [
      "this is a text <class 'str'>\n",
      "b'this is a text' <class 'bytes'>\n"
     ]
    }
   ],
   "source": [
    "print(s,type(s))\n",
    "print(b,type(b))"
   ]
  },
  {
   "cell_type": "code",
   "execution_count": 20,
   "metadata": {},
   "outputs": [
    {
     "name": "stdout",
     "output_type": "stream",
     "text": [
      "t <class 'str'>\n",
      "116 <class 'int'>\n"
     ]
    }
   ],
   "source": [
    "print(s[0],type(s[0]))\n",
    "print(b[0],type(b[0]))"
   ]
  },
  {
   "cell_type": "code",
   "execution_count": 24,
   "metadata": {},
   "outputs": [
    {
     "ename": "TypeError",
     "evalue": "can only concatenate str (not \"bytes\") to str",
     "output_type": "error",
     "traceback": [
      "\u001b[0;31m---------------------------------------------------------------------------\u001b[0m",
      "\u001b[0;31mTypeError\u001b[0m                                 Traceback (most recent call last)",
      "\u001b[0;32m<ipython-input-24-cf3c11b79783>\u001b[0m in \u001b[0;36m<module>\u001b[0;34m\u001b[0m\n\u001b[0;32m----> 1\u001b[0;31m \u001b[0mprint\u001b[0m\u001b[0;34m(\u001b[0m\u001b[0ms\u001b[0m \u001b[0;34m+\u001b[0m \u001b[0mb\u001b[0m\u001b[0;34m)\u001b[0m \u001b[0;31m#type missmatch\u001b[0m\u001b[0;34m\u001b[0m\u001b[0;34m\u001b[0m\u001b[0m\n\u001b[0m",
      "\u001b[0;31mTypeError\u001b[0m: can only concatenate str (not \"bytes\") to str"
     ]
    }
   ],
   "source": [
    "print(s + b) #type missmatch"
   ]
  },
  {
   "cell_type": "markdown",
   "metadata": {},
   "source": [
    "## Template String "
   ]
  },
  {
   "cell_type": "code",
   "execution_count": 26,
   "metadata": {},
   "outputs": [],
   "source": [
    "x,y,z=10,20,30"
   ]
  },
  {
   "cell_type": "code",
   "execution_count": 27,
   "metadata": {},
   "outputs": [
    {
     "name": "stdout",
     "output_type": "stream",
     "text": [
      "x=10 y=20 z=30\n"
     ]
    }
   ],
   "source": [
    "# basic formatting before python3.6\n",
    "print('x={} y={} z={}'.format(x,y,z))"
   ]
  },
  {
   "cell_type": "code",
   "execution_count": 28,
   "metadata": {},
   "outputs": [
    {
     "name": "stdout",
     "output_type": "stream",
     "text": [
      "x=10 y=20 z=30\n"
     ]
    }
   ],
   "source": []
  },
  {
   "cell_type": "code",
   "execution_count": 33,
   "metadata": {},
   "outputs": [
    {
     "name": "stdout",
     "output_type": "stream",
     "text": [
      "youre watching someting by someone\n"
     ]
    }
   ],
   "source": [
    "#template string \n",
    "from string import Template\n",
    "templ = Template('youre watching ${title} by ${author}')\n",
    "print(templ.substitute(title='someting', author='someone'))"
   ]
  },
  {
   "cell_type": "code",
   "execution_count": null,
   "metadata": {},
   "outputs": [],
   "source": []
  }
 ],
 "metadata": {
  "kernelspec": {
   "display_name": "Python 3",
   "language": "python",
   "name": "python3"
  },
  "language_info": {
   "codemirror_mode": {
    "name": "ipython",
    "version": 3
   },
   "file_extension": ".py",
   "mimetype": "text/x-python",
   "name": "python",
   "nbconvert_exporter": "python",
   "pygments_lexer": "ipython3",
   "version": "3.7.7"
  }
 },
 "nbformat": 4,
 "nbformat_minor": 4
}

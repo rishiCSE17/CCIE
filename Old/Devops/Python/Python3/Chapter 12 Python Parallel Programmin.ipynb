{
 "cells": [
  {
   "cell_type": "markdown",
   "metadata": {},
   "source": [
    "# Introducntion\n",
    "## Sequential vs Parallel Programmin \n",
    "* __Sequential programming__ - executing instruction one by one. Limited by processor speed.\n",
    "* __Parallel Programmin__ - break ( _fork_ ) the program into multiple independent sequence of instructions simultainusly, while maintaining synchonization between then and finally _join_ them together.  \n",
    "\n",
    "Adding $n$ processor doesn't make the process $n$ times faster, as it also increase the synchronization (using __IPC__ or __RPC__) burden. \n",
    "\n",
    "## Parallel architecture \n",
    "\n",
    "__Flynn's Taxonomy__\n",
    "1. __SISD__ : Single instruction single data. $y=f(X)$ \n",
    "    * one CPU runs executes one instruction $f$ on one data $X$ at any time \n",
    "    * Sequenctial processing \n",
    "    \n",
    "2. __SIMD__ : Single instruction Multiple data $\\{y_i\\}=f(X_i\\in X)$\n",
    "    * Multiple CPU takes one instrucntion from Instruction register and apply it on their indevidual data.\n",
    "    * Same operation is computed on many data stream simultainusly, in sync with with eachother. \n",
    "    * Tasks such as Image processing (e.g. Convolution, geometric transformation) makes use of this. \n",
    "    \n",
    "3. __MISD__ : Multiple instruction Single Data $\\{y_i\\}=\\{f_i(X)|f_i\\in F\\}$\n",
    "    * Each CPU takes individual instruction but data from a common data bus \n",
    "    * not that much used in pracice \n",
    "\n",
    "4. __MIMD__ : Multiple Instruction Multiple Data $\\{y_i\\}=\\{f_i(X_j\\in X) |f_i \\in F\\}$ \n",
    "    * most commonly used architecture, used in multicore CPU to networked clusters \n",
    "    * Further subdevided into \n",
    "        1. __Single Program Multiple Data (SPMD)__ : Multiple Core execures a same copy of a single prgram on different data. It is different from SIMD as it may use same program but the same instruction at a given time. Each CPU executes a different part of the program and maintains sync to ensure integrity while joining them. \n",
    "        2. __Multiple program Multiple Data (MPMD)__ : Each core has independent program and data memory. A typical use case of cluster computing model, where there's manager nodes that distributes, load balance and maintain message-passing among several worker nodes.\n",
    " \n",
    "## Memory Models\n",
    "* __Shared memory__ : All process shares the same memory module as a global address space.\n",
    "    * If one CPU makes any change in the memory, other must be notified \n",
    "    * The _shared_ term doesn't yield physical centralization, it may spread accross a network and make communicaion over IPC/RPC protocols. \n",
    "    * __Classificaion__ : \n",
    "        1. __Uniform Memory Access (UMA)__ : all CPU has euqal access to the memory, among several type, __Symetric Multi-Processing (SMP)__ is the most used one. in SMP, each CPU also maintains its own Cache memory, any updates must be __written back__ (Write back Cache) to the main memory, to prevent other CPU's access to any outdated data. this is called __Cache Coherency__ problem, which is tackled by the processor hardware but introduces a performance overhead too.  \n",
    "        2. __Non Uniform Memory Access (NUMA)__ : Each CPU has its own memory block and CPU Systems communicate through a shared system bus (typically networked), the access time is not uniform however, they almost can see the global address spece    \n",
    "    * Shared memory systems are __Not scalable__. adding more componets in the system loads the system bus and eventually struggles to get good throughput.  Also it leaves the __Sycnrinizaion__ task to the programmer.\n",
    "    \n",
    "* __Distributed Memory__ : Each processor has it's own memory with __Private Address Space__. any change to a local memeory doen't need to get conveyed to other CPU. Mainly used for large cluster computing systems. "
   ]
  },
  {
   "cell_type": "markdown",
   "metadata": {},
   "source": [
    "# Thread and Processes\n",
    "A __process__ is a _program in execution_ and a comprised of many sub-tasks sharing same runtime and memory, called __thread__. Each thread works independently, they can be invoked and can leave dynamically. __Resource sharing__ is more easy in multi-threaded system than a multi-processing systems. The __Inter-process Communication__ can be done using __Pipes__ if its within a same system or __Sockets__ if running over network. "
   ]
  },
  {
   "cell_type": "markdown",
   "metadata": {},
   "source": [
    "## Concurrent vs Parallelism \n",
    "* __Concurrency__ : Abilities of a program ti be broken into parts that can be execured independently of each other. for a single processor systems, __Schedulars__ manages it. A concurrent program is not inherently parallel. Typically used for __I/O intesive__ operation to utilize CPU idle time more efficiently.\n",
    "* __Parallelism__ : True prarallism is possible when there exists a parallel hardware (Multiple processor cores). Typically used for __CPU intensive__ operations. \n",
    "\n",
    "| Concurrency | Parallelism |\n",
    "|---          | ---         |\n",
    "| Program structure | Simultainus execution |\n",
    "| __Dealing__ with multiple things at once | __Doing__ multiple things at once |"
   ]
  },
  {
   "cell_type": "markdown",
   "metadata": {},
   "source": [
    "## Global Interpreter Lock (GIL)\n",
    "\n",
    "python doens't allow multile Prallel theads but concurrent threads due to GIL. for a program consisting of $n$ concurrent thread, only one would execute at a given time while keeping rest $n-1$ at idle state. \n",
    "\n",
    "This happens as the python is an __interpreted language__, each program first gets intrepreted into a _byte code_ which then gets executed by the _virtual machine_. The default interpreter is __CPython__, the GIL is a native property of underlying __C__ libraries to implement a __Thread-safe__ operation. How ever the GIL brings stability to the system, this its disadvantages is out weighed. Interpreters that dont have GIL implemented are __Jython__ (java based), __IronPython__ (.net based), __PyPy-STM__. \n",
    "\n",
    "However, GIL doens not create a siginificant bottleneck for I/O bound taks, thus concurrency is useful, but this is not ta case of CPU bound tasks. To implement concurrency in cou-bound tasks, __multiprocessing__ package is one which is used that __threading__ package. Each process would implement its indevidual GIL thus no restriction, however the __IPC__ needs to be detl separetly, as it's a bit more complex than that of a multi-threaded scenario and consumes __more system resources__. "
   ]
  },
  {
   "cell_type": "markdown",
   "metadata": {},
   "source": [
    "## Python Threading Module"
   ]
  },
  {
   "cell_type": "code",
   "execution_count": 18,
   "metadata": {},
   "outputs": [
    {
     "name": "stdout",
     "output_type": "stream",
     "text": [
      "I am PID=28329 and thread num = 0\n",
      "\t[05 1590591607]\t with count=4\n",
      "I am PID=28329 and thread num = 1\n",
      "\t[05 1590591607]\t with count=4\n",
      "I am PID=28329 and thread num = 2\n",
      "\t[05 1590591607]\t with count=4\n",
      "I am PID=28329 and thread num = 0\n",
      "\t[05 1590591608]\t with count=3\n",
      "I am PID=28329 and thread num = 1I am PID=28329 and thread num = 2\n",
      "\t[05 1590591608]\t with count=3\n",
      "\n",
      "\t[05 1590591608]\t with count=3\n",
      "I am PID=28329 and thread num = 0\n",
      "\t[05 1590591609]\t with count=2\n",
      "I am PID=28329 and thread num = 2\n",
      "\t[05 1590591609]\t with count=2\n",
      "I am PID=28329 and thread num = 1\n",
      "\t[05 1590591609]\t with count=2\n",
      "I am PID=28329 and thread num = 0\n",
      "\t[05 1590591610]\t with count=1\n",
      "I am PID=28329 and thread num = 2\n",
      "\t[05 1590591610]\t with count=1\n",
      "I am PID=28329 and thread num = 1\n",
      "\t[05 1590591610]\t with count=1\n",
      "I am PID=28329 and thread num = 0\n",
      "\t[05 1590591611]\t with count=0\n",
      "I am PID=28329 and thread num = 2\n",
      "\t[05 1590591611]\t with count=0\n",
      "I am PID=28329 and thread num = 1\n",
      "\t[05 1590591611]\t with count=0\n"
     ]
    }
   ],
   "source": [
    "import os\n",
    "import threading\n",
    "import time\n",
    "\n",
    "# step 1: create a function\n",
    "def th_fun(n,c):\n",
    "    while c >=0:\n",
    "        # print is an I/O operation\n",
    "        print(f'I am PID={os.getpid()} and thread num = {n}')\n",
    "        print(f'\\t[{time.strftime(\"%m %s\")}]\\t with count={c}')\n",
    "        time.sleep(1)\n",
    "        c -= 1\n",
    "\n",
    "# step 2: create a thread\n",
    "th_num = 3\n",
    "runtime = 4\n",
    "for i in range(th_num):\n",
    "    threading.Thread(target=th_fun,     #assign the function as thread\n",
    "                     args=(i,runtime)   #supply nessesary parameter\n",
    "                    ).start()           #start the thread "
   ]
  },
  {
   "cell_type": "code",
   "execution_count": 25,
   "metadata": {},
   "outputs": [
    {
     "name": "stdout",
     "output_type": "stream",
     "text": [
      "I am PID=30420 and thread num = 0\n",
      "I am PID=30423 and thread num = 1\n",
      "\t[05 1590592186]\t with count=4\n",
      "I am PID=30428 and thread num = 2\n",
      "\t[05 1590592186]\t with count=4\n",
      "\t[05 1590592186]\t with count=4\n",
      "I am PID=30423 and thread num = 1\n",
      "\t[05 1590592187]\t with count=3\n",
      "I am PID=30428 and thread num = 2\n",
      "I am PID=30420 and thread num = 0\n",
      "\t[05 1590592187]\t with count=3\n",
      "\t[05 1590592187]\t with count=3\n",
      "I am PID=30423 and thread num = 1\n",
      "\t[05 1590592188]\t with count=2\n",
      "I am PID=30420 and thread num = 0\n",
      "\t[05 1590592188]\t with count=2\n",
      "I am PID=30428 and thread num = 2\n",
      "\t[05 1590592188]\t with count=2\n",
      "I am PID=30423 and thread num = 1\n",
      "\t[05 1590592189]\t with count=1\n",
      "I am PID=30420 and thread num = 0\n",
      "\t[05 1590592189]\t with count=1\n",
      "I am PID=30428 and thread num = 2\n",
      "\t[05 1590592189]\t with count=1\n",
      "I am PID=30423 and thread num = 1\n",
      "\t[05 1590592190]\t with count=0\n",
      "I am PID=30420 and thread num = 0\n",
      "\t[05 1590592190]\t with count=0\n",
      "I am PID=30428 and thread num = 2\n",
      "\t[05 1590592190]\t with count=0\n"
     ]
    }
   ],
   "source": [
    "import os\n",
    "import multiprocessing as mp\n",
    "import time\n",
    "\n",
    "# step 1: create a function\n",
    "def pr_fun(n,c):\n",
    "    while c >=0:\n",
    "        # print is an I/O operation\n",
    "        print(f'I am PID={os.getpid()} and thread num = {n}')\n",
    "        print(f'\\t[{time.strftime(\"%m %s\")}]\\t with count={c}')\n",
    "        time.sleep(1)\n",
    "        c -= 1\n",
    "\n",
    "# step 2: create some global vars\n",
    "pr_num = 3\n",
    "runtime = 4\n",
    "\n",
    "# step 3: it is mandatory to create a main func \n",
    "if __name__ == '__main__': \n",
    "    for i in range(pr_num):\n",
    "        #step 4 : now create a process\n",
    "        mp.Process(target=pr_fun,     #assign the function as thread\n",
    "                   args=(i,runtime,)  #supply nessesary parameter\n",
    "                  ).start()           #start the thread "
   ]
  },
  {
   "cell_type": "markdown",
   "metadata": {},
   "source": [
    "The abobe stated examples show how __PID__ was identical for multi-threaded one while being differerent in multi-processing. The reason, we need to put the main function in case of multi-processing is as follows. Python goes through the whole program in order to find where the intended function is, but in doing so the __Spawing__ command is also execured, which makes another lookup call that would again encounter the __Spawning__ command. Henceforth, it eventually turns into a __infinite-spawnig__ process. If the spawned function is a infinite loop iteself, it may crash the system, thus python detects this before hand and would throw an __exception__ if not found complient. "
   ]
  },
  {
   "cell_type": "markdown",
   "metadata": {},
   "source": [
    "## Scheduling \n",
    "Operating systems controls the __dispatch sequecne__ using the __Schedular__ process that runs a __Quequing algorithm__ underneath. In a __preemptive__-scheduling scenario, when each process can be stopped by the scedular in the middle of their execution, to give control to another process called __Context swicting__. While switching a process must backup all its runtime data stored into a specific data structure called __Process control block__ (PCB), in order to resume seemlessly. This brings an additional overhead as the backprocess would access memory write operations. Thus, schedulars must optimise the switcing process to get better througput, while maintaing concurrancy. In fail doing this would cause a problem called __Thashing__ when the CPU becomes too busy in switchig context than actually executing the process. The choice of the scheduling algorithm is driven by the program's goal and it is controlled by the OS. \n",
    "\n",
    "The following program shown the scheduling is not always fair. __Check the final count__"
   ]
  },
  {
   "cell_type": "code",
   "execution_count": 26,
   "metadata": {},
   "outputs": [],
   "source": [
    "import threading\n",
    "import time "
   ]
  },
  {
   "cell_type": "code",
   "execution_count": 57,
   "metadata": {},
   "outputs": [],
   "source": [
    "# global var controls the thread life  \n",
    "state = None"
   ]
  },
  {
   "cell_type": "code",
   "execution_count": 54,
   "metadata": {},
   "outputs": [],
   "source": [
    "def th_count():\n",
    "    name = threading.current_thread().getName()\n",
    "    local_count = 0\n",
    "    \n",
    "    while state == None:\n",
    "        print(f'\\t {name} waiting...')\n",
    "        time.sleep(1)\n",
    "    \n",
    "    print(f'\\n\\t {name} : enterring counting state... @[{time.strftime(\"%m:%s\")}]')\n",
    "    \n",
    "    while state:\n",
    "        local_count += 1\n",
    "        \n",
    "    print(f'\\n\\t Goodbye from {name} @[{time.strftime(\"%m:%s\")}], counted {local_count}')"
   ]
  },
  {
   "cell_type": "code",
   "execution_count": 65,
   "metadata": {},
   "outputs": [],
   "source": [
    "def main():\n",
    "    th_list = [] # holds thread obects \n",
    "    name_list = ['th1','th2','th3'] \n",
    "    runtime = 5 # thread runtime \n",
    "    global state\n",
    "    \n",
    "    state = None #external control mechanism \n",
    "    \n",
    "    # creating a thread list\n",
    "    for i in range(len(name_list)):\n",
    "        th_list.append(threading.Thread(name = name_list[i],\n",
    "                                        target= th_count)\n",
    "                      )\n",
    "    #starting all threads in the list\n",
    "    for t in th_list:\n",
    "        t.start()\n",
    "    \n",
    "    print('waiting in main...')\n",
    "    time.sleep(2)\n",
    "    \n",
    "    print('setting state=True')\n",
    "    state = True\n",
    "    #let them run for 1 sec\n",
    "    time.sleep(runtime)\n",
    "    \n",
    "    # now stop all thread \n",
    "    print('setting state=False')\n",
    "    state = False\n",
    "    \n",
    "    for t in th_list:\n",
    "        t.join()"
   ]
  },
  {
   "cell_type": "code",
   "execution_count": 66,
   "metadata": {},
   "outputs": [
    {
     "name": "stdout",
     "output_type": "stream",
     "text": [
      "\t th1 waiting...\n",
      "\t th2 waiting...\n",
      "\t th3 waiting...\n",
      "waiting in main...\n",
      "\t th1 waiting...\n",
      "\t th2 waiting...\t th3 waiting...\n",
      "\n",
      "\t th1 waiting...\n",
      "setting state=True\t th2 waiting...\n",
      "\n",
      "\n",
      "\t th3 : enterring counting state... @[05:1590595988]\n",
      "\n",
      "\t th1 : enterring counting state... @[05:1590595989]\n",
      "\n",
      "\t th2 : enterring counting state... @[05:1590595989]\n",
      "setting state=False\n",
      "\n",
      "\t Goodbye from th3 @[05:1590595993], counted 45573165\n",
      "\n",
      "\t Goodbye from th2 @[05:1590595993], counted 15389217\n",
      "\n",
      "\t Goodbye from th1 @[05:1590595993], counted 22351422\n"
     ]
    }
   ],
   "source": [
    "main()"
   ]
  },
  {
   "cell_type": "markdown",
   "metadata": {},
   "source": [
    "## Daemon Thread\n",
    "A parant thread can't exit execution while any of its childern threads are running, otherwise the child would become an __Orphan__ thread. There are threads such as __Automatic Garbage Collector__ that crears all unused memory runs in parallel to a main thread. Now, that makes a dead-lock scenario, as the main thead can't exist because the child garbage collector is running, and the garbage collector can't too as it's job to collect its parant's garbage untill it finishes. Therefore we need to isolate the childern thread execution from that of its parant's, which is called a __Daemon__ thread or a background thread.  \n",
    "* Any thread starts as a non-daemon, it needs to be made __explicitly__\n",
    "* Make sure any daemon thread should not be attached to any I/O operation, as stopping in the middle may currupt the data that it was deadling with.\n",
    "\n"
   ]
  },
  {
   "cell_type": "code",
   "execution_count": 95,
   "metadata": {},
   "outputs": [],
   "source": [
    "# daemon thread\n",
    "def d_fun(n):\n",
    "    while n:\n",
    "        print(f\"\\t i'm child... {n} sec left\")\n",
    "        time.sleep(1)\n",
    "        n -= 1\n",
    "    print(\"\\t i'm child... goodbye\")\n",
    "\n",
    "#caller\n",
    "def main():\n",
    "    p = 5   # parant's runtime\n",
    "    n = 10  # child's runtime  \n",
    "    d = threading.Thread(target=d_fun, args=[n])\n",
    "    d.start()\n",
    "    while p:\n",
    "        print(f\"i'm parant... {p} sec left\")\n",
    "        time.sleep(1)\n",
    "        p -= 1\n",
    "    print(f\"i'm parant... goodbye\")\n",
    "    return 0"
   ]
  },
  {
   "cell_type": "code",
   "execution_count": 96,
   "metadata": {},
   "outputs": [
    {
     "name": "stdout",
     "output_type": "stream",
     "text": [
      "\t i'm child... 10 sec left\n",
      "i'm parant... 5 sec left\n",
      "\t i'm child... 9 sec lefti'm parant... 4 sec left\n",
      "\n",
      "\t i'm child... 8 sec left\n",
      "i'm parant... 3 sec left\n",
      "\t i'm child... 7 sec left\n",
      "i'm parant... 2 sec left\n",
      "\t i'm child... 6 sec left\n",
      "i'm parant... 1 sec left\n",
      "\t i'm child... 5 sec left\n",
      "i'm parant... goodbye\n",
      "done!\n",
      "\t i'm child... 4 sec left\n",
      "\t i'm child... 3 sec left\n",
      "\t i'm child... 2 sec left\n",
      "\t i'm child... 1 sec left\n",
      "\t i'm child... goodbye\n"
     ]
    }
   ],
   "source": [
    "main()\n",
    "print('done!')"
   ]
  },
  {
   "cell_type": "markdown",
   "metadata": {},
   "source": [
    "As it's seen, that child kept executing even if the parant finished. Now make it a daemon "
   ]
  },
  {
   "cell_type": "code",
   "execution_count": 92,
   "metadata": {},
   "outputs": [],
   "source": [
    "# daemon thread\n",
    "def d_fun(n):\n",
    "    while n:\n",
    "        print(f\"\\t i'm child... {n} sec left\")\n",
    "        time.sleep(1)\n",
    "        n -= 1\n",
    "    print(\"\\t i'm child... goodbye\")\n",
    "\n",
    "#caller\n",
    "def main():\n",
    "    p = 5   # parant's runtime\n",
    "    n = 10  # child's runtime  \n",
    "    d = threading.Thread(target=d_fun, args=[n])\n",
    "    d.daemon = True\n",
    "    d.start()\n",
    "    while p:\n",
    "        print(f\"i'm parant... {p} sec left\")\n",
    "        time.sleep(1)\n",
    "        p -= 1\n",
    "    print(f\"i'm parant... goodbye\")\n",
    "    return 0"
   ]
  },
  {
   "cell_type": "code",
   "execution_count": 97,
   "metadata": {},
   "outputs": [
    {
     "name": "stdout",
     "output_type": "stream",
     "text": [
      "\t i'm child... 10 sec lefti'm parant... 5 sec left\n",
      "\n",
      "\t i'm child... 9 sec left\n",
      "i'm parant... 4 sec left\n",
      "\t i'm child... 8 sec left\n",
      "i'm parant... 3 sec left\n",
      "\t i'm child... 7 sec lefti'm parant... 2 sec left\n",
      "\n",
      "\t i'm child... 6 sec left\n",
      "i'm parant... 1 sec left\n",
      "\t i'm child... 5 sec left\n",
      "i'm parant... goodbye\n",
      "done!\n",
      "\t i'm child... 4 sec left\n",
      "\t i'm child... 3 sec left\n",
      "\t i'm child... 2 sec left\n",
      "\t i'm child... 1 sec left\n",
      "\t i'm child... goodbye\n"
     ]
    }
   ],
   "source": [
    "main()\n",
    "print('done!')"
   ]
  },
  {
   "cell_type": "markdown",
   "metadata": {},
   "source": [
    "# Mutual Exclusion\n",
    "__Race__ condition happens when multiple hreads try accessing a shared memory resources. \n",
    "the follwoing program runs $m$ threads, each increaments a `shared_counter` for $n$ times. The expected outcome would be $mn$ but after executing them parallelly, the final count returnd by $caller(rt=n)$ compared. The squared error is plotted in $log$ sclale. "
   ]
  },
  {
   "cell_type": "code",
   "execution_count": 81,
   "metadata": {},
   "outputs": [],
   "source": [
    "#race condition\n",
    "import threading\n",
    "import matplotlib.pyplot as plt\n",
    "import random \n",
    "import time\n",
    "\n",
    "shared_counter = 0 \n",
    "lock = threading.Lock()\n",
    "\n",
    "def th_count(n,sync):\n",
    "    '''\n",
    "        get n as integer and adds sequenctially \n",
    "        to shared counter in a loop \n",
    "    '''\n",
    "    global shared_counter\n",
    "    global lock\n",
    "    name = threading.current_thread().getName()\n",
    "    while n>0:\n",
    "        if sync:\n",
    "            with lock:\n",
    "                shared_counter += 1\n",
    "        else:\n",
    "            shared_counter += 1\n",
    "        n -= 1\n",
    "    #print(f'\\t{name} done!')\n",
    "    \n",
    "def caller(n,m,sync):\n",
    "    '''\n",
    "        crates, run and destry m threads \n",
    "        each adds n to the shared_counter \n",
    "        returns the final value of the counter \n",
    "    '''\n",
    "    global shared_counter\n",
    "    shared_counter = 0\n",
    "    names = [f'th_{j}' for j in range(1,m+1)] #names th_1...th_m\n",
    "    #print(f'count = {shared_counter}')\n",
    "    for i in range(len(names)):\n",
    "        if sync==True:\n",
    "            t = threading.Thread(name=names[i],\n",
    "                             target=th_count,\n",
    "                             args=(n,True))\n",
    "        else:\n",
    "            t= threading.Thread(name=names[i],\n",
    "                         target=th_count,\n",
    "                         args=(n,False))\n",
    "        t.start()\n",
    "        \n",
    "    #print(f'count = {shared_counter}')\n",
    "    return shared_counter\n",
    "\n",
    "def main():\n",
    "    '''\n",
    "        calls the caller funtion for a range of numbers to add\n",
    "        and numbers of threads\n",
    "        gets the deviation between expected and computed data and \n",
    "        plots it\n",
    "    '''\n",
    "    \n",
    "    import math\n",
    "    #deviations\n",
    "    x = [] \n",
    "    dev_y = []\n",
    "    dev_y_sync = []\n",
    "    m = 20 #number of threads \n",
    "    print('calculating...')\n",
    "    for i in range(10,pow(10,5),pow(10,3)):\n",
    "        global shared_counter\n",
    "        shared_counter = 0\n",
    "        \n",
    "        x.append(i)\n",
    "        dev_y.append(math.sqrt( \n",
    "                        pow( (m*i)-caller(i,m,sync=False) ,2 ))\n",
    "                    )\n",
    "        dev_y_sync.append(math.sqrt(\n",
    "                        pow( (m*i)-caller(i,m,sync=True),2 ))\n",
    "                         )\n",
    "    #plt.yscale('log')\n",
    "    plt.plot(x,dev_y,'r',label='without sync');\n",
    "    plt.plot(x,dev_y_sync,'g',label='with sync');\n",
    "    plt.legend()\n",
    "    plt.show()"
   ]
  },
  {
   "cell_type": "code",
   "execution_count": 82,
   "metadata": {},
   "outputs": [
    {
     "name": "stdout",
     "output_type": "stream",
     "text": [
      "calculating...\n"
     ]
    },
    {
     "data": {
      "image/png": "[encoded data removed]",
      "text/plain": [
       "<Figure size 432x288 with 1 Axes>"
      ]
     },
     "metadata": {
      "needs_background": "light"
     },
     "output_type": "display_data"
    }
   ],
   "source": [
    "main()"
   ]
  },
  {
   "cell_type": "markdown",
   "metadata": {},
   "source": [
    "To solve this problem a __Mutex__ variable is used, who ever aquires "
   ]
  },
  {
   "cell_type": "code",
   "execution_count": 99,
   "metadata": {},
   "outputs": [
    {
     "name": "stdout",
     "output_type": "stream",
     "text": [
      "232\n",
      "26\n",
      "20006\n",
      "1490811\n"
     ]
    }
   ],
   "source": [
    "print(caller(100,2,sync=False))\n",
    "print(caller(10,2,sync=False))\n",
    "print(caller(10000,2,sync=False))\n",
    "print(caller(1000000,2,sync=False))"
   ]
  },
  {
   "cell_type": "code",
   "execution_count": 101,
   "metadata": {},
   "outputs": [
    {
     "name": "stdout",
     "output_type": "stream",
     "text": [
      "38\n"
     ]
    }
   ],
   "source": [
    "print(caller(100,3,sync=True))"
   ]
  },
  {
   "cell_type": "code",
   "execution_count": null,
   "metadata": {},
   "outputs": [],
   "source": []
  }
 ],
 "metadata": {
  "kernelspec": {
   "display_name": "Python 3",
   "language": "python",
   "name": "python3"
  },
  "language_info": {
   "codemirror_mode": {
    "name": "ipython",
    "version": 3
   },
   "file_extension": ".py",
   "mimetype": "text/x-python",
   "name": "python",
   "nbconvert_exporter": "python",
   "pygments_lexer": "ipython3",
   "version": "3.7.7"
  }
 },
 "nbformat": 4,
 "nbformat_minor": 4
}

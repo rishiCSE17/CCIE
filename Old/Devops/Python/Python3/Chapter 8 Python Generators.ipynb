{
 "cells": [
  {
   "cell_type": "markdown",
   "metadata": {},
   "source": [
    "# Iterator basics"
   ]
  },
  {
   "cell_type": "markdown",
   "metadata": {},
   "source": [
    "* Usage \n",
    "    - Large dataset or memory-intensive operations \n",
    "    - returns an evaluation on-demand without closing the fucntion (Stateful lazy-evaluation)\n",
    "    - `yeild` returns a value and `__next__()` calls for next value \n",
    "* A generator object is an iterator but not all iterators are generators \n",
    "    - A generaor function returns a generator object \n",
    "    - A generator function uses lazy-evaluation to yeild a sequence "
   ]
  },
  {
   "cell_type": "markdown",
   "metadata": {},
   "source": [
    "## Building a generator "
   ]
  },
  {
   "cell_type": "markdown",
   "metadata": {},
   "source": [
    "Following is a typical function that returns a list of $n$ dictionaries containing random values. "
   ]
  },
  {
   "cell_type": "code",
   "execution_count": 22,
   "metadata": {},
   "outputs": [],
   "source": [
    "def rand_dict(n):\n",
    "    import random as r\n",
    "    ret = []\n",
    "    while n >= 0:\n",
    "        ret.append({'value': round( r.random() ,3) } )\n",
    "        n-=1\n",
    "    return ret "
   ]
  },
  {
   "cell_type": "code",
   "execution_count": 23,
   "metadata": {},
   "outputs": [
    {
     "data": {
      "text/plain": [
       "[{'value': 0.715},\n",
       " {'value': 0.309},\n",
       " {'value': 0.597},\n",
       " {'value': 0.921},\n",
       " {'value': 0.497},\n",
       " {'value': 0.071}]"
      ]
     },
     "execution_count": 23,
     "metadata": {},
     "output_type": "execute_result"
    }
   ],
   "source": [
    "rand_dict(5)"
   ]
  },
  {
   "cell_type": "markdown",
   "metadata": {},
   "source": [
    "for huge dataset of intercommunicating threads data dont come as a single bulk, rather it is captured and exchanged parallarry over time. A generator function only evaluates the code when requested, called __lazy evaluation__. "
   ]
  },
  {
   "cell_type": "code",
   "execution_count": 42,
   "metadata": {},
   "outputs": [],
   "source": [
    "# a generator \n",
    "def rand_dict_gen(n):\n",
    "    import random as r\n",
    "    while n >= 0:\n",
    "        # each \n",
    "        yield {'n':n,\n",
    "               'value':round(r.random(),3)}\n",
    "        n-=1"
   ]
  },
  {
   "cell_type": "markdown",
   "metadata": {},
   "source": [
    "Assign the generator object as `x`, verify the type also"
   ]
  },
  {
   "cell_type": "code",
   "execution_count": 49,
   "metadata": {},
   "outputs": [],
   "source": [
    "x=rand_dict_gen(5)"
   ]
  },
  {
   "cell_type": "code",
   "execution_count": 50,
   "metadata": {},
   "outputs": [
    {
     "data": {
      "text/plain": [
       "generator"
      ]
     },
     "execution_count": 50,
     "metadata": {},
     "output_type": "execute_result"
    }
   ],
   "source": [
    "type(x)"
   ]
  },
  {
   "cell_type": "markdown",
   "metadata": {},
   "source": [
    "Now perform the lazy evaluation using the `__next__()`  method from the generator object with a 1 sec delay. each iteration would continue from where it left. The the call exceeds the number of items the generator object throws an __StopIteration__ exception, thus its handled by breakig the call loop. <br>\n",
    "Also notice, once the generator object is completely traversed, you can't go back. In such a case you may need to re-initialize it."
   ]
  },
  {
   "cell_type": "code",
   "execution_count": 51,
   "metadata": {},
   "outputs": [
    {
     "name": "stdout",
     "output_type": "stream",
     "text": [
      "{'n': 5, 'value': 0.823}\n",
      "{'n': 4, 'value': 0.581}\n",
      "{'n': 3, 'value': 0.798}\n",
      "{'n': 2, 'value': 0.002}\n",
      "{'n': 1, 'value': 0.387}\n",
      "{'n': 0, 'value': 0.947}\n"
     ]
    }
   ],
   "source": [
    "import time as t\n",
    "for i in range(10):\n",
    "    try:\n",
    "        print(x.__next__() ) #callss the lazy eval\n",
    "        t.sleep(1)\n",
    "    except:\n",
    "        break"
   ]
  },
  {
   "cell_type": "markdown",
   "metadata": {},
   "source": [
    "### Building a list from generator object"
   ]
  },
  {
   "cell_type": "code",
   "execution_count": 52,
   "metadata": {},
   "outputs": [
    {
     "data": {
      "text/plain": [
       "[{'n': 5, 'value': 0.368},\n",
       " {'n': 4, 'value': 0.685},\n",
       " {'n': 3, 'value': 0.341},\n",
       " {'n': 2, 'value': 0.479},\n",
       " {'n': 1, 'value': 0.61},\n",
       " {'n': 0, 'value': 0.849}]"
      ]
     },
     "execution_count": 52,
     "metadata": {},
     "output_type": "execute_result"
    }
   ],
   "source": [
    "# option 1 : List typecast\n",
    "list(rand_dict_gen(5))"
   ]
  },
  {
   "cell_type": "code",
   "execution_count": 53,
   "metadata": {},
   "outputs": [
    {
     "data": {
      "text/plain": [
       "[{'n': 5, 'value': 0.934},\n",
       " {'n': 4, 'value': 0.953},\n",
       " {'n': 3, 'value': 0.271},\n",
       " {'n': 2, 'value': 0.054},\n",
       " {'n': 1, 'value': 0.978},\n",
       " {'n': 0, 'value': 0.422}]"
      ]
     },
     "execution_count": 53,
     "metadata": {},
     "output_type": "execute_result"
    }
   ],
   "source": [
    "# option 2 : List comprehension\n",
    "[i for i in rand_dict_gen(5)]"
   ]
  },
  {
   "cell_type": "code",
   "execution_count": 58,
   "metadata": {},
   "outputs": [
    {
     "data": {
      "text/plain": [
       "[{'n': 4, 'value': 0.673},\n",
       " {'n': 3, 'value': 0.505},\n",
       " {'n': 2, 'value': 0.868},\n",
       " {'n': 1, 'value': 0.996}]"
      ]
     },
     "execution_count": 58,
     "metadata": {},
     "output_type": "execute_result"
    }
   ],
   "source": [
    "# option 3 : conditional acceptance \n",
    "# get random dict if the random value >0.5\n",
    "[i for i in rand_dict_gen(5) if i['value'] > 0.5]"
   ]
  },
  {
   "cell_type": "markdown",
   "metadata": {},
   "source": [
    "## Fibonacci Seq using generator "
   ]
  },
  {
   "cell_type": "code",
   "execution_count": 69,
   "metadata": {},
   "outputs": [],
   "source": [
    "def fibo(n):\n",
    "    a,b= 0,1\n",
    "    while n >= 0:\n",
    "        c = a+b\n",
    "        a = b\n",
    "        b = c\n",
    "        yield c\n",
    "        n -= 1"
   ]
  },
  {
   "cell_type": "code",
   "execution_count": 71,
   "metadata": {},
   "outputs": [
    {
     "data": {
      "text/plain": [
       "[1, 2, 3, 5, 8, 13]"
      ]
     },
     "execution_count": 71,
     "metadata": {},
     "output_type": "execute_result"
    }
   ],
   "source": [
    "n=5\n",
    "[i for i in fibo(n)] "
   ]
  },
  {
   "cell_type": "markdown",
   "metadata": {},
   "source": [
    "### Generator Pipeline\n",
    "Connecting multiple generators in a cascases form. the follwoing example shows two genrator `gen_rand(m,c)` that generates a random integer $n\\in[0,m]$ that is supplied to `fibo(n)` which generates first $n$ __even__ fibonacci numbers, $m \\le c\\in\\mathbb{N}$. print the __fraction__ of even fibo numbers with respect to length of the random fibo sequence. "
   ]
  },
  {
   "cell_type": "code",
   "execution_count": 96,
   "metadata": {},
   "outputs": [],
   "source": [
    "def gen_rand(m,c):\n",
    "    import random as r\n",
    "    while c > 0:\n",
    "        yield r.randint(1,m)\n",
    "        c -= 1"
   ]
  },
  {
   "cell_type": "code",
   "execution_count": 112,
   "metadata": {},
   "outputs": [
    {
     "name": "stdout",
     "output_type": "stream",
     "text": [
      "printing 5 fibo seq(s) of max len = 20\n",
      "len= 7  \t frac= 0.429\n",
      "len= 12  \t frac= 0.333\n",
      "len= 20  \t frac= 0.35\n",
      "len= 10  \t frac= 0.4\n",
      "len= 17  \t frac= 0.353\n"
     ]
    }
   ],
   "source": [
    "import time \n",
    "c = 5  #count\n",
    "m = 20 #max\n",
    "print(f'printing {c} fibo seq(s) of max len = {m}')\n",
    "for i in gen_rand(m,c):\n",
    "    time.sleep(1)\n",
    "    #fibo is defined before\n",
    "    print('len=',i,' \\t', \n",
    "          'frac=',round(\n",
    "                      len( [j for j in fibo(i) if j%2==0] ) / i , 3 \n",
    "                  )\n",
    "         ) "
   ]
  },
  {
   "cell_type": "markdown",
   "metadata": {},
   "source": [
    "# Generator as Contex manager\n",
    "* Create all nessesary DS at the start of the scope\n",
    "* removes all related garbage after the end of the scope\n",
    "* Generators do this using __`try`__, __`yield`__ and __`finally`__ statement, implemented as \n",
    "    ```\n",
    "    @contextmanager\n",
    "    def gen_name([args]):\n",
    "        try:\n",
    "            #setup code\n",
    "            yield\n",
    "        finally:\n",
    "            #wrap up code\n",
    "    ```\n",
    "* The following generator return each line of a given file on demand "
   ]
  },
  {
   "cell_type": "markdown",
   "metadata": {},
   "source": [
    "`testFile.csv` alrady exists in the local directory "
   ]
  },
  {
   "cell_type": "code",
   "execution_count": 196,
   "metadata": {},
   "outputs": [
    {
     "name": "stdout",
     "output_type": "stream",
     "text": [
      "name , city , job \n",
      "Amar , Delhi , Manager\n",
      "Bob  , London , Banker\n",
      "Chen , Beijing , Developer\n",
      "\n",
      "\n"
     ]
    }
   ],
   "source": [
    "with open('testFile.csv','r') as fp:\n",
    "    print(fp.read())"
   ]
  },
  {
   "cell_type": "code",
   "execution_count": 195,
   "metadata": {},
   "outputs": [
    {
     "name": "stdout",
     "output_type": "stream",
     "text": [
      "name , city , job \n",
      "\n"
     ]
    },
    {
     "ename": "RuntimeError",
     "evalue": "generator didn't stop",
     "output_type": "error",
     "traceback": [
      "\u001b[0;31m---------------------------------------------------------------------------\u001b[0m",
      "\u001b[0;31mRuntimeError\u001b[0m                              Traceback (most recent call last)",
      "\u001b[0;32m<ipython-input-195-d976a72637ba>\u001b[0m in \u001b[0;36m<module>\u001b[0;34m\u001b[0m\n\u001b[1;32m     12\u001b[0m \u001b[0;34m\u001b[0m\u001b[0m\n\u001b[1;32m     13\u001b[0m \u001b[0;32mwith\u001b[0m \u001b[0mline_from_file\u001b[0m\u001b[0;34m(\u001b[0m\u001b[0;34m'testFile.csv'\u001b[0m\u001b[0;34m)\u001b[0m \u001b[0;32mas\u001b[0m \u001b[0mf\u001b[0m\u001b[0;34m:\u001b[0m\u001b[0;34m\u001b[0m\u001b[0;34m\u001b[0m\u001b[0m\n\u001b[0;32m---> 14\u001b[0;31m     \u001b[0mprint\u001b[0m\u001b[0;34m(\u001b[0m\u001b[0mf\u001b[0m\u001b[0;34m)\u001b[0m\u001b[0;34m\u001b[0m\u001b[0;34m\u001b[0m\u001b[0m\n\u001b[0m",
      "\u001b[0;32m~/anaconda3/lib/python3.7/contextlib.py\u001b[0m in \u001b[0;36m__exit__\u001b[0;34m(self, type, value, traceback)\u001b[0m\n\u001b[1;32m    121\u001b[0m                 \u001b[0;32mreturn\u001b[0m \u001b[0;32mFalse\u001b[0m\u001b[0;34m\u001b[0m\u001b[0;34m\u001b[0m\u001b[0m\n\u001b[1;32m    122\u001b[0m             \u001b[0;32melse\u001b[0m\u001b[0;34m:\u001b[0m\u001b[0;34m\u001b[0m\u001b[0;34m\u001b[0m\u001b[0m\n\u001b[0;32m--> 123\u001b[0;31m                 \u001b[0;32mraise\u001b[0m \u001b[0mRuntimeError\u001b[0m\u001b[0;34m(\u001b[0m\u001b[0;34m\"generator didn't stop\"\u001b[0m\u001b[0;34m)\u001b[0m\u001b[0;34m\u001b[0m\u001b[0;34m\u001b[0m\u001b[0m\n\u001b[0m\u001b[1;32m    124\u001b[0m         \u001b[0;32melse\u001b[0m\u001b[0;34m:\u001b[0m\u001b[0;34m\u001b[0m\u001b[0;34m\u001b[0m\u001b[0m\n\u001b[1;32m    125\u001b[0m             \u001b[0;32mif\u001b[0m \u001b[0mvalue\u001b[0m \u001b[0;32mis\u001b[0m \u001b[0;32mNone\u001b[0m\u001b[0;34m:\u001b[0m\u001b[0;34m\u001b[0m\u001b[0;34m\u001b[0m\u001b[0m\n",
      "\u001b[0;31mRuntimeError\u001b[0m: generator didn't stop"
     ]
    }
   ],
   "source": [
    "from contextlib import contextmanager\n",
    "import time\n",
    "\n",
    "@contextmanager\n",
    "def line_from_file(filename):\n",
    "    try:\n",
    "        fp = open(filename,'r')\n",
    "        for line in fp.readlines():\n",
    "            yield line\n",
    "    finally:\n",
    "        fp.close()\n",
    "        \n",
    "with line_from_file('testFile.csv') as f:\n",
    "    print(f)"
   ]
  },
  {
   "cell_type": "markdown",
   "metadata": {},
   "source": [
    "# Coroutine \n",
    "* A generator produces values each time isumt's called, a Coroutine consumes. \n",
    "* the manipulation of supplied value to a coroutine is upto the code, and stops when reaches the `yield` statement \n",
    "* Technically a coroutine is built from a generator object but it is conceptually different. I can't iterate over sequences.  \n",
    "* The difference with Function is, a coroutine is __Stateful__ or percistance. \n",
    "* `send()` sends a value to the coroutine"
   ]
  },
  {
   "cell_type": "code",
   "execution_count": 223,
   "metadata": {},
   "outputs": [],
   "source": [
    "def simple_coroutine():\n",
    "    count_s = 0 #string\n",
    "    count_i = 0 #int\n",
    "    count_o = 0 #other\n",
    "    while True:\n",
    "        try:\n",
    "            x = yield  # recipient \n",
    "            if type(x) == str:\n",
    "                count_s += 1\n",
    "            elif type(x) == int:\n",
    "                count_i += 1\n",
    "            else:\n",
    "                count_o += 1\n",
    "            print(f'data={x} srings={count_s} ints={count_i} others={count_o}')\n",
    "        except GeneratorExit:\n",
    "            return -1"
   ]
  },
  {
   "cell_type": "code",
   "execution_count": 224,
   "metadata": {},
   "outputs": [],
   "source": [
    "x = simple_coroutine() #create a coroutine object\n",
    "x.__next__()           #initialize"
   ]
  },
  {
   "cell_type": "code",
   "execution_count": 225,
   "metadata": {},
   "outputs": [
    {
     "name": "stdout",
     "output_type": "stream",
     "text": [
      "data=abc srings=1 ints=0 others=0\n",
      "data=123 srings=1 ints=1 others=0\n",
      "data=145 srings=1 ints=2 others=0\n",
      "data=12.2 srings=1 ints=2 others=1\n",
      "data=pqr srings=2 ints=2 others=1\n"
     ]
    }
   ],
   "source": [
    "import time\n",
    "data = ['abc',123,145,12.2,'pqr']\n",
    "for i in data:\n",
    "    x.send(i)\n",
    "    time.sleep(1)"
   ]
  },
  {
   "cell_type": "code",
   "execution_count": 214,
   "metadata": {},
   "outputs": [
    {
     "data": {
      "text/plain": [
       "False"
      ]
     },
     "execution_count": 214,
     "metadata": {},
     "output_type": "execute_result"
    }
   ],
   "source": [
    "type(12.2) == int"
   ]
  },
  {
   "cell_type": "code",
   "execution_count": null,
   "metadata": {},
   "outputs": [],
   "source": []
  }
 ],
 "metadata": {
  "kernelspec": {
   "display_name": "Python 3",
   "language": "python",
   "name": "python3"
  },
  "language_info": {
   "codemirror_mode": {
    "name": "ipython",
    "version": 3
   },
   "file_extension": ".py",
   "mimetype": "text/x-python",
   "name": "python",
   "nbconvert_exporter": "python",
   "pygments_lexer": "ipython3",
   "version": "3.7.7"
  }
 },
 "nbformat": 4,
 "nbformat_minor": 4
}

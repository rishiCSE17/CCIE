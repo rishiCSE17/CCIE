{
 "cells": [
  {
   "cell_type": "markdown",
   "metadata": {},
   "source": [
    "# Introduction\n",
    "* Standard libraries - A set of built-in function to any language. \n",
    "* External libraries - Something you need to download from external sources for special usage \n",
    "\n",
    "## Logical Operator \n",
    "* And, Or, Not and Xor "
   ]
  },
  {
   "cell_type": "code",
   "execution_count": 27,
   "metadata": {},
   "outputs": [
    {
     "name": "stdout",
     "output_type": "stream",
     "text": [
      "  x  \t y \t   xy \t\t x+y \t ~x \t x^y\n",
      " --- \t---\t  ----\t\t---- \t--- \t----\n",
      "True \t True \t | True \t True \t False \t False\n",
      "True \t False \t | False \t True \t False \t True\n",
      "False \t True \t | False \t True \t True \t True\n",
      "False \t False \t | False \t False \t True \t False\n"
     ]
    }
   ],
   "source": [
    "x = y = [True,False]\n",
    "print ('  x  \\t y \\t   xy \\t\\t x+y \\t ~x \\t x^y')\n",
    "print (' --- \\t---\\t  ----\\t\\t---- \\t--- \\t----')\n",
    "for i in x:\n",
    "    for j in y:\n",
    "        print(f'{i} \\t {j} \\t | {i and j} \\t {i or j} \\t {not i} \\t {i ^ j}')"
   ]
  },
  {
   "cell_type": "markdown",
   "metadata": {},
   "source": [
    "### Logical operators with numbers"
   ]
  },
  {
   "cell_type": "code",
   "execution_count": 38,
   "metadata": {},
   "outputs": [
    {
     "name": "stdout",
     "output_type": "stream",
     "text": [
      " x  \t y \t   xy \t x+y \t ~x \t x^y\n",
      "--- \t---\t  ----\t---- \t--- \t----\n",
      "5 \t 5 \t | 5 \t 5 \t False \t 0\n",
      "5 \t 2 \t | 2 \t 5 \t False \t 7\n",
      "2 \t 5 \t | 5 \t 2 \t False \t 7\n",
      "2 \t 2 \t | 2 \t 2 \t False \t 0\n"
     ]
    }
   ],
   "source": [
    "x = y = [5,2]\n",
    "print (' x  \\t y \\t   xy \\t x+y \\t ~x \\t x^y')\n",
    "print ('--- \\t---\\t  ----\\t---- \\t--- \\t----')\n",
    "for i in x:\n",
    "    for j in y:\n",
    "        print(f'{i} \\t {j} \\t | {i and j} \\t {i or j} \\t {not i} \\t {i ^ j}')"
   ]
  },
  {
   "cell_type": "markdown",
   "metadata": {},
   "source": [
    "### Logical operators with string"
   ]
  },
  {
   "cell_type": "code",
   "execution_count": 63,
   "metadata": {
    "scrolled": true
   },
   "outputs": [
    {
     "name": "stdout",
     "output_type": "stream",
     "text": [
      " x  \t y \t   xy \t x+y \t ~x\n",
      "--- \t---\t  ----\t---- \t---\n",
      "abcd\tabcd\t| abcd\tabcd\tFalse\n",
      "abcd\tac\t| ac\tabcd\tFalse\n",
      "ac\tabcd\t| abcd\tac\tFalse\n",
      "ac\tac\t| ac\tac\tFalse\n"
     ]
    }
   ],
   "source": [
    "x = y = ['abcd','ac']\n",
    "print (' x  \\t y \\t   xy \\t x+y \\t ~x')\n",
    "print ('--- \\t---\\t  ----\\t---- \\t---')\n",
    "for i in x:\n",
    "    for j in y:\n",
    "        print(f'{i}\\t{j}\\t| {i and j}\\t{i or j}\\t{not i}')"
   ]
  },
  {
   "cell_type": "markdown",
   "metadata": {},
   "source": [
    "## Comparison Operator \n",
    "* < , > , == , <= , >= "
   ]
  },
  {
   "cell_type": "code",
   "execution_count": 67,
   "metadata": {},
   "outputs": [
    {
     "name": "stdout",
     "output_type": "stream",
     "text": [
      "1 \t False\n",
      "2 \t True\n",
      "3 \t True\n",
      "4 \t False\n"
     ]
    }
   ],
   "source": [
    "# basics\n",
    "print('1 \\t' , 6<1)\n",
    "print('2 \\t' , 6==6)\n",
    "\n",
    "# strings\n",
    "print('3 \\t' , 'abcde'<'acdef') #compares first missmatch char \n",
    "print('4 \\t' , 'abcdefg' > 'acd')"
   ]
  },
  {
   "cell_type": "markdown",
   "metadata": {},
   "source": [
    "## `len()`\n",
    "returns the number of elements of any iterable object"
   ]
  },
  {
   "cell_type": "code",
   "execution_count": 73,
   "metadata": {},
   "outputs": [
    {
     "name": "stdout",
     "output_type": "stream",
     "text": [
      "4\n",
      "0\n"
     ]
    }
   ],
   "source": [
    "print('abcd'.__len__())\n",
    "print(''.__len__())"
   ]
  },
  {
   "cell_type": "code",
   "execution_count": 70,
   "metadata": {},
   "outputs": [
    {
     "data": {
      "text/plain": [
       "4"
      ]
     },
     "execution_count": 70,
     "metadata": {},
     "output_type": "execute_result"
    }
   ],
   "source": [
    "len('abcd')"
   ]
  },
  {
   "cell_type": "code",
   "execution_count": 72,
   "metadata": {},
   "outputs": [
    {
     "data": {
      "text/plain": [
       "5"
      ]
     },
     "execution_count": 72,
     "metadata": {},
     "output_type": "execute_result"
    }
   ],
   "source": [
    "len([1,2,3,5,6])"
   ]
  },
  {
   "cell_type": "code",
   "execution_count": 75,
   "metadata": {},
   "outputs": [
    {
     "data": {
      "text/plain": [
       "3"
      ]
     },
     "execution_count": 75,
     "metadata": {},
     "output_type": "execute_result"
    }
   ],
   "source": [
    "len({'a':10, 'b':20, 'c':30})"
   ]
  },
  {
   "cell_type": "markdown",
   "metadata": {},
   "source": [
    "## `range()`\n",
    "\n",
    "* `range(n)` : $0 ... n-1$\n",
    "* `range(m,n)` : $m ... n-1$\n",
    "* `range(m,n,p)` : $m, m+p , m+2p, ... n-1$"
   ]
  },
  {
   "cell_type": "code",
   "execution_count": 76,
   "metadata": {},
   "outputs": [
    {
     "name": "stdout",
     "output_type": "stream",
     "text": [
      "[0, 1, 2, 3, 4]\n",
      "[5, 6, 7, 8, 9]\n",
      "[1, 4, 7]\n"
     ]
    }
   ],
   "source": [
    "print( list( range(5) ) )\n",
    "print( list( range(5,10) ) )\n",
    "print( list( range(1,10,3) ) )"
   ]
  },
  {
   "cell_type": "markdown",
   "metadata": {},
   "source": [
    "## `min()` & `max()`"
   ]
  },
  {
   "cell_type": "code",
   "execution_count": 82,
   "metadata": {},
   "outputs": [
    {
     "name": "stdout",
     "output_type": "stream",
     "text": [
      "a d\n",
      "1 4\n"
     ]
    }
   ],
   "source": [
    "print( min('abcd'), max('abcd') )\n",
    "print( min([1,2,3,4]) , max([1,2,3,4]))"
   ]
  },
  {
   "cell_type": "code",
   "execution_count": 87,
   "metadata": {},
   "outputs": [
    {
     "name": "stdout",
     "output_type": "stream",
     "text": [
      "aabbcc\n",
      "x\n"
     ]
    }
   ],
   "source": [
    "print(min('aabbcc','aabc'))\n",
    "print(max('x','aabc'))"
   ]
  },
  {
   "cell_type": "markdown",
   "metadata": {},
   "source": [
    "## `round()`"
   ]
  },
  {
   "cell_type": "code",
   "execution_count": 92,
   "metadata": {},
   "outputs": [
    {
     "name": "stdout",
     "output_type": "stream",
     "text": [
      "4\n",
      "4.7\n",
      "4.5\n",
      "4.7\n",
      "-2.322\n"
     ]
    }
   ],
   "source": [
    "print( round(4) )\n",
    "print( round(4.67 , 1) )\n",
    "print( round(4.55 , 1) )\n",
    "print( round(4.65 , 1) )\n",
    "print( round(-2.32231 , 3) )"
   ]
  },
  {
   "cell_type": "markdown",
   "metadata": {},
   "source": [
    "## `abs()`"
   ]
  },
  {
   "cell_type": "code",
   "execution_count": 93,
   "metadata": {},
   "outputs": [
    {
     "name": "stdout",
     "output_type": "stream",
     "text": [
      "2.3 2.3\n"
     ]
    }
   ],
   "source": [
    "print( abs(-2.3) , abs(2.3) )"
   ]
  },
  {
   "cell_type": "markdown",
   "metadata": {},
   "source": [
    "## `pow()`"
   ]
  },
  {
   "cell_type": "code",
   "execution_count": 94,
   "metadata": {},
   "outputs": [
    {
     "name": "stdout",
     "output_type": "stream",
     "text": [
      "33554432 0.125\n"
     ]
    }
   ],
   "source": [
    "print( pow(2,25) , pow(2, -3) )"
   ]
  },
  {
   "cell_type": "markdown",
   "metadata": {},
   "source": [
    "## `sorted()`"
   ]
  },
  {
   "cell_type": "code",
   "execution_count": 95,
   "metadata": {},
   "outputs": [
    {
     "data": {
      "text/plain": [
       "[5, 4, 3, 2, 1]"
      ]
     },
     "execution_count": 95,
     "metadata": {},
     "output_type": "execute_result"
    }
   ],
   "source": [
    "sorted( [1,2,3,4,5] , reverse=True )"
   ]
  },
  {
   "cell_type": "code",
   "execution_count": 100,
   "metadata": {},
   "outputs": [
    {
     "data": {
      "text/plain": [
       "['Ann', 'jerry', 'lynda', 'sue']"
      ]
     },
     "execution_count": 100,
     "metadata": {},
     "output_type": "execute_result"
    }
   ],
   "source": [
    "sorted( ['Ann','sue', 'jerry', 'lynda'], key=str.upper)"
   ]
  },
  {
   "cell_type": "code",
   "execution_count": 112,
   "metadata": {},
   "outputs": [
    {
     "data": {
      "text/plain": [
       "['dolly', 'ema']"
      ]
     },
     "execution_count": 112,
     "metadata": {},
     "output_type": "execute_result"
    }
   ],
   "source": [
    "# find the name of the top scorer \n",
    "x = {'alex':60 , 'bob': 30 , 'charlie':65 , 'dolly':75, 'ema':75 }\n",
    "v = sorted( list(x.values()) , reverse=True)[0]\n",
    "[key for (key,value) in x.items() if value==75]"
   ]
  },
  {
   "cell_type": "code",
   "execution_count": 117,
   "metadata": {},
   "outputs": [
    {
     "name": "stdout",
     "output_type": "stream",
     "text": [
      "by name  : [('alice', 'B', 12), ('bob', 'A', 16), ('chirls', 'C', 15)]\n",
      "by grade : [('bob', 'A', 16), ('alice', 'B', 12), ('chirls', 'C', 15)]\n",
      "by marks : [('bob', 'A', 16), ('chirls', 'C', 15), ('alice', 'B', 12)]\n"
     ]
    }
   ],
   "source": [
    "marks = [('alice' , 'B' , 12),\n",
    "         ('bob',    'A' , 16),\n",
    "         ('chirls', 'C' , 15)]\n",
    "print('by name  :' , \n",
    "      sorted( marks, key = lambda marks:marks[0] )\n",
    "     )\n",
    "print('by grade :' , \n",
    "      sorted( marks, key = lambda marks:marks[1] )\n",
    "     )\n",
    "print('by marks :' , \n",
    "      sorted( marks, key = lambda marks:marks[2], \n",
    "              reverse=True )\n",
    "     )"
   ]
  },
  {
   "cell_type": "markdown",
   "metadata": {},
   "source": [
    "## `type()`"
   ]
  },
  {
   "cell_type": "code",
   "execution_count": 120,
   "metadata": {},
   "outputs": [
    {
     "name": "stdout",
     "output_type": "stream",
     "text": [
      "1 <class 'int'>\n",
      "2 <class 'float'>\n",
      "3 <class 'str'>\n",
      "4 <class 'list'>\n",
      "5 <class 'set'>\n",
      "6 <class 'dict'>\n",
      "7 <class 'tuple'>\n",
      "8 <class 'range'>\n"
     ]
    }
   ],
   "source": [
    "print( '1',type(10) )\n",
    "print( '2',type(10.0) )\n",
    "print( '3',type('abc') )\n",
    "print( '4',type([10,20]) )\n",
    "print( '5',type({10,20}) )\n",
    "print( '6',type({'a':10, 'b':20}) )\n",
    "print( '7',type((10,20)) )\n",
    "print( '8',type(range(4)))"
   ]
  },
  {
   "cell_type": "markdown",
   "metadata": {},
   "source": [
    "## isInstance()"
   ]
  },
  {
   "cell_type": "code",
   "execution_count": 136,
   "metadata": {},
   "outputs": [
    {
     "name": "stdout",
     "output_type": "stream",
     "text": [
      "me my_father\n"
     ]
    }
   ],
   "source": [
    "class Base:\n",
    "    def __init__(self,name):\n",
    "        self.pname = name\n",
    "        \n",
    "class Test(Base):\n",
    "    def __init__(self, name, pname):\n",
    "        super().__init__(pname)\n",
    "        self.name = name\n",
    "        \n",
    "b = Base('me')        \n",
    "t = Test('me','my_father')\n",
    "print(t.name, t.pname)"
   ]
  },
  {
   "cell_type": "code",
   "execution_count": 135,
   "metadata": {},
   "outputs": [
    {
     "data": {
      "text/plain": [
       "__main__.Test"
      ]
     },
     "execution_count": 135,
     "metadata": {},
     "output_type": "execute_result"
    }
   ],
   "source": [
    "type(t)"
   ]
  },
  {
   "cell_type": "code",
   "execution_count": 137,
   "metadata": {},
   "outputs": [
    {
     "data": {
      "text/plain": [
       "False"
      ]
     },
     "execution_count": 137,
     "metadata": {},
     "output_type": "execute_result"
    }
   ],
   "source": [
    "type(t) == type(b)"
   ]
  },
  {
   "cell_type": "code",
   "execution_count": 139,
   "metadata": {},
   "outputs": [
    {
     "data": {
      "text/plain": [
       "True"
      ]
     },
     "execution_count": 139,
     "metadata": {},
     "output_type": "execute_result"
    }
   ],
   "source": [
    "isinstance(t,Base) #includes inheritence "
   ]
  },
  {
   "cell_type": "markdown",
   "metadata": {},
   "source": [
    "# Math Module"
   ]
  },
  {
   "cell_type": "markdown",
   "metadata": {},
   "source": [
    "## basic constants "
   ]
  },
  {
   "cell_type": "code",
   "execution_count": 140,
   "metadata": {},
   "outputs": [],
   "source": [
    "import math"
   ]
  },
  {
   "cell_type": "code",
   "execution_count": 141,
   "metadata": {},
   "outputs": [
    {
     "data": {
      "text/plain": [
       "3.141592653589793"
      ]
     },
     "execution_count": 141,
     "metadata": {},
     "output_type": "execute_result"
    }
   ],
   "source": [
    "math.pi"
   ]
  },
  {
   "cell_type": "code",
   "execution_count": 142,
   "metadata": {},
   "outputs": [
    {
     "data": {
      "text/plain": [
       "2.718281828459045"
      ]
     },
     "execution_count": 142,
     "metadata": {},
     "output_type": "execute_result"
    }
   ],
   "source": [
    "math.e"
   ]
  },
  {
   "cell_type": "code",
   "execution_count": 143,
   "metadata": {},
   "outputs": [
    {
     "data": {
      "text/plain": [
       "nan"
      ]
     },
     "execution_count": 143,
     "metadata": {},
     "output_type": "execute_result"
    }
   ],
   "source": [
    "math.nan"
   ]
  },
  {
   "cell_type": "markdown",
   "metadata": {},
   "source": [
    "## triginometric value"
   ]
  },
  {
   "cell_type": "code",
   "execution_count": 146,
   "metadata": {},
   "outputs": [
    {
     "data": {
      "text/plain": [
       "0.49999999999999994"
      ]
     },
     "execution_count": 146,
     "metadata": {},
     "output_type": "execute_result"
    }
   ],
   "source": [
    "math.sin(math.pi/6)"
   ]
  },
  {
   "cell_type": "markdown",
   "metadata": {},
   "source": [
    "### `radians()`"
   ]
  },
  {
   "cell_type": "code",
   "execution_count": 155,
   "metadata": {},
   "outputs": [
    {
     "data": {
      "text/plain": [
       "0.49999999999999994"
      ]
     },
     "execution_count": 155,
     "metadata": {},
     "output_type": "execute_result"
    }
   ],
   "source": [
    "math.sin(math.radians(30)) #to calculate in degrees"
   ]
  },
  {
   "cell_type": "markdown",
   "metadata": {},
   "source": [
    "### `degrees()`"
   ]
  },
  {
   "cell_type": "code",
   "execution_count": 157,
   "metadata": {},
   "outputs": [
    {
     "data": {
      "text/plain": [
       "29.999999999999996"
      ]
     },
     "execution_count": 157,
     "metadata": {},
     "output_type": "execute_result"
    }
   ],
   "source": [
    "math.degrees(math.pi/6)"
   ]
  },
  {
   "cell_type": "markdown",
   "metadata": {},
   "source": [
    "## `ceil()` & `floor`"
   ]
  },
  {
   "cell_type": "code",
   "execution_count": 147,
   "metadata": {},
   "outputs": [
    {
     "data": {
      "text/plain": [
       "6"
      ]
     },
     "execution_count": 147,
     "metadata": {},
     "output_type": "execute_result"
    }
   ],
   "source": [
    "math.ceil(5.6)"
   ]
  },
  {
   "cell_type": "code",
   "execution_count": 148,
   "metadata": {},
   "outputs": [
    {
     "data": {
      "text/plain": [
       "5"
      ]
     },
     "execution_count": 148,
     "metadata": {},
     "output_type": "execute_result"
    }
   ],
   "source": [
    "math.floor(5.6)"
   ]
  },
  {
   "cell_type": "markdown",
   "metadata": {},
   "source": [
    "## `factorial()`"
   ]
  },
  {
   "cell_type": "code",
   "execution_count": 149,
   "metadata": {},
   "outputs": [
    {
     "data": {
      "text/plain": [
       "120"
      ]
     },
     "execution_count": 149,
     "metadata": {},
     "output_type": "execute_result"
    }
   ],
   "source": [
    "math.factorial(5)"
   ]
  },
  {
   "cell_type": "markdown",
   "metadata": {},
   "source": [
    "## `gcd()`"
   ]
  },
  {
   "cell_type": "code",
   "execution_count": 151,
   "metadata": {},
   "outputs": [
    {
     "data": {
      "text/plain": [
       "5"
      ]
     },
     "execution_count": 151,
     "metadata": {},
     "output_type": "execute_result"
    }
   ],
   "source": [
    "math.gcd(20,15)"
   ]
  },
  {
   "cell_type": "markdown",
   "metadata": {},
   "source": [
    "## `sqrt()`"
   ]
  },
  {
   "cell_type": "code",
   "execution_count": 152,
   "metadata": {},
   "outputs": [
    {
     "data": {
      "text/plain": [
       "4.358898943540674"
      ]
     },
     "execution_count": 152,
     "metadata": {},
     "output_type": "execute_result"
    }
   ],
   "source": [
    "math.sqrt(19)"
   ]
  },
  {
   "cell_type": "code",
   "execution_count": 153,
   "metadata": {},
   "outputs": [
    {
     "data": {
      "text/plain": [
       "4.358898943540674"
      ]
     },
     "execution_count": 153,
     "metadata": {},
     "output_type": "execute_result"
    }
   ],
   "source": [
    "19 ** 0.5"
   ]
  },
  {
   "cell_type": "markdown",
   "metadata": {},
   "source": [
    "# random"
   ]
  },
  {
   "cell_type": "code",
   "execution_count": 158,
   "metadata": {},
   "outputs": [],
   "source": [
    "import random"
   ]
  },
  {
   "cell_type": "code",
   "execution_count": 161,
   "metadata": {},
   "outputs": [
    {
     "data": {
      "text/plain": [
       "0.3840957563352422"
      ]
     },
     "execution_count": 161,
     "metadata": {},
     "output_type": "execute_result"
    }
   ],
   "source": [
    "random.random() # r in [0,1]"
   ]
  },
  {
   "cell_type": "code",
   "execution_count": 164,
   "metadata": {},
   "outputs": [
    {
     "name": "stdout",
     "output_type": "stream",
     "text": [
      "3\n",
      "3\n",
      "8\n"
     ]
    }
   ],
   "source": [
    "print( random.randrange(5) )    # r in [0,5)\n",
    "print( random.randrange(2,10) ) # r in [2,10)\n",
    "print( random.randrange(2,10,2))# r in {2, 4, 6, 8}"
   ]
  },
  {
   "cell_type": "markdown",
   "metadata": {},
   "source": [
    "## `sample()`"
   ]
  },
  {
   "cell_type": "code",
   "execution_count": 174,
   "metadata": {},
   "outputs": [
    {
     "data": {
      "text/plain": [
       "[98, 66, 11, 97, 20]"
      ]
     },
     "execution_count": 174,
     "metadata": {},
     "output_type": "execute_result"
    }
   ],
   "source": [
    "# picking up m random numbers from a population of n\n",
    "n = 100\n",
    "m = 5 \n",
    "random.sample(population=range(n), k=m)\n"
   ]
  },
  {
   "cell_type": "markdown",
   "metadata": {},
   "source": [
    "## `choice()`"
   ]
  },
  {
   "cell_type": "code",
   "execution_count": 176,
   "metadata": {},
   "outputs": [
    {
     "data": {
      "text/plain": [
       "11"
      ]
     },
     "execution_count": 176,
     "metadata": {},
     "output_type": "execute_result"
    }
   ],
   "source": [
    "# any random value from the population\n",
    "random.choice(range(100))"
   ]
  },
  {
   "cell_type": "markdown",
   "metadata": {},
   "source": [
    "## `shuffle()`"
   ]
  },
  {
   "cell_type": "code",
   "execution_count": 185,
   "metadata": {},
   "outputs": [
    {
     "name": "stdout",
     "output_type": "stream",
     "text": [
      "before \t [1, 3, 5, 7, 9]\n",
      "after \t [9, 3, 7, 1, 5]\n"
     ]
    }
   ],
   "source": [
    "x = list(range(1,10,2))\n",
    "print('before \\t', x)\n",
    "random.shuffle( x )\n",
    "print('after \\t', x)"
   ]
  },
  {
   "cell_type": "markdown",
   "metadata": {},
   "source": [
    "# Statistics"
   ]
  },
  {
   "cell_type": "code",
   "execution_count": 188,
   "metadata": {},
   "outputs": [],
   "source": [
    "import statistics as stat"
   ]
  },
  {
   "cell_type": "code",
   "execution_count": 189,
   "metadata": {},
   "outputs": [],
   "source": [
    "x = [2,3,3,4,5,6]"
   ]
  },
  {
   "cell_type": "code",
   "execution_count": 190,
   "metadata": {},
   "outputs": [
    {
     "data": {
      "text/plain": [
       "3.8333333333333335"
      ]
     },
     "execution_count": 190,
     "metadata": {},
     "output_type": "execute_result"
    }
   ],
   "source": [
    "stat.mean(x) #average "
   ]
  },
  {
   "cell_type": "code",
   "execution_count": 199,
   "metadata": {},
   "outputs": [
    {
     "data": {
      "text/plain": [
       "3.5"
      ]
     },
     "execution_count": 199,
     "metadata": {},
     "output_type": "execute_result"
    }
   ],
   "source": [
    "#finding median without using the function\n",
    "def get_median(x):\n",
    "    import math as m\n",
    "    sorted(x)\n",
    "    if len(x)%2 == 1:\n",
    "        return x[m.ceil(len(x)/2)]\n",
    "    else:\n",
    "        return ( x[m.ceil(len(x)/2)]+\n",
    "                 x[m.ceil(len(x)/2) - 1] ) /2\n",
    "get_median(x)"
   ]
  },
  {
   "cell_type": "code",
   "execution_count": 191,
   "metadata": {},
   "outputs": [
    {
     "data": {
      "text/plain": [
       "3.5"
      ]
     },
     "execution_count": 191,
     "metadata": {},
     "output_type": "execute_result"
    }
   ],
   "source": [
    "stat.median(x) #mid point "
   ]
  },
  {
   "cell_type": "code",
   "execution_count": 192,
   "metadata": {},
   "outputs": [
    {
     "data": {
      "text/plain": [
       "3"
      ]
     },
     "execution_count": 192,
     "metadata": {},
     "output_type": "execute_result"
    }
   ],
   "source": [
    "stat.mode(x) #most frequent "
   ]
  },
  {
   "cell_type": "code",
   "execution_count": 197,
   "metadata": {},
   "outputs": [
    {
     "data": {
      "text/plain": [
       "2.1666666666666665"
      ]
     },
     "execution_count": 197,
     "metadata": {},
     "output_type": "execute_result"
    }
   ],
   "source": [
    "stat.variance(x)"
   ]
  },
  {
   "cell_type": "code",
   "execution_count": 198,
   "metadata": {},
   "outputs": [
    {
     "data": {
      "text/plain": [
       "1.4719601443879744"
      ]
     },
     "execution_count": 198,
     "metadata": {},
     "output_type": "execute_result"
    }
   ],
   "source": [
    "stat.stdev(x)"
   ]
  },
  {
   "cell_type": "markdown",
   "metadata": {},
   "source": [
    "# Itertool\n",
    "Used for infinite countung mechanism \n",
    "* https://docs.python.org/3/library/itertools.html"
   ]
  },
  {
   "cell_type": "code",
   "execution_count": 1,
   "metadata": {},
   "outputs": [],
   "source": [
    "import itertools"
   ]
  },
  {
   "cell_type": "markdown",
   "metadata": {},
   "source": [
    "## Finite iterators\n",
    "### Cumulative sum : `accumulate()`"
   ]
  },
  {
   "cell_type": "code",
   "execution_count": 210,
   "metadata": {},
   "outputs": [
    {
     "data": {
      "text/plain": [
       "[1, 3, 6, 10, 15]"
      ]
     },
     "execution_count": 210,
     "metadata": {},
     "output_type": "execute_result"
    }
   ],
   "source": [
    "# Cumulative sum \n",
    "\n",
    "list( itertools.accumulate([1,2,3,4,5]) )"
   ]
  },
  {
   "cell_type": "markdown",
   "metadata": {},
   "source": [
    "### Binary Selection : `Compress()`"
   ]
  },
  {
   "cell_type": "code",
   "execution_count": 213,
   "metadata": {},
   "outputs": [
    {
     "data": {
      "text/plain": [
       "['a', 'e']"
      ]
     },
     "execution_count": 213,
     "metadata": {},
     "output_type": "execute_result"
    }
   ],
   "source": [
    "x = ['a','b','c','d','e','f','g']\n",
    "y = [1,0,0,0,1,0,0]\n",
    "list (itertools.compress(x,y))"
   ]
  },
  {
   "cell_type": "markdown",
   "metadata": {},
   "source": [
    "### Conditional Selection : `dropwhile()` & `takewhile()`\n",
    "drop or take untill the first match happens"
   ]
  },
  {
   "cell_type": "code",
   "execution_count": 226,
   "metadata": {},
   "outputs": [
    {
     "data": {
      "text/plain": [
       "['b', 'c', 'd', 'e', 'f', 'g']"
      ]
     },
     "execution_count": 226,
     "metadata": {},
     "output_type": "execute_result"
    }
   ],
   "source": [
    "#dropwhile\n",
    "list( itertools.dropwhile(lambda i : i in ['a','e'] , x) )"
   ]
  },
  {
   "cell_type": "code",
   "execution_count": 222,
   "metadata": {},
   "outputs": [
    {
     "data": {
      "text/plain": [
       "['a']"
      ]
     },
     "execution_count": 222,
     "metadata": {},
     "output_type": "execute_result"
    }
   ],
   "source": [
    "#takewhile\n",
    "list( itertools.takewhile(lambda i : i in ['a','e'] , x) )"
   ]
  },
  {
   "cell_type": "markdown",
   "metadata": {},
   "source": [
    "## Infinite iterators\n",
    "### Count to infinity from $n$ : `count(n,[step])`"
   ]
  },
  {
   "cell_type": "code",
   "execution_count": 12,
   "metadata": {},
   "outputs": [
    {
     "name": "stdout",
     "output_type": "stream",
     "text": [
      "5\n",
      "6\n",
      "7\n",
      "8\n",
      "9\n"
     ]
    }
   ],
   "source": [
    "for i in itertools.count(5):\n",
    "    if i < 10:\n",
    "        print(i)\n",
    "    else:\n",
    "        break # the brak is must \n",
    "              # otherwise it'll keep counting w/o printing  \n",
    "              # and eventually crash "
   ]
  },
  {
   "cell_type": "markdown",
   "metadata": {},
   "source": [
    "### Repeat a sequence infinitely : `cycle(seq)`"
   ]
  },
  {
   "cell_type": "code",
   "execution_count": 18,
   "metadata": {},
   "outputs": [
    {
     "name": "stdout",
     "output_type": "stream",
     "text": [
      "[1, 2, 3, 1, 2, 3, 1, 2, 3, 1, 2, 3]\n"
     ]
    }
   ],
   "source": [
    "a = []\n",
    "for i in itertools.cycle([1,2,3]):\n",
    "    if ( len(a) < 12):\n",
    "        a.append(i)\n",
    "    else:\n",
    "        break \n",
    "print(a)"
   ]
  },
  {
   "cell_type": "markdown",
   "metadata": {},
   "source": [
    "## Combinatorics \n",
    "### `permulation(X)`"
   ]
  },
  {
   "cell_type": "code",
   "execution_count": 13,
   "metadata": {},
   "outputs": [
    {
     "data": {
      "text/plain": [
       "[(1, 2, 3), (1, 3, 2), (2, 1, 3), (2, 3, 1), (3, 1, 2), (3, 2, 1)]"
      ]
     },
     "execution_count": 13,
     "metadata": {},
     "output_type": "execute_result"
    }
   ],
   "source": [
    "# all possible ordering \n",
    "list ( itertools.permutations( [1,2,3] ) )"
   ]
  },
  {
   "cell_type": "markdown",
   "metadata": {},
   "source": [
    "### `combination(X,r)`"
   ]
  },
  {
   "cell_type": "code",
   "execution_count": 15,
   "metadata": {},
   "outputs": [
    {
     "data": {
      "text/plain": [
       "[(1, 2), (1, 3), (2, 3)]"
      ]
     },
     "execution_count": 15,
     "metadata": {},
     "output_type": "execute_result"
    }
   ],
   "source": [
    "# all possible subsets of length r\n",
    "list (itertools.combinations( [1,2,3] , 2))"
   ]
  },
  {
   "cell_type": "markdown",
   "metadata": {},
   "source": [
    "# Input / Output"
   ]
  },
  {
   "cell_type": "markdown",
   "metadata": {},
   "source": [
    "## Command Line Argument "
   ]
  },
  {
   "cell_type": "code",
   "execution_count": 24,
   "metadata": {},
   "outputs": [
    {
     "name": "stdout",
     "output_type": "stream",
     "text": [
      "number of args : \t 2\n",
      "arg list       : \t ['-f', '/home/rishi/.local/share/jupyter/runtime/kernel-ffdf23a7-4711-48fc-9409-bdaa81d18754.json']\n",
      "Error : Bad Input\n"
     ]
    }
   ],
   "source": [
    "# summing up all numbers from CLI\n",
    "import sys\n",
    "\n",
    "print('number of args : \\t', len( sys.argv ))\n",
    "print('arg list       : \\t', sys.argv )\n",
    "# remove the first item \n",
    "sys.argv.remove(sys.argv[0])\n",
    "\n",
    "#sum up the rest is possible \n",
    "try:\n",
    "    sum = 0\n",
    "    for i in sys.argv:\n",
    "        sum += int(i)\n",
    "    print(f'sum : {sum}')\n",
    "except:\n",
    "    print('Error : Bad Input')"
   ]
  },
  {
   "cell_type": "markdown",
   "metadata": {},
   "source": [
    "This code won't run within Jupyter cell, make a new file and run on CLI \n",
    "```\n",
    "$ python3 cla.py '1' '2' '3'\n",
    "number of args : \t 4\n",
    "arg list       : \t ['cla.py', '1', '2', '3']\n",
    "sum : 6\n",
    "\n",
    "$ python3 cla.py '1' '2' 'a'\n",
    "number of args : \t 4\n",
    "arg list       : \t ['cla.py', '1', '2', 'a']\n",
    "Error : Bad Input\n",
    "\n",
    "```"
   ]
  },
  {
   "cell_type": "markdown",
   "metadata": {},
   "source": [
    "## Files\n",
    "Files make your data __Persistant__\n",
    "### Reading and writing \n",
    "* Files are opened with a __File Pointer__ and read/written using a __Seek Pointer__\n",
    "* If the named file doesn't exist, it'll create one\n",
    "* Operation modes :\n",
    "    * __r__  : read \n",
    "    * __w__  : write, erase all previous content \n",
    "    * __r+__ : read + write\n",
    "    * __a__  : append, adds new content after previous one "
   ]
  },
  {
   "cell_type": "code",
   "execution_count": 86,
   "metadata": {},
   "outputs": [],
   "source": [
    "# open/create a file\n",
    "fp = open('testFile.csv','w')\n",
    "\n",
    "# write 3 entries \n",
    "entries = ['name , city , job ',\n",
    "           'Amar , Delhi , Manager',\n",
    "           'Bob  , London , Banker',\n",
    "           'Chen , NY , Developer']\n",
    "\n",
    "# writing in file\n",
    "for e in entries: \n",
    "    fp.write(e+'\\n')\n",
    "\n",
    "# close the file    \n",
    "fp.close()"
   ]
  },
  {
   "cell_type": "code",
   "execution_count": 87,
   "metadata": {},
   "outputs": [
    {
     "data": {
      "text/html": [
       "<div>\n",
       "<style scoped>\n",
       "    .dataframe tbody tr th:only-of-type {\n",
       "        vertical-align: middle;\n",
       "    }\n",
       "\n",
       "    .dataframe tbody tr th {\n",
       "        vertical-align: top;\n",
       "    }\n",
       "\n",
       "    .dataframe thead th {\n",
       "        text-align: right;\n",
       "    }\n",
       "</style>\n",
       "<table border=\"1\" class=\"dataframe\">\n",
       "  <thead>\n",
       "    <tr style=\"text-align: right;\">\n",
       "      <th></th>\n",
       "      <th>name</th>\n",
       "      <th>city</th>\n",
       "      <th>job</th>\n",
       "    </tr>\n",
       "  </thead>\n",
       "  <tbody>\n",
       "    <tr>\n",
       "      <th>0</th>\n",
       "      <td>Amar</td>\n",
       "      <td>Delhi</td>\n",
       "      <td>Manager</td>\n",
       "    </tr>\n",
       "    <tr>\n",
       "      <th>1</th>\n",
       "      <td>Bob</td>\n",
       "      <td>London</td>\n",
       "      <td>Banker</td>\n",
       "    </tr>\n",
       "    <tr>\n",
       "      <th>2</th>\n",
       "      <td>Chen</td>\n",
       "      <td>NY</td>\n",
       "      <td>Developer</td>\n",
       "    </tr>\n",
       "  </tbody>\n",
       "</table>\n",
       "</div>"
      ],
      "text/plain": [
       "   name      city         job \n",
       "0  Amar     Delhi      Manager\n",
       "1  Bob     London       Banker\n",
       "2  Chen        NY    Developer"
      ]
     },
     "execution_count": 87,
     "metadata": {},
     "output_type": "execute_result"
    }
   ],
   "source": [
    "import pandas as pd\n",
    "df = pd.read_csv('testFile.csv')\n",
    "df"
   ]
  },
  {
   "cell_type": "markdown",
   "metadata": {},
   "source": [
    "### See 'open' params"
   ]
  },
  {
   "cell_type": "code",
   "execution_count": 46,
   "metadata": {},
   "outputs": [
    {
     "name": "stdout",
     "output_type": "stream",
     "text": [
      " name = testFile.csv \n",
      " mode = r \n",
      " seek = <built-in method seek of _io.TextIOWrapper object at 0x7f3dde050210>\n"
     ]
    }
   ],
   "source": [
    "fp = open('testFile.csv','r')\n",
    "print(f' name = {fp.name} \\n mode = {fp.mode} \\n seek = {fp.seek}')"
   ]
  },
  {
   "cell_type": "markdown",
   "metadata": {},
   "source": [
    "### Reading a file\n",
    "we're gonna see how `with` clause is useful in it"
   ]
  },
  {
   "cell_type": "code",
   "execution_count": 47,
   "metadata": {},
   "outputs": [
    {
     "name": "stdout",
     "output_type": "stream",
     "text": [
      "name , city , job \n",
      "\n",
      "Amar , Delhi , Manager\n",
      "\n",
      "Bob  , London , Banker\n",
      "\n",
      "Chen , NY , Developer\n",
      "\n"
     ]
    }
   ],
   "source": [
    "# 'with' opens a file and makes it life for a scope only\n",
    "with open('testFile.csv','r') as fp:\n",
    "    for line in fp.readlines():\n",
    "        print(line)"
   ]
  },
  {
   "cell_type": "markdown",
   "metadata": {},
   "source": [
    "### File Seeking"
   ]
  },
  {
   "cell_type": "code",
   "execution_count": 52,
   "metadata": {},
   "outputs": [
    {
     "name": "stdout",
     "output_type": "stream",
     "text": [
      "name , cit\n",
      "y , job \n",
      "A\n"
     ]
    }
   ],
   "source": [
    "fp = open('testFile.csv','r')\n",
    "print(fp.read(10)) # read 10 characters\n",
    "print(fp.read(10))\n",
    "fp.close()"
   ]
  },
  {
   "cell_type": "markdown",
   "metadata": {},
   "source": [
    "Notice, everytime a read statement is given its being offset. the __Seek pointer__ remembers where it left the last read. to reset use __`fp.seek(n)`__ funtion to set the pointer to $n$ position, $n=0$ means resetting to begining "
   ]
  },
  {
   "cell_type": "code",
   "execution_count": 49,
   "metadata": {},
   "outputs": [
    {
     "name": "stdout",
     "output_type": "stream",
     "text": [
      "name , cit\n",
      "name , cit\n"
     ]
    }
   ],
   "source": [
    "fp = open('testFile.csv','r')\n",
    "\n",
    "print(fp.read(10)) # read 10 characters\n",
    "fp.seek(0)         # resetting SP to 0\n",
    "print(fp.read(10)) # reading again \n",
    "\n",
    "fp.close()"
   ]
  },
  {
   "cell_type": "markdown",
   "metadata": {},
   "source": [
    "### using `str.replace()` to update a file"
   ]
  },
  {
   "cell_type": "code",
   "execution_count": 88,
   "metadata": {},
   "outputs": [
    {
     "data": {
      "text/plain": [
       "['name , city , job \\n',\n",
       " 'Amar , Delhi , Manager\\n',\n",
       " 'Bob  , London , Banker\\n',\n",
       " 'Chen , Beijing , Developer\\n']"
      ]
     },
     "execution_count": 88,
     "metadata": {},
     "output_type": "execute_result"
    }
   ],
   "source": [
    "# change Chen's city to Beijing\n",
    "# step 1: Read the file content and relpace accrodingly\n",
    "temp = []\n",
    "with open('testFile.csv','r') as fp:\n",
    "    for line in fp.readlines():\n",
    "        temp.append( line.replace('Chen , NY , Developer', 'Chen , Beijing , Developer') )\n",
    "\n",
    "temp # for verification"
   ]
  },
  {
   "cell_type": "code",
   "execution_count": 89,
   "metadata": {},
   "outputs": [],
   "source": [
    "# step 2: write back to the file\n",
    "with open('testFile.csv','w') as fp:\n",
    "    for line in temp:\n",
    "        fp.write(line+'\\n')"
   ]
  },
  {
   "cell_type": "code",
   "execution_count": 90,
   "metadata": {},
   "outputs": [
    {
     "data": {
      "text/html": [
       "<div>\n",
       "<style scoped>\n",
       "    .dataframe tbody tr th:only-of-type {\n",
       "        vertical-align: middle;\n",
       "    }\n",
       "\n",
       "    .dataframe tbody tr th {\n",
       "        vertical-align: top;\n",
       "    }\n",
       "\n",
       "    .dataframe thead th {\n",
       "        text-align: right;\n",
       "    }\n",
       "</style>\n",
       "<table border=\"1\" class=\"dataframe\">\n",
       "  <thead>\n",
       "    <tr style=\"text-align: right;\">\n",
       "      <th></th>\n",
       "      <th>name</th>\n",
       "      <th>city</th>\n",
       "      <th>job</th>\n",
       "    </tr>\n",
       "  </thead>\n",
       "  <tbody>\n",
       "    <tr>\n",
       "      <th>0</th>\n",
       "      <td>Amar</td>\n",
       "      <td>Delhi</td>\n",
       "      <td>Manager</td>\n",
       "    </tr>\n",
       "    <tr>\n",
       "      <th>1</th>\n",
       "      <td>Bob</td>\n",
       "      <td>London</td>\n",
       "      <td>Banker</td>\n",
       "    </tr>\n",
       "    <tr>\n",
       "      <th>2</th>\n",
       "      <td>Chen</td>\n",
       "      <td>Beijing</td>\n",
       "      <td>Developer</td>\n",
       "    </tr>\n",
       "  </tbody>\n",
       "</table>\n",
       "</div>"
      ],
      "text/plain": [
       "   name       city         job \n",
       "0  Amar      Delhi      Manager\n",
       "1  Bob      London       Banker\n",
       "2  Chen    Beijing    Developer"
      ]
     },
     "execution_count": 90,
     "metadata": {},
     "output_type": "execute_result"
    }
   ],
   "source": [
    "df = pd.read_csv('testFile.csv')\n",
    "df"
   ]
  },
  {
   "cell_type": "markdown",
   "metadata": {},
   "source": [
    "### Tempfile\n",
    "create a persistannt object temporarily "
   ]
  },
  {
   "cell_type": "code",
   "execution_count": 91,
   "metadata": {},
   "outputs": [],
   "source": [
    "import tempfile"
   ]
  },
  {
   "cell_type": "code",
   "execution_count": 109,
   "metadata": {},
   "outputs": [
    {
     "name": "stdout",
     "output_type": "stream",
     "text": [
      "save this special number : 5678389\n"
     ]
    }
   ],
   "source": [
    "temp = tempfile.TemporaryFile() # create a temp file, no name needed\n",
    "data = 'save this special number : 5678389' # this data to be written\n",
    "temp.write(bytes(data,'utf-8')) # conver data into byte array \n",
    "temp.seek(0)                    # reloacate seek pointer to 0\n",
    "print(temp.read().decode('utf-8')) # decode bytes into string \n",
    "temp.close()                    # close "
   ]
  },
  {
   "cell_type": "markdown",
   "metadata": {},
   "source": [
    "### Zip files\n",
    "first create a zip files of two files "
   ]
  },
  {
   "cell_type": "code",
   "execution_count": 111,
   "metadata": {},
   "outputs": [],
   "source": [
    "with open('file1.txt','w') as fp:\n",
    "    fp.write('this is the first file')\n",
    "\n",
    "with open('file2.txt','w') as fp:\n",
    "    fp.write('this is the second  file')"
   ]
  },
  {
   "cell_type": "code",
   "execution_count": 112,
   "metadata": {},
   "outputs": [],
   "source": [
    "import os"
   ]
  },
  {
   "cell_type": "code",
   "execution_count": 116,
   "metadata": {},
   "outputs": [
    {
     "data": {
      "text/plain": [
       "0"
      ]
     },
     "execution_count": 116,
     "metadata": {},
     "output_type": "execute_result"
    }
   ],
   "source": [
    "# commnad : zip [out.zip] [file1 file2 ...]\n",
    "os.system('zip zipped_file.zip file1.txt file2.txt')"
   ]
  },
  {
   "cell_type": "markdown",
   "metadata": {},
   "source": [
    "Lets see various operation that is possible "
   ]
  },
  {
   "cell_type": "code",
   "execution_count": 117,
   "metadata": {},
   "outputs": [],
   "source": [
    "import zipfile"
   ]
  },
  {
   "cell_type": "code",
   "execution_count": 121,
   "metadata": {},
   "outputs": [
    {
     "name": "stdout",
     "output_type": "stream",
     "text": [
      "['file1.txt', 'file2.txt']\n"
     ]
    }
   ],
   "source": [
    "# see the zipped content\n",
    "zf = zipfile.ZipFile(file='zipped_file.zip', mode= 'r')\n",
    "print(zf.namelist())\n",
    "zf.close()"
   ]
  },
  {
   "cell_type": "code",
   "execution_count": 122,
   "metadata": {},
   "outputs": [
    {
     "name": "stdout",
     "output_type": "stream",
     "text": [
      "<ZipInfo filename='file1.txt' compress_type=deflate filemode='-rw-rw-r--' file_size=22 compress_size=21>\n",
      "<ZipInfo filename='file2.txt' filemode='-rw-rw-r--' file_size=24>\n"
     ]
    }
   ],
   "source": [
    "# see metadata of each zipped items\n",
    "with zipfile.ZipFile(file='zipped_file.zip',mode='r') as zf:\n",
    "    for m in zf.infolist():\n",
    "        print(m)"
   ]
  },
  {
   "cell_type": "code",
   "execution_count": 128,
   "metadata": {},
   "outputs": [
    {
     "name": "stdout",
     "output_type": "stream",
     "text": [
      "<ZipInfo filename='file1.txt' compress_type=deflate filemode='-rw-rw-r--' file_size=22 compress_size=21>\n",
      "<ZipInfo filename='file2.txt' filemode='-rw-rw-r--' file_size=24>\n"
     ]
    }
   ],
   "source": [
    "# another way to see metadata \n",
    "with zipfile.ZipFile(file='zipped_file.zip', mode='r') as zf:\n",
    "    for f in zf.namelist():\n",
    "        print(zf.getinfo(f))"
   ]
  },
  {
   "cell_type": "code",
   "execution_count": 133,
   "metadata": {},
   "outputs": [
    {
     "name": "stdout",
     "output_type": "stream",
     "text": [
      "this is the first file\n",
      "this is the second  file\n"
     ]
    }
   ],
   "source": [
    "# reading individual files within the zip file\n",
    "with zipfile.ZipFile(file='zipped_file.zip', mode='r') as zf:\n",
    "    for f in zf.namelist():\n",
    "        print(zf.read(f).decode('utf-8')) # as the def out in byte array"
   ]
  },
  {
   "cell_type": "code",
   "execution_count": 141,
   "metadata": {},
   "outputs": [
    {
     "name": "stdout",
     "output_type": "stream",
     "text": [
      "this is the first file\n",
      "this is the second  file\n"
     ]
    }
   ],
   "source": [
    "# accessing a file directly from zip\n",
    "with zipfile.ZipFile(file='zipped_file.zip', mode='r') as zf:\n",
    "    for f in zf.namelist():   # for each file name \n",
    "        with zf.open(f) as fp: # open a file pointer \n",
    "            print(fp.read().decode('utf-8'))   # and read its content in str"
   ]
  },
  {
   "cell_type": "markdown",
   "metadata": {},
   "source": [
    "# Parsing data "
   ]
  },
  {
   "cell_type": "markdown",
   "metadata": {},
   "source": [
    "## `datetime`  module"
   ]
  },
  {
   "cell_type": "code",
   "execution_count": 142,
   "metadata": {},
   "outputs": [],
   "source": [
    "from datetime import datetime"
   ]
  },
  {
   "cell_type": "code",
   "execution_count": 143,
   "metadata": {},
   "outputs": [
    {
     "data": {
      "text/plain": [
       "datetime.datetime(2020, 5, 26, 18, 19, 50, 716680)"
      ]
     },
     "execution_count": 143,
     "metadata": {},
     "output_type": "execute_result"
    }
   ],
   "source": [
    "datetime.now()"
   ]
  },
  {
   "cell_type": "markdown",
   "metadata": {},
   "source": [
    "lets break it down "
   ]
  },
  {
   "cell_type": "code",
   "execution_count": 150,
   "metadata": {},
   "outputs": [
    {
     "name": "stdout",
     "output_type": "stream",
     "text": [
      "Date:2020-05-26 , Month:5, Year:2020\n",
      "Time:18:24:35.803510, Hour:18, min:24, sec:35\n"
     ]
    }
   ],
   "source": [
    "now = datetime.now()\n",
    "print(f'Date:{now.date()} , Month:{now.month}, Year:{now.year}')\n",
    "print(f'Time:{now.time()}, Hour:{now.hour}, min:{now.minute}, sec:{now.second}') "
   ]
  },
  {
   "cell_type": "markdown",
   "metadata": {},
   "source": [
    "### formatting date time `strftime()`\n",
    "string format time: returns a string formatted date time \n",
    "\n",
    "| day                      | month             | year      |\n",
    "| ----                     | ----              | ---       |\n",
    "| %a : Mon , Tue, Wed      |%b : Jan, Feb      |           |       \n",
    "| %A : Monday, Tuesday     |%B : Januarry      | %Y :2020  |\n",
    "| %d : day of the month    |%m : numeric month | %y :20    |\n",
    "\n",
    "For time\n",
    "* %H - Hour\n",
    "* %M - Minute\n",
    "* %S - Second\n",
    "* %p - AM/PM"
   ]
  },
  {
   "cell_type": "code",
   "execution_count": 151,
   "metadata": {},
   "outputs": [
    {
     "data": {
      "text/plain": [
       "datetime.datetime(2020, 5, 26, 18, 24, 35, 803510)"
      ]
     },
     "execution_count": 151,
     "metadata": {},
     "output_type": "execute_result"
    }
   ],
   "source": [
    "now"
   ]
  },
  {
   "cell_type": "code",
   "execution_count": 152,
   "metadata": {},
   "outputs": [
    {
     "data": {
      "text/plain": [
       "'Tue Tuesday 26'"
      ]
     },
     "execution_count": 152,
     "metadata": {},
     "output_type": "execute_result"
    }
   ],
   "source": [
    "now.strftime('%a %A %d')"
   ]
  },
  {
   "cell_type": "code",
   "execution_count": 153,
   "metadata": {},
   "outputs": [
    {
     "data": {
      "text/plain": [
       "'May May 05'"
      ]
     },
     "execution_count": 153,
     "metadata": {},
     "output_type": "execute_result"
    }
   ],
   "source": [
    "now.strftime('%b %B %m')"
   ]
  },
  {
   "cell_type": "code",
   "execution_count": 160,
   "metadata": {},
   "outputs": [
    {
     "data": {
      "text/plain": [
       "'20 2020'"
      ]
     },
     "execution_count": 160,
     "metadata": {},
     "output_type": "execute_result"
    }
   ],
   "source": [
    "now.strftime('%y %Y')"
   ]
  },
  {
   "cell_type": "code",
   "execution_count": 161,
   "metadata": {},
   "outputs": [
    {
     "data": {
      "text/plain": [
       "'26 May 20'"
      ]
     },
     "execution_count": 161,
     "metadata": {},
     "output_type": "execute_result"
    }
   ],
   "source": [
    "now.strftime('%d %B %y')"
   ]
  },
  {
   "cell_type": "code",
   "execution_count": 169,
   "metadata": {},
   "outputs": [
    {
     "data": {
      "text/plain": [
       "'18 : 24 : 35 PM'"
      ]
     },
     "execution_count": 169,
     "metadata": {},
     "output_type": "execute_result"
    }
   ],
   "source": [
    "now.strftime('%H : %M : %S %p')"
   ]
  },
  {
   "cell_type": "markdown",
   "metadata": {},
   "source": [
    "### Shiftig in time using `timedelata()`"
   ]
  },
  {
   "cell_type": "code",
   "execution_count": 170,
   "metadata": {},
   "outputs": [],
   "source": [
    "from datetime import timedelta"
   ]
  },
  {
   "cell_type": "code",
   "execution_count": 178,
   "metadata": {},
   "outputs": [
    {
     "name": "stdout",
     "output_type": "stream",
     "text": [
      "2020-05-26 18:24:35.803510\n"
     ]
    }
   ],
   "source": [
    "print(now)"
   ]
  },
  {
   "cell_type": "code",
   "execution_count": 176,
   "metadata": {},
   "outputs": [
    {
     "name": "stdout",
     "output_type": "stream",
     "text": [
      "2020-05-28 18:24:35.803510\n"
     ]
    }
   ],
   "source": [
    "print(now + timedelta(days = 2))"
   ]
  },
  {
   "cell_type": "code",
   "execution_count": 177,
   "metadata": {},
   "outputs": [
    {
     "name": "stdout",
     "output_type": "stream",
     "text": [
      "2020-05-05 18:24:35.803510\n"
     ]
    }
   ],
   "source": [
    "print(now - timedelta(weeks = 3))"
   ]
  },
  {
   "cell_type": "code",
   "execution_count": 179,
   "metadata": {},
   "outputs": [],
   "source": [
    "import calendar"
   ]
  },
  {
   "cell_type": "markdown",
   "metadata": {},
   "source": [
    "### `calander` module "
   ]
  },
  {
   "cell_type": "code",
   "execution_count": 181,
   "metadata": {},
   "outputs": [
    {
     "name": "stdout",
     "output_type": "stream",
     "text": [
      "   February 2020\n",
      "Mo Tu We Th Fr Sa Su\n",
      "                1  2\n",
      " 3  4  5  6  7  8  9\n",
      "10 11 12 13 14 15 16\n",
      "17 18 19 20 21 22 23\n",
      "24 25 26 27 28 29\n",
      "\n"
     ]
    }
   ],
   "source": [
    "print(calendar.month(2020,2))"
   ]
  },
  {
   "cell_type": "markdown",
   "metadata": {},
   "source": [
    "What week day is a given date?"
   ]
  },
  {
   "cell_type": "code",
   "execution_count": 183,
   "metadata": {},
   "outputs": [
    {
     "name": "stdout",
     "output_type": "stream",
     "text": [
      "5\n"
     ]
    }
   ],
   "source": [
    "# counts as Mon = 0 and Sun = 6\n",
    "print(calendar.weekday(2020, 2, 15))"
   ]
  },
  {
   "cell_type": "markdown",
   "metadata": {},
   "source": [
    "Is is given year leapyear?"
   ]
  },
  {
   "cell_type": "code",
   "execution_count": 184,
   "metadata": {},
   "outputs": [
    {
     "data": {
      "text/plain": [
       "True"
      ]
     },
     "execution_count": 184,
     "metadata": {},
     "output_type": "execute_result"
    }
   ],
   "source": [
    "calendar.isleap(2020)"
   ]
  },
  {
   "cell_type": "markdown",
   "metadata": {},
   "source": [
    "### `time.sleep()`"
   ]
  },
  {
   "cell_type": "code",
   "execution_count": 199,
   "metadata": {},
   "outputs": [],
   "source": [
    "#create a timer function\n",
    "def timer(s):\n",
    "    import time\n",
    "    while s > 0:\n",
    "        print(f'{datetime.now().strftime(\"%H:%M:%S\")} ---\\t {s} sec remaining ')\n",
    "        time.sleep(1)\n",
    "        s-=1\n",
    "    print(\"time's up\")"
   ]
  },
  {
   "cell_type": "code",
   "execution_count": 200,
   "metadata": {},
   "outputs": [
    {
     "name": "stdout",
     "output_type": "stream",
     "text": [
      "18:53:32 ---\t 10 sec remaining \n",
      "18:53:33 ---\t 9 sec remaining \n",
      "18:53:34 ---\t 8 sec remaining \n",
      "18:53:35 ---\t 7 sec remaining \n",
      "18:53:36 ---\t 6 sec remaining \n",
      "18:53:37 ---\t 5 sec remaining \n",
      "18:53:38 ---\t 4 sec remaining \n",
      "18:53:39 ---\t 3 sec remaining \n",
      "18:53:40 ---\t 2 sec remaining \n",
      "18:53:41 ---\t 1 sec remaining \n",
      "time's up\n"
     ]
    }
   ],
   "source": [
    "timer(10)"
   ]
  }
 ],
 "metadata": {
  "kernelspec": {
   "display_name": "Python 3",
   "language": "python",
   "name": "python3"
  },
  "language_info": {
   "codemirror_mode": {
    "name": "ipython",
    "version": 3
   },
   "file_extension": ".py",
   "mimetype": "text/x-python",
   "name": "python",
   "nbconvert_exporter": "python",
   "pygments_lexer": "ipython3",
   "version": "3.7.7"
  }
 },
 "nbformat": 4,
 "nbformat_minor": 4
}

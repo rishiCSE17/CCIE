{
 "cells": [
  {
   "cell_type": "markdown",
   "metadata": {},
   "source": [
    "# Language feature\n",
    "## Coding style\n",
    "* Universal coding style is descrived in PEP-8 documentation (https://www.python.org/dev/peps/pep-0008/)\n",
    "    * imports go on the top in sepatate lines\n",
    "    * indent codes using 4 spaces instead of tabs\n",
    "    * each line must be limited to 79 characters for codes and 72 characters from comments and docstrings including whitespaces\n",
    "    * separate functions and classes by 2 blank lines, within classes seprate methods using 1 blank line \n",
    "    * No whitespaces around function calls, indices and kw arguments\n",
    "    * Some whitespace guidelines\n",
    "        - `spam(ham[1],{'eggs':2})`\n",
    "        - `fn(arg)`\n",
    "        - `dct['key'] = lst[idx]`\n",
    "        - `x = 1`\n",
    "        - `hypot = x*x + y*y`\n",
    "        - `i = i + 1`"
   ]
  },
  {
   "cell_type": "markdown",
   "metadata": {},
   "source": [
    "## Truth value testing\n",
    "any object in python is boolian evaluable, any object is evaluated to true __unless its class implements a `bool()` method returns falls or the `len()` method returns 0__\n",
    "* `False` and `None` are false by default\n",
    "* All numeric type the evaluates to 0 id False (e.g. `0, 0.0, 0j` and `Decimal(0), Fraction(0,x)`)\n",
    "* Empty sets and sequences are False (`'', (), [], {}` and `set(), range(0)`)\n",
    "* Any custom object is true by default unless it overrides the `__bool__()` method and returns `False` or `__len__()` and returns `0`"
   ]
  },
  {
   "cell_type": "code",
   "execution_count": 8,
   "metadata": {},
   "outputs": [
    {
     "data": {
      "text/plain": [
       "False"
      ]
     },
     "execution_count": 8,
     "metadata": {},
     "output_type": "execute_result"
    }
   ],
   "source": [
    "class sample:\n",
    "    def __init__(self,x):\n",
    "        self.x = x\n",
    "    def __bool__(self):\n",
    "        return False\n",
    "\n",
    "    \n",
    "s = sample(5)\n",
    "bool(s)  #test the boolean value"
   ]
  },
  {
   "cell_type": "markdown",
   "metadata": {},
   "source": [
    "### Short Circuit Operator \n",
    "\n",
    "`and` & `or` operators are short circuit operators, i.e. if the first value  evaluates to `False` and `True` respectively, the second value is not evaluated and the result is evaluated to `False` and `True` respectively."
   ]
  },
  {
   "cell_type": "markdown",
   "metadata": {},
   "source": [
    "## Strings and Bytes\n",
    "* String : a sequence of unicode characters \n",
    "* Bytes : a sequence of 8bit character "
   ]
  },
  {
   "cell_type": "code",
   "execution_count": 18,
   "metadata": {},
   "outputs": [],
   "source": [
    "s = 'this is a text'\n",
    "b = s.encode('utf-8') # string to 8bit int array\n",
    "s = b.decode('utf-8') # 8bit int array to string"
   ]
  },
  {
   "cell_type": "code",
   "execution_count": 19,
   "metadata": {},
   "outputs": [
    {
     "name": "stdout",
     "output_type": "stream",
     "text": [
      "this is a text <class 'str'>\n",
      "b'this is a text' <class 'bytes'>\n"
     ]
    }
   ],
   "source": [
    "print(s,type(s))\n",
    "print(b,type(b))"
   ]
  },
  {
   "cell_type": "code",
   "execution_count": 20,
   "metadata": {},
   "outputs": [
    {
     "name": "stdout",
     "output_type": "stream",
     "text": [
      "t <class 'str'>\n",
      "116 <class 'int'>\n"
     ]
    }
   ],
   "source": [
    "print(s[0],type(s[0]))\n",
    "print(b[0],type(b[0]))"
   ]
  },
  {
   "cell_type": "code",
   "execution_count": 24,
   "metadata": {},
   "outputs": [
    {
     "ename": "TypeError",
     "evalue": "can only concatenate str (not \"bytes\") to str",
     "output_type": "error",
     "traceback": [
      "\u001b[0;31m---------------------------------------------------------------------------\u001b[0m",
      "\u001b[0;31mTypeError\u001b[0m                                 Traceback (most recent call last)",
      "\u001b[0;32m<ipython-input-24-cf3c11b79783>\u001b[0m in \u001b[0;36m<module>\u001b[0;34m\u001b[0m\n\u001b[0;32m----> 1\u001b[0;31m \u001b[0mprint\u001b[0m\u001b[0;34m(\u001b[0m\u001b[0ms\u001b[0m \u001b[0;34m+\u001b[0m \u001b[0mb\u001b[0m\u001b[0;34m)\u001b[0m \u001b[0;31m#type missmatch\u001b[0m\u001b[0;34m\u001b[0m\u001b[0;34m\u001b[0m\u001b[0m\n\u001b[0m",
      "\u001b[0;31mTypeError\u001b[0m: can only concatenate str (not \"bytes\") to str"
     ]
    }
   ],
   "source": [
    "print(s + b) #type missmatch"
   ]
  },
  {
   "cell_type": "markdown",
   "metadata": {},
   "source": [
    "## Template String "
   ]
  },
  {
   "cell_type": "code",
   "execution_count": 26,
   "metadata": {},
   "outputs": [],
   "source": [
    "x,y,z=10,20,30"
   ]
  },
  {
   "cell_type": "code",
   "execution_count": 27,
   "metadata": {},
   "outputs": [
    {
     "name": "stdout",
     "output_type": "stream",
     "text": [
      "x=10 y=20 z=30\n"
     ]
    }
   ],
   "source": [
    "# basic formatting before python3.6\n",
    "print('x={} y={} z={}'.format(x,y,z))"
   ]
  },
  {
   "cell_type": "code",
   "execution_count": 35,
   "metadata": {},
   "outputs": [
    {
     "name": "stdout",
     "output_type": "stream",
     "text": [
      "x=10 y=20 z=30\n"
     ]
    }
   ],
   "source": [
    "# basic formatting from python3.6\n",
    "print(f'x={x} y={y} z={z}')"
   ]
  },
  {
   "cell_type": "markdown",
   "metadata": {},
   "source": [
    "A template method allowes external sources to modify place holders without giving access to the actual string, but only the place holders. Better security in practice. "
   ]
  },
  {
   "cell_type": "code",
   "execution_count": 33,
   "metadata": {},
   "outputs": [
    {
     "name": "stdout",
     "output_type": "stream",
     "text": [
      "youre watching someting by someone\n"
     ]
    }
   ],
   "source": [
    "#template string \n",
    "from string import Template\n",
    "templ = Template('youre watching ${title} by ${author}')\n",
    "print(templ.substitute(title='someting', author='someone'))"
   ]
  },
  {
   "cell_type": "markdown",
   "metadata": {},
   "source": [
    "# Built-in functions"
   ]
  },
  {
   "cell_type": "code",
   "execution_count": 36,
   "metadata": {},
   "outputs": [],
   "source": [
    "list = [1,2,3,0,5,6]"
   ]
  },
  {
   "cell_type": "markdown",
   "metadata": {},
   "source": [
    "## `any()` and `all()`"
   ]
  },
  {
   "cell_type": "code",
   "execution_count": 37,
   "metadata": {},
   "outputs": [
    {
     "name": "stdout",
     "output_type": "stream",
     "text": [
      "True\n"
     ]
    }
   ],
   "source": [
    "print( any(list) ) # if at least one member is True"
   ]
  },
  {
   "cell_type": "code",
   "execution_count": 39,
   "metadata": {},
   "outputs": [
    {
     "name": "stdout",
     "output_type": "stream",
     "text": [
      "False\n"
     ]
    }
   ],
   "source": [
    "print( all(list) ) #  if all memebers are True"
   ]
  },
  {
   "cell_type": "markdown",
   "metadata": {},
   "source": [
    "## `min()`,`max()` and `sum()`"
   ]
  },
  {
   "cell_type": "code",
   "execution_count": 40,
   "metadata": {},
   "outputs": [
    {
     "name": "stdout",
     "output_type": "stream",
     "text": [
      "min : 0\n",
      "max : 6\n",
      "sum : 17\n"
     ]
    }
   ],
   "source": [
    "print(f'min : {min(list)}')\n",
    "print(f'max : {max(list)}')\n",
    "print(f'sum : {sum(list)}')"
   ]
  },
  {
   "cell_type": "markdown",
   "metadata": {},
   "source": [
    "## Iterator : `iter(X)`\n",
    "turns a collection object into a iterator object, get items one by one using the `next` function"
   ]
  },
  {
   "cell_type": "code",
   "execution_count": 87,
   "metadata": {},
   "outputs": [],
   "source": [
    "days = ['mon','tue','wed','thu','fri','sat','sun']"
   ]
  },
  {
   "cell_type": "code",
   "execution_count": 90,
   "metadata": {},
   "outputs": [
    {
     "name": "stdout",
     "output_type": "stream",
     "text": [
      "1 mon\n",
      "2 tue\n",
      "3 wed\n",
      "4 thu\n",
      "5 fri\n",
      "6 sat\n",
      "7 sun\n"
     ]
    }
   ],
   "source": [
    "it = iter(days)\n",
    "i = 1\n",
    "while True:\n",
    "    try:\n",
    "        print(i,next(it))\n",
    "        i+=1\n",
    "    except StopIteration:\n",
    "        break"
   ]
  },
  {
   "cell_type": "markdown",
   "metadata": {},
   "source": [
    "### `enumerate(iter, [start=idx])`\n",
    "Simplify the loop using `enumerate(iterator,[start=idx])` function that goes through all members and returns a touple of (value, index) incrementing the index value"
   ]
  },
  {
   "cell_type": "code",
   "execution_count": 92,
   "metadata": {},
   "outputs": [
    {
     "name": "stdout",
     "output_type": "stream",
     "text": [
      "1 mon\n",
      "2 tue\n",
      "3 wed\n",
      "4 thu\n",
      "5 fri\n",
      "6 sat\n",
      "7 sun\n"
     ]
    }
   ],
   "source": [
    "it = iter(days) # iterator must be reinitialized \n",
    "for i,m in enumerate(it, start=1):\n",
    "    print(i,m)"
   ]
  },
  {
   "cell_type": "markdown",
   "metadata": {},
   "source": [
    "### `zip()`\n",
    "zip combines $n$ lists $L_i$ with length $|L_i|$ into a iterator of touples $(x_j^{(i)}\\in L_i, 0\\le j \\le min(|L_i|))$"
   ]
  },
  {
   "cell_type": "code",
   "execution_count": 93,
   "metadata": {},
   "outputs": [
    {
     "data": {
      "text/plain": [
       "['mon', 'tue', 'wed', 'thu', 'fri', 'sat', 'sun']"
      ]
     },
     "execution_count": 93,
     "metadata": {},
     "output_type": "execute_result"
    }
   ],
   "source": [
    "days"
   ]
  },
  {
   "cell_type": "code",
   "execution_count": 99,
   "metadata": {},
   "outputs": [],
   "source": [
    "colors = ['violate','indigo','blue','green','yellow','orange','red']\n",
    "notes = ['sa','re','ga','ma','pa','dha','ni']"
   ]
  },
  {
   "cell_type": "code",
   "execution_count": 100,
   "metadata": {},
   "outputs": [
    {
     "data": {
      "text/plain": [
       "True"
      ]
     },
     "execution_count": 100,
     "metadata": {},
     "output_type": "execute_result"
    }
   ],
   "source": [
    "len(days)==len(colors)==len(notes)"
   ]
  },
  {
   "cell_type": "code",
   "execution_count": 102,
   "metadata": {},
   "outputs": [
    {
     "name": "stdout",
     "output_type": "stream",
     "text": [
      "('mon', 'violate', 'sa')\n",
      "('tue', 'indigo', 're')\n",
      "('wed', 'blue', 'ga')\n",
      "('thu', 'green', 'ma')\n",
      "('fri', 'yellow', 'pa')\n",
      "('sat', 'orange', 'dha')\n",
      "('sun', 'red', 'ni')\n"
     ]
    }
   ],
   "source": [
    "for i in zip(days,colors,notes):\n",
    "    print(i)"
   ]
  },
  {
   "cell_type": "code",
   "execution_count": 103,
   "metadata": {},
   "outputs": [
    {
     "name": "stdout",
     "output_type": "stream",
     "text": [
      "1 ('mon', 'violate', 'sa')\n",
      "2 ('tue', 'indigo', 're')\n",
      "3 ('wed', 'blue', 'ga')\n",
      "4 ('thu', 'green', 'ma')\n",
      "5 ('fri', 'yellow', 'pa')\n",
      "6 ('sat', 'orange', 'dha')\n",
      "7 ('sun', 'red', 'ni')\n"
     ]
    }
   ],
   "source": [
    "for i,m in enumerate(zip(days,colors,notes),start=1):\n",
    "    print(i,m)"
   ]
  },
  {
   "cell_type": "code",
   "execution_count": 104,
   "metadata": {},
   "outputs": [
    {
     "data": {
      "text/plain": [
       "<zip at 0x7f89bb6c1550>"
      ]
     },
     "execution_count": 104,
     "metadata": {},
     "output_type": "execute_result"
    }
   ],
   "source": [
    "zip([1,2,3],[4,5,6,7])"
   ]
  },
  {
   "cell_type": "markdown",
   "metadata": {},
   "source": [
    "## Transforms\n",
    "takes a transform function `tfun(x)` when $x\\in L$ and returns a iterator, iteraing through $tfun(x)|\\forall x in L$ any transformer funtion has a common structure `trnsformer(tfun,L)`\n",
    "### `filter()`\n",
    "creates a iterator that filters out values from a given sequence provided by a function"
   ]
  },
  {
   "cell_type": "code",
   "execution_count": 161,
   "metadata": {},
   "outputs": [],
   "source": [
    "def is_odd(x): \n",
    "    return x%2 == 1"
   ]
  },
  {
   "cell_type": "code",
   "execution_count": 172,
   "metadata": {},
   "outputs": [
    {
     "data": {
      "text/plain": [
       "[59, 30, 45, 37, 37, 29, 84, 43, 82, 26]"
      ]
     },
     "execution_count": 172,
     "metadata": {},
     "output_type": "execute_result"
    }
   ],
   "source": [
    "import random\n",
    "nums = []\n",
    "for i in range(10):\n",
    "    nums.append(random.randint(1,100))\n",
    "nums"
   ]
  },
  {
   "cell_type": "code",
   "execution_count": 175,
   "metadata": {},
   "outputs": [
    {
     "data": {
      "text/plain": [
       "[59, 45, 37, 37, 29, 43]"
      ]
     },
     "execution_count": 175,
     "metadata": {},
     "output_type": "execute_result"
    }
   ],
   "source": [
    "# filter() either takes or drops a value  \n",
    "[x for x in filter(is_odd, nums)] "
   ]
  },
  {
   "cell_type": "markdown",
   "metadata": {},
   "source": [
    "### `map()`"
   ]
  },
  {
   "cell_type": "code",
   "execution_count": 165,
   "metadata": {},
   "outputs": [],
   "source": [
    "def to_grade(x):\n",
    "    if x in range(0,39):\n",
    "        return 'F'\n",
    "    elif x in range(40,59):\n",
    "        return 'C'\n",
    "    elif x in range(60,79):\n",
    "        return 'B'\n",
    "    elif x in range(80,100):\n",
    "        return 'A'\n",
    "    else:\n",
    "        return 'X'"
   ]
  },
  {
   "cell_type": "code",
   "execution_count": 173,
   "metadata": {},
   "outputs": [
    {
     "data": {
      "text/plain": [
       "[59, 30, 45, 37, 37, 29, 84, 43, 82, 26]"
      ]
     },
     "execution_count": 173,
     "metadata": {},
     "output_type": "execute_result"
    }
   ],
   "source": [
    "nums"
   ]
  },
  {
   "cell_type": "code",
   "execution_count": 176,
   "metadata": {},
   "outputs": [
    {
     "data": {
      "text/plain": [
       "['X', 'F', 'C', 'F', 'F', 'F', 'A', 'C', 'A', 'F']"
      ]
     },
     "execution_count": 176,
     "metadata": {},
     "output_type": "execute_result"
    }
   ],
   "source": [
    "# map() maps each element to another domain  \n",
    "[i for i in map(to_grade,nums)]"
   ]
  },
  {
   "cell_type": "markdown",
   "metadata": {},
   "source": [
    "# Advance Python Functions features"
   ]
  },
  {
   "cell_type": "markdown",
   "metadata": {},
   "source": [
    "## Docstring\n",
    "documentation that is embedded with a function __PEP257__\n",
    "\n",
    "__Best Practices__\n",
    "1. Should be enclosed within a pair of triple quotes (double or single), even if for one line\n",
    "2. Line 1 : summarises the function/module's task\n",
    "3. for modules, list important classes and sub-modules along with any custom exceptions\n",
    "4. for classes, list important methods \n",
    "5. for function, list name of parameters "
   ]
  },
  {
   "cell_type": "code",
   "execution_count": 179,
   "metadata": {},
   "outputs": [
    {
     "name": "stdout",
     "output_type": "stream",
     "text": [
      "map(func, *iterables) --> map object\n",
      "\n",
      "Make an iterator that computes the function using arguments from\n",
      "each of the iterables.  Stops when the shortest iterable is exhausted.\n"
     ]
    }
   ],
   "source": [
    "#seeing docs\n",
    "print(map.__doc__)"
   ]
  },
  {
   "cell_type": "code",
   "execution_count": 182,
   "metadata": {},
   "outputs": [],
   "source": [
    "# creating docstring for custom fucntion\n",
    "def my_func(x):\n",
    "    '''\n",
    "    this is a function for sample\n",
    "    \n",
    "    parameters:\n",
    "    x : for nothing \n",
    "    '''\n",
    "    return x"
   ]
  },
  {
   "cell_type": "code",
   "execution_count": 184,
   "metadata": {},
   "outputs": [
    {
     "name": "stdout",
     "output_type": "stream",
     "text": [
      "\n",
      "    this is a function for sample\n",
      "    \n",
      "    parameters:\n",
      "    x : for nothing \n",
      "    \n"
     ]
    }
   ],
   "source": [
    "print(my_func.__doc__)"
   ]
  },
  {
   "cell_type": "markdown",
   "metadata": {},
   "source": [
    "## Variable number of argument "
   ]
  },
  {
   "cell_type": "code",
   "execution_count": 188,
   "metadata": {},
   "outputs": [],
   "source": [
    "def add(*numbers): #var arg param must come after all other param\n",
    "    sum = 0\n",
    "    if len(numbers) > 0:\n",
    "        for i in numbers:\n",
    "            sum += i\n",
    "    return sum"
   ]
  },
  {
   "cell_type": "code",
   "execution_count": 189,
   "metadata": {},
   "outputs": [
    {
     "data": {
      "text/plain": [
       "12"
      ]
     },
     "execution_count": 189,
     "metadata": {},
     "output_type": "execute_result"
    }
   ],
   "source": [
    "add(1,2,4,5)"
   ]
  },
  {
   "cell_type": "code",
   "execution_count": 190,
   "metadata": {},
   "outputs": [
    {
     "data": {
      "text/plain": [
       "0"
      ]
     },
     "execution_count": 190,
     "metadata": {},
     "output_type": "execute_result"
    }
   ],
   "source": [
    "add()"
   ]
  },
  {
   "cell_type": "code",
   "execution_count": 194,
   "metadata": {},
   "outputs": [
    {
     "data": {
      "text/plain": [
       "11"
      ]
     },
     "execution_count": 194,
     "metadata": {},
     "output_type": "execute_result"
    }
   ],
   "source": [
    "a =[1,2,3,5] #passing items from a list \n",
    "add(*a)"
   ]
  },
  {
   "cell_type": "markdown",
   "metadata": {},
   "source": [
    "## Lambda (anolymous) function\n",
    "`lambda (params) : (expression)`"
   ]
  },
  {
   "cell_type": "code",
   "execution_count": 214,
   "metadata": {},
   "outputs": [
    {
     "data": {
      "text/plain": [
       "[5, 43, 49, 6, 8, 2, 6, 22, -17, -2]"
      ]
     },
     "execution_count": 214,
     "metadata": {},
     "output_type": "execute_result"
    }
   ],
   "source": [
    "import random\n",
    "t = []\n",
    "for i in range(10):\n",
    "    t.append(random.randint(-20,50))\n",
    "t"
   ]
  },
  {
   "cell_type": "code",
   "execution_count": 218,
   "metadata": {},
   "outputs": [
    {
     "data": {
      "text/plain": [
       "[41.0, 109.4, 120.2, 42.8, 46.4, 35.6, 42.8, 71.6, 1.4, 28.4]"
      ]
     },
     "execution_count": 218,
     "metadata": {},
     "output_type": "execute_result"
    }
   ],
   "source": [
    "f = [ i for i in map( lambda c: round((9/5)*c + 32,2) , t ) ]\n",
    "f"
   ]
  },
  {
   "cell_type": "code",
   "execution_count": 217,
   "metadata": {},
   "outputs": [
    {
     "data": {
      "text/plain": [
       "[5.0, 43.0, 49.0, 6.0, 8.0, 2.0, 6.0, 22.0, -17.0, -2.0]"
      ]
     },
     "execution_count": 217,
     "metadata": {},
     "output_type": "execute_result"
    }
   ],
   "source": [
    "c = [ i for i in map( lambda f: round((f-32)*(5/9),2) , f ) ]\n",
    "c"
   ]
  },
  {
   "cell_type": "markdown",
   "metadata": {},
   "source": [
    "## kewards \n",
    "`def f(arg1,arg2,*,kwarg1=def_val1, kwarg2=def_val2)`\n",
    "`arg1` and `arg2` are mandatory arguments where `kwargs` are optional keyward specific arguments. `*` separates the types"
   ]
  },
  {
   "cell_type": "code",
   "execution_count": 219,
   "metadata": {},
   "outputs": [],
   "source": [
    "def f(a1,a2,*,k1=None, k2=None):\n",
    "    pass"
   ]
  },
  {
   "cell_type": "code",
   "execution_count": 221,
   "metadata": {},
   "outputs": [
    {
     "ename": "TypeError",
     "evalue": "f() takes 2 positional arguments but 3 were given",
     "output_type": "error",
     "traceback": [
      "\u001b[0;31m---------------------------------------------------------------------------\u001b[0m",
      "\u001b[0;31mTypeError\u001b[0m                                 Traceback (most recent call last)",
      "\u001b[0;32m<ipython-input-221-42869ac18f5d>\u001b[0m in \u001b[0;36m<module>\u001b[0;34m\u001b[0m\n\u001b[0;32m----> 1\u001b[0;31m \u001b[0mf\u001b[0m\u001b[0;34m(\u001b[0m\u001b[0;36m1\u001b[0m\u001b[0;34m,\u001b[0m\u001b[0;36m2\u001b[0m\u001b[0;34m,\u001b[0m\u001b[0;36m3\u001b[0m\u001b[0;34m)\u001b[0m \u001b[0;31m#anything after first 2 args must be kw specific\u001b[0m\u001b[0;34m\u001b[0m\u001b[0;34m\u001b[0m\u001b[0m\n\u001b[0m",
      "\u001b[0;31mTypeError\u001b[0m: f() takes 2 positional arguments but 3 were given"
     ]
    }
   ],
   "source": [
    "f(1,2,3) #anything after first 2 args must be kw specific"
   ]
  },
  {
   "cell_type": "code",
   "execution_count": 222,
   "metadata": {},
   "outputs": [],
   "source": [
    "f(1,2,k2=3)"
   ]
  },
  {
   "cell_type": "markdown",
   "metadata": {},
   "source": [
    "# Collectors\n",
    "\n",
    "* 4 basic collections\n",
    "    1. lists : mutable sequence of values `[]`\n",
    "    2. tuples : immuatble sequence of values `()`\n",
    "    3. set : unordered set of distinct values `{}`\n",
    "    4. dictionary : collection of key:value pairs `{k:v}`\n",
    "    \n",
    "    \n",
    "* Advance collections `import collections`\n",
    "    1. namedtuples : touple with named field\n",
    "    2. OrderedDict & DefaultDict : Dictionary with extended features\n",
    "    3. Counters : Counts distinct values\n",
    "    4. deque : Double ended lists"
   ]
  },
  {
   "cell_type": "code",
   "execution_count": 258,
   "metadata": {},
   "outputs": [],
   "source": [
    "import collections as col"
   ]
  },
  {
   "cell_type": "markdown",
   "metadata": {},
   "source": [
    "## Namedtouple"
   ]
  },
  {
   "cell_type": "code",
   "execution_count": 226,
   "metadata": {},
   "outputs": [],
   "source": [
    "Point = col.namedtuple('Point','x y')"
   ]
  },
  {
   "cell_type": "code",
   "execution_count": 228,
   "metadata": {},
   "outputs": [],
   "source": [
    "p1 = Point(10,15)\n",
    "p2 = Point(20,30)"
   ]
  },
  {
   "cell_type": "code",
   "execution_count": 231,
   "metadata": {},
   "outputs": [
    {
     "name": "stdout",
     "output_type": "stream",
     "text": [
      "Point(x=10, y=15) 10 15\n",
      "Point(x=20, y=30) 20 30\n"
     ]
    }
   ],
   "source": [
    "print(p1, p1.x, p1.y)\n",
    "print(p2, p2.x, p2.y)"
   ]
  },
  {
   "cell_type": "markdown",
   "metadata": {},
   "source": [
    "## DefaultDict\n",
    "let the given problem be, find the frequency of a every instances from given array"
   ]
  },
  {
   "cell_type": "code",
   "execution_count": 234,
   "metadata": {},
   "outputs": [
    {
     "data": {
      "text/plain": [
       "[2, 5, 5, 3, 2, 3, 5, 3, 5, 3, 5, 1, 5, 2, 4, 3, 3, 1, 1, 2]"
      ]
     },
     "execution_count": 234,
     "metadata": {},
     "output_type": "execute_result"
    }
   ],
   "source": [
    "#make a random array\n",
    "import random\n",
    "arr = []\n",
    "for i in range(20):\n",
    "    arr.append(random.randint(1,5))\n",
    "arr"
   ]
  },
  {
   "cell_type": "markdown",
   "metadata": {},
   "source": [
    "a common approach is to use dictionary here"
   ]
  },
  {
   "cell_type": "code",
   "execution_count": 252,
   "metadata": {},
   "outputs": [
    {
     "name": "stdout",
     "output_type": "stream",
     "text": [
      "(2, 4)\n",
      "(5, 6)\n",
      "(3, 6)\n",
      "(1, 3)\n",
      "(4, 1)\n"
     ]
    }
   ],
   "source": [
    "d = {}\n",
    "for i in arr:\n",
    "    if i in d.keys():\n",
    "        d[i] += 1\n",
    "    else:\n",
    "        d[i] = 1 #this line is one time executable\n",
    "for i in d.items():\n",
    "    print(i)"
   ]
  },
  {
   "cell_type": "markdown",
   "metadata": {},
   "source": [
    "a more efficient approach is to use `defaultDict` object"
   ]
  },
  {
   "cell_type": "code",
   "execution_count": 253,
   "metadata": {},
   "outputs": [
    {
     "name": "stdout",
     "output_type": "stream",
     "text": [
      "(2, 4)\n",
      "(5, 6)\n",
      "(3, 6)\n",
      "(1, 3)\n",
      "(4, 1)\n"
     ]
    }
   ],
   "source": [
    "dd = col.defaultdict(int)  #takes a class/lambda to specify a default value\n",
    "for i in arr:\n",
    "    dd[i] += 1\n",
    "for i in dd.items():\n",
    "    print(i)"
   ]
  },
  {
   "cell_type": "markdown",
   "metadata": {},
   "source": [
    "## counter"
   ]
  },
  {
   "cell_type": "code",
   "execution_count": 262,
   "metadata": {},
   "outputs": [
    {
     "name": "stdout",
     "output_type": "stream",
     "text": [
      "[1, 5, 5, 5, 5, 2, 2, 5, 3, 3, 5, 4, 3, 5, 3, 4, 1, 1, 3, 5]\n",
      "[4, 2, 1, 3, 1, 2, 2, 5, 2, 1, 4, 3, 2, 4, 5, 2, 1, 3, 4, 1]\n"
     ]
    }
   ],
   "source": [
    "# make two random lists\n",
    "import random\n",
    "\n",
    "l1 = []\n",
    "l2 = []\n",
    "\n",
    "for i in range(20):\n",
    "    l1.append(random.randint(1,5))\n",
    "    l2.append(random.randint(1,5))\n",
    "\n",
    "print(l1)\n",
    "print(l2)"
   ]
  },
  {
   "cell_type": "code",
   "execution_count": 263,
   "metadata": {},
   "outputs": [],
   "source": [
    "# convert lists into counters\n",
    "c1 = col.Counter(l1)\n",
    "c2 = col.Counter(l2)"
   ]
  },
  {
   "cell_type": "code",
   "execution_count": 266,
   "metadata": {},
   "outputs": [
    {
     "name": "stdout",
     "output_type": "stream",
     "text": [
      "Counter({5: 8, 3: 5, 1: 3, 2: 2, 4: 2})\n",
      "Counter({2: 6, 1: 5, 4: 4, 3: 3, 5: 2})\n"
     ]
    }
   ],
   "source": [
    "# counter stores lists into dict format\n",
    "print(c1)\n",
    "print(c2)"
   ]
  },
  {
   "cell_type": "code",
   "execution_count": 268,
   "metadata": {},
   "outputs": [],
   "source": [
    "# update source list by appending another\n",
    "c1.update(l2)"
   ]
  },
  {
   "cell_type": "code",
   "execution_count": 269,
   "metadata": {},
   "outputs": [
    {
     "data": {
      "text/plain": [
       "Counter({1: 8, 5: 10, 2: 8, 3: 8, 4: 6})"
      ]
     },
     "execution_count": 269,
     "metadata": {},
     "output_type": "execute_result"
    }
   ],
   "source": [
    "c1"
   ]
  },
  {
   "cell_type": "code",
   "execution_count": 270,
   "metadata": {},
   "outputs": [
    {
     "data": {
      "text/plain": [
       "Counter({1: 3, 5: 8, 2: 2, 3: 5, 4: 2})"
      ]
     },
     "execution_count": 270,
     "metadata": {},
     "output_type": "execute_result"
    }
   ],
   "source": [
    "# remove another list from source list\n",
    "c1.subtract(l2)\n",
    "c1"
   ]
  },
  {
   "cell_type": "code",
   "execution_count": 274,
   "metadata": {},
   "outputs": [
    {
     "data": {
      "text/plain": [
       "[(5, 8), (3, 5)]"
      ]
     },
     "execution_count": 274,
     "metadata": {},
     "output_type": "execute_result"
    }
   ],
   "source": [
    "# n most common key \n",
    "c1.most_common(2)"
   ]
  },
  {
   "cell_type": "code",
   "execution_count": 277,
   "metadata": {},
   "outputs": [
    {
     "name": "stdout",
     "output_type": "stream",
     "text": [
      "Counter({1: 3, 3: 3, 5: 2, 2: 2, 4: 2})\n",
      "Counter({5: 8, 2: 6, 1: 5, 3: 5, 4: 4})\n"
     ]
    }
   ],
   "source": [
    "# logical and / intersection\n",
    "print(c1 & c2) # chooses min value for common key\n",
    "print(c1 | c2) # chooses max value for common key"
   ]
  },
  {
   "cell_type": "markdown",
   "metadata": {},
   "source": [
    "## OrderedDict\n",
    "maintains the order in which items are added, removal is restricted to only position 0. Two orderdicts are same if both key/value and orders matters"
   ]
  },
  {
   "cell_type": "code",
   "execution_count": 278,
   "metadata": {},
   "outputs": [
    {
     "data": {
      "text/plain": [
       "True"
      ]
     },
     "execution_count": 278,
     "metadata": {},
     "output_type": "execute_result"
    }
   ],
   "source": [
    "{'a':1, 'b':2} == {'b':2 , 'a':1}"
   ]
  },
  {
   "cell_type": "code",
   "execution_count": 280,
   "metadata": {},
   "outputs": [
    {
     "data": {
      "text/plain": [
       "False"
      ]
     },
     "execution_count": 280,
     "metadata": {},
     "output_type": "execute_result"
    }
   ],
   "source": [
    "od1 = col.OrderedDict({'a':1, 'b':2})\n",
    "od2 = col.OrderedDict({'b':2 , 'a':1})\n",
    "od1 == od2"
   ]
  },
  {
   "cell_type": "markdown",
   "metadata": {},
   "source": [
    "### Performance of `Count` class"
   ]
  },
  {
   "cell_type": "code",
   "execution_count": 301,
   "metadata": {},
   "outputs": [],
   "source": [
    "import random as r\n",
    "import collections as col\n",
    "import time\n",
    "\n",
    "arr = []\n",
    "lim = 1000\n",
    "lb,ub = 10,20\n",
    "\n",
    "# the folling function return time consumption\n",
    "# for finding most frequent number from a collection\n",
    "def test_fun(lim, lb,ub):\n",
    "    for i in range(lim):\n",
    "        arr.append(random.randrange(start=lb, stop=ub))\n",
    "        \n",
    "    t = time.time()\n",
    "    x=(collections.Counter(arr).most_common(1)[0][0])\n",
    "    return time.time() - t"
   ]
  },
  {
   "cell_type": "code",
   "execution_count": 318,
   "metadata": {},
   "outputs": [
    {
     "name": "stdout",
     "output_type": "stream",
     "text": [
      "testing...\n",
      "\t 10% done!\n",
      "\t 20% done!\n",
      "\t 30% done!\n",
      "\t 40% done!\n",
      "\t 50% done!\n",
      "\t 60% done!\n",
      "\t 70% done!\n",
      "\t 80% done!\n",
      "\t 90% done!\n",
      "\t 100% done!\n"
     ]
    },
    {
     "data": {
      "image/png": "[encoded data removed]",
      "text/plain": [
       "<Figure size 432x288 with 1 Axes>"
      ]
     },
     "metadata": {
      "needs_background": "light"
     },
     "output_type": "display_data"
    }
   ],
   "source": [
    "# the following funtion stress tests the above function\n",
    "# and returns its growth w.r.t to input size\n",
    "y=[]\n",
    "x=[]\n",
    "c=0\n",
    "print(f'testing...')\n",
    "for lim in range(pow(10,2), pow(10,5), 1000):\n",
    "    c += 1\n",
    "    \n",
    "    y.append(test_fun(lim,lb,ub)) #records time retuned by test_fun\n",
    "    x.append(lim)                 #records number of elements \n",
    "    \n",
    "    #progress calculator\n",
    "    temp = int((c*1000 / (pow(10,5) - pow(10,2)))*100)\n",
    "    if temp % 10 == 0: #prints for 10% interval\n",
    "        print(f'\\t {temp}% done!')\n",
    "        \n",
    "#plotting params \n",
    "plt.yscale('log')\n",
    "plt.xlabel('Number of items')\n",
    "plt.ylabel('time consumed in Sec')\n",
    "plt.plot(x,y,'r');\n",
    "plt.show()"
   ]
  },
  {
   "cell_type": "markdown",
   "metadata": {},
   "source": [
    "## Dequeue"
   ]
  },
  {
   "cell_type": "code",
   "execution_count": 325,
   "metadata": {},
   "outputs": [
    {
     "data": {
      "text/plain": [
       "deque(['a', 'b', 'c', 'd', 'e'])"
      ]
     },
     "execution_count": 325,
     "metadata": {},
     "output_type": "execute_result"
    }
   ],
   "source": [
    "# initialize using any iterable/collection object\n",
    "dq = col.deque('abcde')\n",
    "dq"
   ]
  },
  {
   "cell_type": "code",
   "execution_count": 326,
   "metadata": {},
   "outputs": [
    {
     "name": "stdout",
     "output_type": "stream",
     "text": [
      "deque(['a', 'b', 'c', 'd', 'e', 'x'])\n",
      "deque(['y', 'a', 'b', 'c', 'd', 'e', 'x'])\n"
     ]
    }
   ],
   "source": [
    "# insert from either ends\n",
    "dq.append('x')\n",
    "print(dq)\n",
    "dq.appendleft('y')\n",
    "print(dq)"
   ]
  },
  {
   "cell_type": "code",
   "execution_count": 328,
   "metadata": {},
   "outputs": [
    {
     "name": "stdout",
     "output_type": "stream",
     "text": [
      "deque(['y', 'a', 'b', 'c', 'd', 'e'])\n",
      "deque(['a', 'b', 'c', 'd', 'e'])\n"
     ]
    }
   ],
   "source": [
    "# remove from either ends\n",
    "dq.pop()\n",
    "print(dq)\n",
    "dq.popleft()\n",
    "print(dq)"
   ]
  },
  {
   "cell_type": "code",
   "execution_count": 329,
   "metadata": {},
   "outputs": [
    {
     "name": "stdout",
     "output_type": "stream",
     "text": [
      "deque(['c', 'd', 'e', 'a', 'b'])\n",
      "deque(['a', 'b', 'c', 'd', 'e'])\n"
     ]
    }
   ],
   "source": [
    "# rotate\n",
    "dq.rotate(3)\n",
    "print(dq)\n",
    "dq.rotate(-3)\n",
    "print(dq)"
   ]
  },
  {
   "cell_type": "markdown",
   "metadata": {},
   "source": [
    "# Advanced python class features\n",
    "* create enumeration\n",
    "* customised string and bytes representation of objects\n",
    "* define computed and default attributes\n",
    "* control how objects are logically compared to eachother \n",
    "* give objects numeric-like behaviour (add, sub etc.)"
   ]
  },
  {
   "cell_type": "markdown",
   "metadata": {},
   "source": [
    "## Enumeration\n"
   ]
  },
  {
   "cell_type": "code",
   "execution_count": 331,
   "metadata": {},
   "outputs": [
    {
     "ename": "SyntaxError",
     "evalue": "unexpected EOF while parsing (<ipython-input-331-604cf6c9c372>, line 4)",
     "output_type": "error",
     "traceback": [
      "\u001b[0;36m  File \u001b[0;32m\"<ipython-input-331-604cf6c9c372>\"\u001b[0;36m, line \u001b[0;32m4\u001b[0m\n\u001b[0;31m    \u001b[0m\n\u001b[0m    ^\u001b[0m\n\u001b[0;31mSyntaxError\u001b[0m\u001b[0;31m:\u001b[0m unexpected EOF while parsing\n"
     ]
    }
   ],
   "source": [
    "from enum import Enum\n",
    "\n",
    "class Test(Enum):\n",
    "    "
   ]
  },
  {
   "cell_type": "code",
   "execution_count": null,
   "metadata": {},
   "outputs": [],
   "source": []
  }
 ],
 "metadata": {
  "kernelspec": {
   "display_name": "Python 3",
   "language": "python",
   "name": "python3"
  },
  "language_info": {
   "codemirror_mode": {
    "name": "ipython",
    "version": 3
   },
   "file_extension": ".py",
   "mimetype": "text/x-python",
   "name": "python",
   "nbconvert_exporter": "python",
   "pygments_lexer": "ipython3",
   "version": "3.7.7"
  }
 },
 "nbformat": 4,
 "nbformat_minor": 4
}

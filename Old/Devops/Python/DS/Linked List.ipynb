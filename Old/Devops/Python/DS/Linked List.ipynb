{
 "cells": [
  {
   "cell_type": "markdown",
   "metadata": {},
   "source": [
    "Problem : https://www.hackerrank.com/challenges/print-the-elements-of-a-linked-list/problem"
   ]
  },
  {
   "cell_type": "code",
   "execution_count": 1,
   "metadata": {},
   "outputs": [],
   "source": [
    "def printLinkedList(head):\n",
    "    n = head\n",
    "    while n != None:\n",
    "        print(n.data)\n",
    "        n = n.next"
   ]
  },
  {
   "cell_type": "markdown",
   "metadata": {},
   "source": [
    "## Insert a Node at the Tail of a Linked List\n",
    "\n",
    "Desc : You are given the pointer to the head node of a linked list and an integer to add to the list. Create a new node with the given integer. Insert this node at the tail of the linked list and return the head node of the linked list formed after inserting this new node. The given head pointer may be null, meaning that the initial list is empty.\n",
    "\n",
    "* https://www.hackerrank.com/challenges/insert-a-node-at-the-tail-of-a-linked-list/problem"
   ]
  },
  {
   "cell_type": "code",
   "execution_count": 2,
   "metadata": {},
   "outputs": [],
   "source": [
    "def insertNodeAtTail(head, data):\n",
    "    if head == None:\n",
    "        head= SinglyLinkedListNode(data)\n",
    "    else:\n",
    "        node = head\n",
    "        while node.next != None:\n",
    "            node = node.next\n",
    "        node.next = SinglyLinkedListNode(data)\n",
    "    return head"
   ]
  },
  {
   "cell_type": "markdown",
   "metadata": {},
   "source": [
    "## Insert a node at the head of a linked list\n",
    "\n",
    "You’re given the pointer to the head node of a linked list and an integer to add to the list. Create a new node with the given integer, insert this node at the head of the linked list and return the new head node. The head pointer given may be null meaning that the initial list is empty.\n",
    "* https://www.hackerrank.com/challenges/insert-a-node-at-the-head-of-a-linked-list/problem"
   ]
  },
  {
   "cell_type": "code",
   "execution_count": 3,
   "metadata": {},
   "outputs": [],
   "source": [
    "def insertNodeAtHead(llist, data):\n",
    "    new_node = SinglyLinkedListNode(data)\n",
    "    if llist == None:\n",
    "        llist = new_node\n",
    "    else:\n",
    "        new_node.next=llist\n",
    "        llist=new_node\n",
    "    return llist"
   ]
  },
  {
   "cell_type": "markdown",
   "metadata": {},
   "source": [
    "## Insert a node at a specific position in a linked list\n",
    "\n",
    "You’re given the pointer to the head node of a linked list, an integer to add to the list and the position at which the integer must be inserted. Create a new node with the given integer, insert this node at the desired position and return the head node.\n",
    "A position of 0 indicates head, a position of 1 indicates one node away from the head and so on. The head pointer given may be null meaning that the initial list is empty."
   ]
  },
  {
   "cell_type": "code",
   "execution_count": 4,
   "metadata": {},
   "outputs": [],
   "source": [
    "def insertNodeAtPosition(head, data, position):\n",
    "    new_node = SinglyLinkedListNode(data)\n",
    "    if head == None:\n",
    "        head = new_node\n",
    "    else:\n",
    "        n = head\n",
    "        for i in range(1,position):\n",
    "            n = n.next\n",
    "        temp = n.next\n",
    "        n.next = new_node\n",
    "        new_node.next = temp\n",
    "    return head"
   ]
  },
  {
   "cell_type": "markdown",
   "metadata": {},
   "source": [
    "## Delete a Node\n",
    "You’re given the pointer to the head node of a linked list and the position of a node to delete. Delete the node at the given position and return the head node. A position of 0 indicates head, a position of 1 indicates one node away from the head and so on. The list may become empty after you delete the node."
   ]
  },
  {
   "cell_type": "code",
   "execution_count": 6,
   "metadata": {},
   "outputs": [],
   "source": [
    "def deleteNode(head, position):\n",
    "    if head == None or head.next == None:\n",
    "        return None\n",
    "    else:\n",
    "        n = head\n",
    "        for i in range(1,position):\n",
    "            n = n.next \n",
    "        temp = n.next\n",
    "        if temp != None:\n",
    "            n.next = temp.next\n",
    "            del(temp)\n",
    "        else:\n",
    "            n.next=None\n",
    "    return head"
   ]
  },
  {
   "cell_type": "markdown",
   "metadata": {},
   "source": [
    "## Print in Reverse\n",
    "\n",
    "You are given the pointer to the head node of a linked list and you need to print all its elements in reverse order from tail to head, one element per line. The head pointer may be null meaning that the list is empty - in that case, do not print anything!\n",
    "* https://www.hackerrank.com/challenges/print-the-elements-of-a-linked-list-in-reverse/problem?isFullScreen=false"
   ]
  },
  {
   "cell_type": "code",
   "execution_count": 7,
   "metadata": {},
   "outputs": [],
   "source": [
    "def reversePrint(head):\n",
    "    stack = [] \n",
    "    if head == None:\n",
    "        print(\"\")\n",
    "    else:\n",
    "        n=head\n",
    "        while n!=None:\n",
    "            stack.insert(0,n.data)\n",
    "            n = n.next\n",
    "        for i in stack:\n",
    "            print(i)"
   ]
  },
  {
   "cell_type": "markdown",
   "metadata": {},
   "source": [
    "## Reverse a linked list\n",
    "\n",
    "You’re given the pointer to the head node of a linked list. Change the next pointers of the nodes so that their order is reversed. The head pointer given may be null meaning that the initial list is empty.\n",
    "* https://www.hackerrank.com/challenges/reverse-a-linked-list/problem"
   ]
  },
  {
   "cell_type": "code",
   "execution_count": 8,
   "metadata": {},
   "outputs": [],
   "source": [
    "def reverse(head):\n",
    "    if head != None:\n",
    "        stack = []\n",
    "        \n",
    "        n = head\n",
    "        while n!= None:\n",
    "            stack.insert(0,n.data)\n",
    "            n = n.next\n",
    "        \n",
    "        n=head\n",
    "        while n!= None: \n",
    "            n.data = stack.pop(0)\n",
    "            n = n.next\n",
    "        \n",
    "    return head"
   ]
  },
  {
   "cell_type": "markdown",
   "metadata": {},
   "source": [
    "## Compare two linked lists\n",
    "\n",
    "You’re given the pointer to the head nodes of two linked lists. Compare the data in the nodes of the linked lists to check if they are equal. The lists are equal only if they have the same number of nodes and corresponding nodes contain the same data. Either head pointer given may be null meaning that the corresponding list is empty.\n",
    "* https://www.hackerrank.com/challenges/compare-two-linked-lists/problem"
   ]
  },
  {
   "cell_type": "code",
   "execution_count": null,
   "metadata": {},
   "outputs": [],
   "source": []
  },
  {
   "cell_type": "markdown",
   "metadata": {},
   "source": [
    "## Cycle Detection\n",
    "A linked list is said to contain a cycle if any node is visited more than once while traversing the list.\n",
    "\n",
    "Complete the function provided for you in your editor. It has one parameter: a pointer to a Node object named __Head__  that points to the head of a linked list. Your function must return a boolean denoting whether or not there is a cycle in the list. If there is a cycle, return true; otherwise, return false.\n",
    "* https://www.hackerrank.com/challenges/detect-whether-a-linked-list-contains-a-cycle/problem"
   ]
  },
  {
   "cell_type": "code",
   "execution_count": 1,
   "metadata": {},
   "outputs": [],
   "source": [
    "stack = []\n",
    "def has_cycle(head):\n",
    "    global stack\n",
    "    if head == None:\n",
    "        return False\n",
    "    n=head\n",
    "    while n.next != None:\n",
    "        if n.next in stack:\n",
    "            return True\n",
    "        else:\n",
    "            stack.append(n.next)\n",
    "            n = n.next\n",
    "    return False"
   ]
  },
  {
   "cell_type": "code",
   "execution_count": null,
   "metadata": {},
   "outputs": [],
   "source": []
  }
 ],
 "metadata": {
  "kernelspec": {
   "display_name": "Python 3",
   "language": "python",
   "name": "python3"
  },
  "language_info": {
   "codemirror_mode": {
    "name": "ipython",
    "version": 3
   },
   "file_extension": ".py",
   "mimetype": "text/x-python",
   "name": "python",
   "nbconvert_exporter": "python",
   "pygments_lexer": "ipython3",
   "version": "3.7.7"
  }
 },
 "nbformat": 4,
 "nbformat_minor": 4
}

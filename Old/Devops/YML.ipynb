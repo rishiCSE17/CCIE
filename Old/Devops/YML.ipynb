{
 "cells": [
  {
   "cell_type": "markdown",
   "metadata": {},
   "source": [
    "# Intro"
   ]
  },
  {
   "cell_type": "markdown",
   "metadata": {},
   "source": [
    "* YML is a data serialization language. \n",
    "* Similar to JSON but more readable and clean \n",
    "* extensions : `*.yml` and `*.yaml`"
   ]
  },
  {
   "cell_type": "markdown",
   "metadata": {},
   "source": [
    "## creating objects\n",
    "scopes are defined by indentation "
   ]
  },
  {
   "cell_type": "markdown",
   "metadata": {},
   "source": [
    "```\n",
    "# this is a comment \n",
    "person:\n",
    "    name1: 'this is a string'\n",
    "    name2: \"This is also a string\"\n",
    "    num1: 30\n",
    "    num2: 3.5\n",
    "    num3: 1e+10   #this is an exponential number\n",
    "    res: true     #boolean\n",
    "    bday: 1994-02-06 14:33:22         #ISO 8601 std for date-time\n",
    "    x: null\n",
    "```\n",
    "Access the members by `.`(dot) operators e.g. `person.name1`"
   ]
  },
  {
   "cell_type": "markdown",
   "metadata": {},
   "source": [
    "## Lists\n",
    "use `-` or `[]` operators to put items\n",
    "```\n",
    "hobbies:\n",
    "    - hiking\n",
    "    - movies\n",
    "    - riding \n",
    "movies: ['mib', 'mi3']\n",
    "```"
   ]
  },
  {
   "cell_type": "markdown",
   "metadata": {},
   "source": [
    "## List of objects "
   ]
  },
  {
   "cell_type": "markdown",
   "metadata": {},
   "source": [
    "use `-` to denote a new entry and keep object's members alligned or use `{}` to denote object scope\n",
    "```\n",
    "friend:\n",
    "    - name: 'abc'\n",
    "      age: 23\n",
    "    - {name: 'pqr', age: 22}\n",
    "```"
   ]
  },
  {
   "cell_type": "markdown",
   "metadata": {},
   "source": [
    "## Storing a long text\n",
    "use `>` operator to store a large amount of space into a single line regardless of its formatting \n",
    "```\n",
    "description: >\n",
    "    this is a lot of text\n",
    "    and a lot of text\n",
    "    a lot a lot a lot\n",
    "    finished here!\n",
    "```\n",
    "use `|` to preserve the formatting \n",
    "```\n",
    "description: |\n",
    "    line1: this is a lot of text\n",
    "    line2: and a lot of text\n",
    "    line3: a lot a lot a lot\n",
    "    line4: finished here!\n",
    "```\n"
   ]
  },
  {
   "cell_type": "markdown",
   "metadata": {},
   "source": [
    "## Anchering \n",
    "reusing a value in a script `&var value` to store `value` into a variable called `var` and `*var` to be replaced by the value. \n",
    "\n",
    "```\n",
    "name: &a 'abc'\n",
    "name_again: *a\n",
    "```\n",
    "You can also ancher an object.\n",
    "\n",
    "```\n",
    "obj1: &ob1\n",
    "    var1: 'something'\n",
    "    var2: 25\n",
    "\n",
    "obj2:\n",
    "    <<: *ob2\n",
    "```    "
   ]
  },
  {
   "cell_type": "markdown",
   "metadata": {},
   "source": [
    "## Typecasting \n",
    "```\n",
    "!!float 23  #renders 23 into 23.0\n",
    "!!str 2.5   #renders as string \n",
    "!!int '25'  #renders as 25 int\n",
    "```"
   ]
  },
  {
   "cell_type": "code",
   "execution_count": null,
   "metadata": {},
   "outputs": [],
   "source": []
  }
 ],
 "metadata": {
  "kernelspec": {
   "display_name": "Python 3",
   "language": "python",
   "name": "python3"
  },
  "language_info": {
   "codemirror_mode": {
    "name": "ipython",
    "version": 3
   },
   "file_extension": ".py",
   "mimetype": "text/x-python",
   "name": "python",
   "nbconvert_exporter": "python",
   "pygments_lexer": "ipython3",
   "version": "3.7.7"
  }
 },
 "nbformat": 4,
 "nbformat_minor": 4
}

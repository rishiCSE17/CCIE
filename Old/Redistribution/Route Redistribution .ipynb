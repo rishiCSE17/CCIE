{
 "cells": [
  {
   "cell_type": "markdown",
   "metadata": {},
   "source": [
    "# Inter AS EIGRP "
   ]
  },
  {
   "cell_type": "markdown",
   "metadata": {},
   "source": [
    "## Topology \n",
    "![](pic/inter_as_eigrp.png)\n",
    "\n",
    "### some baseic facts\n",
    "1. redistribution is done inside the routing config mode of a running protocol \n",
    "2. is redistribution _proto1_ inside _proto2_ config it implies, __injecting routes from proto1 into proto2__\n",
    "3. for inter-prococol redistribution (__seed__) metric is optional but for inter-ptocol it is mandatory \n",
    "4. A selective route redistribution can be done with __Route Map__"
   ]
  },
  {
   "cell_type": "markdown",
   "metadata": {},
   "source": [
    "## Basic config "
   ]
  },
  {
   "cell_type": "markdown",
   "metadata": {},
   "source": [
    "`\n",
    "! R1\n",
    "!********************************\n",
    "conf t \n",
    "int s1/0 \n",
    "ip add 12.0.0.1 255.255.255.252\n",
    "no sh \n",
    "int s1/1 \n",
    "ip add 13.0.0.1 255.255.255.252\n",
    "no sh \n",
    "exit \n",
    "router eigrp 12\n",
    "no auto \n",
    "net 0.0.0.0 \n",
    "end \n",
    "wr`"
   ]
  },
  {
   "cell_type": "markdown",
   "metadata": {},
   "source": [
    "`\n",
    "! R2\n",
    "!********************************\n",
    "conf t \n",
    "int s1/0 \n",
    "ip add 12.0.0.2 255.255.255.252\n",
    "no sh \n",
    "int l0\n",
    "ip add 2.2.2.1 255.255.255.0\n",
    "no sh \n",
    "exit \n",
    "router eigrp 12\n",
    "no auto \n",
    "net 0.0.0.0 \n",
    "end \n",
    "wr`"
   ]
  },
  {
   "cell_type": "markdown",
   "metadata": {},
   "source": [
    "`\n",
    "! R2\n",
    "!********************************\n",
    "conf t \n",
    "int s1/0 \n",
    "ip add 13.0.0.2 255.255.255.252\n",
    "no sh \n",
    "int l0\n",
    "ip add 3.3.3.1 255.255.255.0\n",
    "no sh \n",
    "exit \n",
    "router eigrp 13\n",
    "no auto \n",
    "net 0.0.0.0 \n",
    "end \n",
    "wr`"
   ]
  },
  {
   "cell_type": "markdown",
   "metadata": {},
   "source": [
    "## Routing Tables "
   ]
  },
  {
   "cell_type": "markdown",
   "metadata": {},
   "source": [
    "`R1#sh ip route \n",
    "     2.0.0.0/24 is subnetted, 1 subnets\n",
    "D       2.2.2.0 [90/2297856] via 12.0.0.2, 00:19:44, Serial1/0\n",
    "     3.0.0.0/24 is subnetted, 1 subnets\n",
    "D       3.3.3.0 [90/2297856] via 13.0.0.2, 00:19:05, Serial1/1\n",
    "     12.0.0.0/30 is subnetted, 1 subnets\n",
    "C       12.0.0.0 is directly connected, Serial1/0\n",
    "     13.0.0.0/30 is subnetted, 1 subnets\n",
    "C       13.0.0.0 is directly connected, Serial1/1`"
   ]
  },
  {
   "cell_type": "markdown",
   "metadata": {},
   "source": [
    "`R2#sh ip route \n",
    "     2.0.0.0/24 is subnetted, 1 subnets\n",
    "C       2.2.2.0 is directly connected, Loopback0\n",
    "     12.0.0.0/30 is subnetted, 1 subnets\n",
    "C       12.0.0.0 is directly connected, Serial1/0\n",
    "     13.0.0.0/30 is subnetted, 1 subnets\n",
    "D       13.0.0.0 [90/2681856] via 12.0.0.1, 00:18:53, Serial1/0`"
   ]
  },
  {
   "cell_type": "markdown",
   "metadata": {},
   "source": [
    "`R3#sh ip route    \n",
    "    3.0.0.0/24 is subnetted, 1 subnets\n",
    "C       3.3.3.0 is directly connected, Loopback0\n",
    "     12.0.0.0/30 is subnetted, 1 subnets\n",
    "D       12.0.0.0 [90/2681856] via 13.0.0.1, 00:17:27, Serial1/0\n",
    "     13.0.0.0/30 is subnetted, 1 subnets\n",
    "C       13.0.0.0 is directly connected, Serial1/0`"
   ]
  },
  {
   "cell_type": "markdown",
   "metadata": {},
   "source": [
    "* notice that, R2 cant see 3.3.3.0/24 network and R3 can't see 2.2.2.0/24 network.but R1 can see both. \n",
    "* There's no auto redistribution has no auto redistribution "
   ]
  },
  {
   "cell_type": "markdown",
   "metadata": {},
   "source": [
    "## Enabling inter-AS redistribution "
   ]
  },
  {
   "cell_type": "markdown",
   "metadata": {},
   "source": [
    "`\n",
    "! configure in R1 (redist point)\n",
    "! ***************************\n",
    "router eigrp 12\n",
    " redistribute eigrp 13\n",
    " exit` <p>\n",
    "   \n",
    "`\n",
    "! configure in R1 (redist point)\n",
    "! ***************************\n",
    " router eigrp 13\n",
    " redistribute eigrp 12\n",
    " exit`"
   ]
  },
  {
   "cell_type": "markdown",
   "metadata": {},
   "source": [
    "## check the routing tables "
   ]
  },
  {
   "cell_type": "markdown",
   "metadata": {},
   "source": [
    "`R2#sh ip route eigrp\n",
    "     3.0.0.0/24 is subnetted, 1 subnets\n",
    "D EX    3.3.3.0 [170/2809856] via 12.0.0.1, 00:16:03, Serial1/0\n",
    "     13.0.0.0/30 is subnetted, 1 subnets\n",
    "D       13.0.0.0 [90/2681856] via 12.0.0.1, 00:39:48, Serial1/0`\n",
    "\n",
    "`R3#sh ip route eigrp\n",
    "     2.0.0.0/24 is subnetted, 1 subnets\n",
    "D EX    2.2.2.0 [170/2809856] via 13.0.0.1, 00:16:22, Serial1/0\n",
    "     12.0.0.0/30 is subnetted, 1 subnets\n",
    "D       12.0.0.0 [90/2681856] via 13.0.0.1, 00:39:43, Serial1/0\n",
    "`\n",
    "* notice __D EX__ routes with metric __170__ is the redistributed routes"
   ]
  },
  {
   "cell_type": "markdown",
   "metadata": {},
   "source": [
    "# Inter Routing Protocol Redistribution ( RIPv2 - EIGRP) "
   ]
  },
  {
   "cell_type": "markdown",
   "metadata": {},
   "source": [
    "* RIP's default metric is Hop count (not so realistic as bandwidth is not considered) "
   ]
  },
  {
   "cell_type": "markdown",
   "metadata": {},
   "source": [
    "## topology\n",
    "\n",
    "![](pic/rip_eigrp.png)"
   ]
  },
  {
   "cell_type": "markdown",
   "metadata": {},
   "source": [
    "## Basic Config "
   ]
  },
  {
   "cell_type": "markdown",
   "metadata": {},
   "source": [
    "### Activating RIPv2 at R4\n",
    "` s1/0\n",
    "  int s1/0\n",
    "  ip add 14.0.0.2 255.255.255.0\n",
    "  ip add 14.0.0.2 255.255.255.252\n",
    "  no sh\n",
    "  int l0\n",
    "  ip address 4.4.4.1 255.255.255.0\n",
    "  exit\n",
    "  router rip\n",
    "  version 2\n",
    "  network 0.0.0.0\n",
    "`\n",
    "\n",
    "### Activating RIPv2 at R2\n",
    "` int s1/2\n",
    "  ip address 14.0.0.1 255.255.255.252\n",
    "  no sh\n",
    "  exit\n",
    "  router rip\n",
    "  v2\n",
    "  version 2\n",
    "  network 0.0.0.0\n",
    "`\n",
    "\n",
    "### check the routing tables\n",
    "`!R1\n",
    "sh ip route rip\n",
    "R    4.0.0.0/8 [120/1] via 14.0.0.2, 00:00:29, Serial1/2\n",
    "`\n",
    "<p>\n",
    "    \n",
    "`!R4\n",
    "R4#sh ip route rip\n",
    "R    12.0.0.0/8 [120/1] via 14.0.0.1, 00:00:12, Serial1/0\n",
    "R    13.0.0.0/8 [120/1] via 14.0.0.1, 00:00:12, Serial1/0`\n"
   ]
  },
  {
   "cell_type": "markdown",
   "metadata": {},
   "source": [
    "## Perform Inter-protocol reditribution \n",
    "\n",
    "* while redistributing a protocol into another, careful seed matrix is important to perform optimal redistribution\n",
    "* a flaued seed metric may destry routing descissions \n",
    "* EIGRP metrics are : Bandwidth, Delay, Load, Reliability & MTU\n",
    "* out of 5, __BW, DLY & MTU__ is static get it from corresponding interface \n",
    "* keep Load = 1 (min) and Reliability = 255 (max) while config "
   ]
  },
  {
   "cell_type": "markdown",
   "metadata": {},
   "source": [
    "### step 1 : Gather seed metric values of EIGRP for RIP route\n",
    "`\n",
    "R1#sh int s1/0 | inc MTU\n",
    "  MTU 1500 bytes, BW 1544 Kbit/sec, DLY 20000 usec\n",
    "`\n",
    "\n",
    "### step 2 : redistribute RIP into all EIGRP ASs\n",
    "BW measured in kbps, DLY measured in 10 usec\n",
    "\n",
    "`\n",
    "router eigrp 13\n",
    "  redistribute rip metric 1544 2000 255 1 1500\n",
    "router eigrp 12\n",
    "  redistribute rip metric 1544 2000 255 1 1500\n",
    "`\n",
    "\n",
    "### step 3 : redistribute EIGRP into RIP domain \n",
    "metric is hop count, since RIP router is 1 hop away from redistribution point, thus metric = 1\n",
    "\n",
    "`router rip\n",
    "  version 2\n",
    "  redistribute eigrp 12 metric 1\n",
    "  redistribute eigrp 13 metric 1\n",
    "  router eigrp 12`\n",
    "  \n",
    "### step 4 : verify routing tables \n",
    "__From R2__\n",
    "\n",
    "`     2.0.0.0/24 is subnetted, 1 subnets\n",
    "C       2.2.2.0 is directly connected, Loopback0\n",
    "     3.0.0.0/24 is subnetted, 1 subnets\n",
    "D EX    3.3.3.0 [170/2809856] via 12.0.0.1, 01:45:42, Serial1/0\n",
    "     4.0.0.0/24 is subnetted, 1 subnets\n",
    "D EX    4.4.4.0 [170/2681856] via 12.0.0.1, 00:00:12, Serial1/0\n",
    "     12.0.0.0/30 is subnetted, 1 subnets\n",
    "C       12.0.0.0 is directly connected, Serial1/0\n",
    "     13.0.0.0/30 is subnetted, 1 subnets\n",
    "D       13.0.0.0 [90/2681856] via 12.0.0.1, 02:09:26, Serial1/0\n",
    "     14.0.0.0/30 is subnetted, 1 subnets\n",
    "D       14.0.0.0 [90/2681856] via 12.0.0.1, 00:26:16, Serial1/0\n",
    "`\n",
    "\n",
    "__from R4__\n",
    "\n",
    "`     2.0.0.0/24 is subnetted, 1 subnets\n",
    "R       2.2.2.0 [120/1] via 14.0.0.1, 00:00:09, Serial1/0\n",
    "     3.0.0.0/24 is subnetted, 1 subnets\n",
    "R       3.3.3.0 [120/1] via 14.0.0.1, 00:00:05, Serial1/0\n",
    "     4.0.0.0/24 is subnetted, 1 subnets\n",
    "C       4.4.4.0 is directly connected, Loopback0\n",
    "     12.0.0.0/30 is subnetted, 1 subnets\n",
    "R       12.0.0.0 [120/1] via 14.0.0.1, 00:00:17, Serial1/0\n",
    "     13.0.0.0/30 is subnetted, 1 subnets\n",
    "R       13.0.0.0 [120/1] via 14.0.0.1, 00:00:17, Serial1/0\n",
    "     14.0.0.0/30 is subnetted, 1 subnets\n",
    "C       14.0.0.0 is directly connected, Serial1/0`\n",
    "\n",
    "### step 5  : test round trip reachability\n",
    "* seeing routes in table is not enough, packet must reach and come back. thus do a __Ping Test__ \n",
    "* here pinging a network in RIP domain from EIGRP domain\n",
    "* a common fault of not having a ping back if the redistribution is not set both way\n",
    "* a __`debug ip packet`__ command is useful, you must an entry with subjected source, destination  packet with status __Unable__\n",
    "\n",
    "`R2#ping 4.4.4.1\n",
    "Type escape sequence to abort.\n",
    "Sending 5, 100-byte ICMP Echos to 4.4.4.1, timeout is 2 seconds:\n",
    "!!!!!\n",
    "Success rate is 100 percent (5/5), round-trip min/avg/max = 88/92/104 ms\n",
    "`"
   ]
  },
  {
   "cell_type": "markdown",
   "metadata": {},
   "source": [
    "# Reditribute Inter Routing Protocol Redistribution ( RIPv2 - EIGRP - OSPF) "
   ]
  },
  {
   "cell_type": "markdown",
   "metadata": {},
   "source": [
    "## Topology\n",
    "![](pic/rip-eigrp-ospf.png)"
   ]
  },
  {
   "cell_type": "markdown",
   "metadata": {},
   "source": [
    "### Configure OSPF in R5 & R1\n",
    "__R1__\n",
    "\n",
    "`int s1/3\n",
    "  ip add 15.0.0.1 255.255.255.252\n",
    "  no sh\n",
    "exit\n",
    "  router ospf 1\n",
    "  network 0.0.0.0 0.0.0.0 area 0`\n",
    "\n",
    "\n",
    "\n",
    "__R5__\n",
    "\n",
    "`\n",
    "int s1/0\n",
    "  ip address 15.0.0.2 255.255.255.252\n",
    "  no sh\n",
    "  int l0\n",
    "  ip add 5.5.5.1\n",
    "  ip add 5.5.5.1 255.255.255.0\n",
    "exit\n",
    "  router ospf 1\n",
    "  network 0.0.0.0 0.0.0.0 area 0\n",
    "`\n"
   ]
  },
  {
   "cell_type": "markdown",
   "metadata": {},
   "source": [
    "### Redistribute OSPF into EIGRP & RIP \n",
    "\n",
    "`\n",
    "router eigrp 12\n",
    "  redistribute ospf 1 metric 1544 2000 255 1  1500\n",
    "  exit\n",
    "router eigrp 13\n",
    "  redistribute ospf 1 metric 1544 2000 255 1  1500\n",
    "  exit\n",
    "router rip\n",
    "  ver 2\n",
    "  redistribute ospf 1 metric 1`\n",
    "  \n",
    "### Redistribute EIGRP & RIP into OSPF\n",
    "The __subnet__ command is important to make sure redistributing __classless routes__ \n",
    "\n",
    "`  \n",
    "router ospf 1\n",
    "  redistribute rip metric 1000 subnets\n",
    "  redistribute eigrp 13 metric 1000 subnets\n",
    "  redistribute eigrp 12 metric 1000 subnets`"
   ]
  },
  {
   "cell_type": "markdown",
   "metadata": {},
   "source": [
    "### verify Routing tables \n",
    "\n",
    "__From R2__\n",
    "\n",
    "`R2#sh ip route eigrp\n",
    "     3.0.0.0/24 is subnetted, 1 subnets\n",
    "D EX    3.3.3.0 [170/2809856] via 12.0.0.1, 02:46:24, Serial1/0\n",
    "     4.0.0.0/24 is subnetted, 1 subnets\n",
    "D EX    4.4.4.0 [170/2681856] via 12.0.0.1, 01:00:55, Serial1/0\n",
    "     5.0.0.0/32 is subnetted, 1 subnets\n",
    "D EX    5.5.5.1 [170/2681856] via 12.0.0.1, 00:10:09, Serial1/0\n",
    "     13.0.0.0/30 is subnetted, 1 subnets\n",
    "D       13.0.0.0 [90/2681856] via 12.0.0.1, 03:10:09, Serial1/0\n",
    "     14.0.0.0/30 is subnetted, 1 subnets\n",
    "D       14.0.0.0 [90/2681856] via 12.0.0.1, 01:26:57, Serial1/0\n",
    "     15.0.0.0/30 is subnetted, 1 subnets\n",
    "D       15.0.0.0 [90/2681856] via 12.0.0.1, 00:20:56, Serial1/0`\n",
    "\n",
    "__From R4__\n",
    "\n",
    "`R4#sh ip route rip\n",
    "     2.0.0.0/24 is subnetted, 1 subnets\n",
    "R       2.2.2.0 [120/1] via 14.0.0.1, 00:00:06, Serial1/0\n",
    "     3.0.0.0/24 is subnetted, 1 subnets\n",
    "R       3.3.3.0 [120/1] via 14.0.0.1, 00:00:06, Serial1/0\n",
    "     5.0.0.0/32 is subnetted, 1 subnets\n",
    "R       5.5.5.1 [120/1] via 14.0.0.1, 00:00:06, Serial1/0\n",
    "     12.0.0.0/30 is subnetted, 1 subnets\n",
    "R       12.0.0.0 [120/1] via 14.0.0.1, 00:00:06, Serial1/0\n",
    "     13.0.0.0/30 is subnetted, 1 subnets\n",
    "R       13.0.0.0 [120/1] via 14.0.0.1, 00:00:07, Serial1/0\n",
    "     15.0.0.0/30 is subnetted, 1 subnets\n",
    "R       15.0.0.0 [120/1] via 14.0.0.1, 00:00:07, Serial1/0`\n",
    "\n",
    "__From R5__\n",
    "1. check the metric at routing table is 1000 as given in Command\n",
    "2. E2 is OSPF external routes (type 2) - distance from ASBR, E1 : Distance from local router \n",
    "\n",
    "`R5#sh ip route ospf\n",
    "     2.0.0.0/24 is subnetted, 1 subnets\n",
    "O E2    2.2.2.0 [110/1000] via 15.0.0.1, 00:03:52, Serial1/0\n",
    "     3.0.0.0/24 is subnetted, 1 subnets\n",
    "O E2    3.3.3.0 [110/1000] via 15.0.0.1, 00:04:02, Serial1/0\n",
    "     4.0.0.0/24 is subnetted, 1 subnets\n",
    "O E2    4.4.4.0 [110/1000] via 15.0.0.1, 00:04:38, Serial1/0\n",
    "     12.0.0.0/30 is subnetted, 1 subnets\n",
    "O       12.0.0.0 [110/128] via 15.0.0.1, 00:08:58, Serial1/0\n",
    "     13.0.0.0/30 is subnetted, 1 subnets\n",
    "O       13.0.0.0 [110/128] via 15.0.0.1, 00:08:58, Serial1/0\n",
    "     14.0.0.0/30 is subnetted, 1 subnets\n",
    "O       14.0.0.0 [110/128] via 15.0.0.1, 00:08:58, Serial1/0`"
   ]
  },
  {
   "cell_type": "markdown",
   "metadata": {},
   "source": [
    "### verify round trip reachability \n",
    "\n",
    "`R2#traceroute 5.5.5.1\n",
    "Type escape sequence to abort.\n",
    "Tracing the route to 5.5.5.1\n",
    "  1 12.0.0.1 4 msec 16 msec 20 msec\n",
    "  2 15.0.0.2 32 msec 36 msec 36 msec\n",
    "`"
   ]
  },
  {
   "cell_type": "markdown",
   "metadata": {},
   "source": [
    "# Sub-optimal Routing & Routing Loop\n",
    "\n",
    "* sometimes redistribution may create routing loop, i.e. dorwaring packet back and forth between routers \n",
    "* sub-optimal routing is thus used, forcing packet to take a non-Best path to reach the destination \n",
    "* ping can't detact routing loop\n",
    "* Traceroute can detect, you'll see same address appearing again an again "
   ]
  },
  {
   "cell_type": "markdown",
   "metadata": {},
   "source": [
    "## Topology\n",
    "* Interfaces are configured \n",
    "* IGP is setup \n",
    "* bidirectional reditribution is setup \n",
    "![](pic\\SOR.png)"
   ]
  },
  {
   "cell_type": "code",
   "execution_count": null,
   "metadata": {},
   "outputs": [],
   "source": []
  }
 ],
 "metadata": {
  "kernelspec": {
   "display_name": "Python 3",
   "language": "python",
   "name": "python3"
  },
  "language_info": {
   "codemirror_mode": {
    "name": "ipython",
    "version": 3
   },
   "file_extension": ".py",
   "mimetype": "text/x-python",
   "name": "python",
   "nbconvert_exporter": "python",
   "pygments_lexer": "ipython3",
   "version": "3.7.1"
  }
 },
 "nbformat": 4,
 "nbformat_minor": 2
}
